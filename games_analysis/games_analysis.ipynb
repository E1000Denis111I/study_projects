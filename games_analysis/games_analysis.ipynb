{
 "cells": [
  {
   "cell_type": "markdown",
   "metadata": {},
   "source": [
    "#        АНАЛИЗ ПРОДАЖ ПЛАТФОРМЕННЫХ ИГР "
   ]
  },
  {
   "cell_type": "markdown",
   "metadata": {},
   "source": [
    "Целью данного проекта является выявление закономерностей, определяющих успех игры, для составления прогноза на 2017 год.  \n",
    "В качестве основы для анализа будем использовать датасет с историческими данными о продажах игр, оценками пользователей и экспертов, жанрами и платформами.  \n",
    "Проведем предобработку данных с дальнейшим пошаговым исследовательским анализом со всеми расчетами и визуализациями, необходимыми для выводов.  \n",
    "С помощью одного из статистических методов исследования проверим две гипотезы.  \n",
    "Подведем итоги и сделаем прогноз на 2017 год.\n"
   ]
  },
  {
   "cell_type": "markdown",
   "metadata": {},
   "source": [
    "1. [Открытие данных](#open_data)\n",
    "2. [Предобработка данных](#prepare_data)\n",
    "    * [Обработка пропусков, изменение типов данных и регистра](#prep_1)\n",
    "    * [Обработка дубликатов](#prep_2)\n",
    "3. [Исследовательский анализ данных](#analysis)\n",
    "    * [Распределение релизов по годам](#an_1)\n",
    "    * [Распределение суммарных продаж каждой платформы по годам](#an_2)\n",
    "    * [Выбор актуального периода для анализа](#an_3)\n",
    "    * [Топ-5 платформ](#an_4)\n",
    "    * [Влияние отзывов на продажи](#an_5)\n",
    "    * [Популярность жанров](#an_6)\n",
    "4. [Портрет пользователя каждого региона](#regions)\n",
    "    * [Распределение продаж платформ по регионам](#reg_1)\n",
    "    * [Распределение жанров по регионам](#reg_2)\n",
    "    * [Продажи регионов по рейтингам ESRB](#reg_3)\n",
    "5. [Проверка гипотез](#hypotheses)\n",
    "    * [Средние пользовательские рейтинги платформ Xbox One и PC одинаковые](#hyp_1)\n",
    "    * [Средние пользовательские рейтинги жанров Action и Sports разные](#hyp_2)\n",
    "6. [Общий вывод](#conclusion)"
   ]
  },
  {
   "cell_type": "markdown",
   "metadata": {},
   "source": [
    "# 1. Открытие данных\n",
    "<a id = \"open_data\"></a>"
   ]
  },
  {
   "cell_type": "code",
   "execution_count": 1,
   "metadata": {},
   "outputs": [],
   "source": [
    "import pandas as pd\n",
    "import numpy as np\n",
    "from scipy import stats as st\n",
    "import matplotlib.pyplot as plt\n",
    "import seaborn as sns\n",
    "from IPython.display import display_html\n",
    "from itertools import chain,cycle\n",
    "\n"
   ]
  },
  {
   "cell_type": "code",
   "execution_count": 2,
   "metadata": {},
   "outputs": [],
   "source": [
    "df = pd.read_csv('/datasets/games.csv')"
   ]
  },
  {
   "cell_type": "code",
   "execution_count": 3,
   "metadata": {},
   "outputs": [
    {
     "name": "stdout",
     "output_type": "stream",
     "text": [
      "<class 'pandas.core.frame.DataFrame'>\n",
      "RangeIndex: 16715 entries, 0 to 16714\n",
      "Data columns (total 11 columns):\n",
      "Name               16713 non-null object\n",
      "Platform           16715 non-null object\n",
      "Year_of_Release    16446 non-null float64\n",
      "Genre              16713 non-null object\n",
      "NA_sales           16715 non-null float64\n",
      "EU_sales           16715 non-null float64\n",
      "JP_sales           16715 non-null float64\n",
      "Other_sales        16715 non-null float64\n",
      "Critic_Score       8137 non-null float64\n",
      "User_Score         10014 non-null object\n",
      "Rating             9949 non-null object\n",
      "dtypes: float64(6), object(5)\n",
      "memory usage: 1.4+ MB\n"
     ]
    }
   ],
   "source": [
    "df.info()"
   ]
  },
  {
   "cell_type": "code",
   "execution_count": 4,
   "metadata": {
    "scrolled": false
   },
   "outputs": [
    {
     "data": {
      "text/html": [
       "<div>\n",
       "<style scoped>\n",
       "    .dataframe tbody tr th:only-of-type {\n",
       "        vertical-align: middle;\n",
       "    }\n",
       "\n",
       "    .dataframe tbody tr th {\n",
       "        vertical-align: top;\n",
       "    }\n",
       "\n",
       "    .dataframe thead th {\n",
       "        text-align: right;\n",
       "    }\n",
       "</style>\n",
       "<table border=\"1\" class=\"dataframe\">\n",
       "  <thead>\n",
       "    <tr style=\"text-align: right;\">\n",
       "      <th></th>\n",
       "      <th>Name</th>\n",
       "      <th>Platform</th>\n",
       "      <th>Year_of_Release</th>\n",
       "      <th>Genre</th>\n",
       "      <th>NA_sales</th>\n",
       "      <th>EU_sales</th>\n",
       "      <th>JP_sales</th>\n",
       "      <th>Other_sales</th>\n",
       "      <th>Critic_Score</th>\n",
       "      <th>User_Score</th>\n",
       "      <th>Rating</th>\n",
       "    </tr>\n",
       "  </thead>\n",
       "  <tbody>\n",
       "    <tr>\n",
       "      <td>0</td>\n",
       "      <td>Wii Sports</td>\n",
       "      <td>Wii</td>\n",
       "      <td>2006.0</td>\n",
       "      <td>Sports</td>\n",
       "      <td>41.36</td>\n",
       "      <td>28.96</td>\n",
       "      <td>3.77</td>\n",
       "      <td>8.45</td>\n",
       "      <td>76.0</td>\n",
       "      <td>8</td>\n",
       "      <td>E</td>\n",
       "    </tr>\n",
       "    <tr>\n",
       "      <td>1</td>\n",
       "      <td>Super Mario Bros.</td>\n",
       "      <td>NES</td>\n",
       "      <td>1985.0</td>\n",
       "      <td>Platform</td>\n",
       "      <td>29.08</td>\n",
       "      <td>3.58</td>\n",
       "      <td>6.81</td>\n",
       "      <td>0.77</td>\n",
       "      <td>NaN</td>\n",
       "      <td>NaN</td>\n",
       "      <td>NaN</td>\n",
       "    </tr>\n",
       "    <tr>\n",
       "      <td>2</td>\n",
       "      <td>Mario Kart Wii</td>\n",
       "      <td>Wii</td>\n",
       "      <td>2008.0</td>\n",
       "      <td>Racing</td>\n",
       "      <td>15.68</td>\n",
       "      <td>12.76</td>\n",
       "      <td>3.79</td>\n",
       "      <td>3.29</td>\n",
       "      <td>82.0</td>\n",
       "      <td>8.3</td>\n",
       "      <td>E</td>\n",
       "    </tr>\n",
       "    <tr>\n",
       "      <td>3</td>\n",
       "      <td>Wii Sports Resort</td>\n",
       "      <td>Wii</td>\n",
       "      <td>2009.0</td>\n",
       "      <td>Sports</td>\n",
       "      <td>15.61</td>\n",
       "      <td>10.93</td>\n",
       "      <td>3.28</td>\n",
       "      <td>2.95</td>\n",
       "      <td>80.0</td>\n",
       "      <td>8</td>\n",
       "      <td>E</td>\n",
       "    </tr>\n",
       "    <tr>\n",
       "      <td>4</td>\n",
       "      <td>Pokemon Red/Pokemon Blue</td>\n",
       "      <td>GB</td>\n",
       "      <td>1996.0</td>\n",
       "      <td>Role-Playing</td>\n",
       "      <td>11.27</td>\n",
       "      <td>8.89</td>\n",
       "      <td>10.22</td>\n",
       "      <td>1.00</td>\n",
       "      <td>NaN</td>\n",
       "      <td>NaN</td>\n",
       "      <td>NaN</td>\n",
       "    </tr>\n",
       "  </tbody>\n",
       "</table>\n",
       "</div>"
      ],
      "text/plain": [
       "                       Name Platform  Year_of_Release         Genre  NA_sales  \\\n",
       "0                Wii Sports      Wii           2006.0        Sports     41.36   \n",
       "1         Super Mario Bros.      NES           1985.0      Platform     29.08   \n",
       "2            Mario Kart Wii      Wii           2008.0        Racing     15.68   \n",
       "3         Wii Sports Resort      Wii           2009.0        Sports     15.61   \n",
       "4  Pokemon Red/Pokemon Blue       GB           1996.0  Role-Playing     11.27   \n",
       "\n",
       "   EU_sales  JP_sales  Other_sales  Critic_Score User_Score Rating  \n",
       "0     28.96      3.77         8.45          76.0          8      E  \n",
       "1      3.58      6.81         0.77           NaN        NaN    NaN  \n",
       "2     12.76      3.79         3.29          82.0        8.3      E  \n",
       "3     10.93      3.28         2.95          80.0          8      E  \n",
       "4      8.89     10.22         1.00           NaN        NaN    NaN  "
      ]
     },
     "execution_count": 4,
     "metadata": {},
     "output_type": "execute_result"
    }
   ],
   "source": [
    "df.head()"
   ]
  },
  {
   "cell_type": "markdown",
   "metadata": {},
   "source": [
    "# 2. Предобработка данных \n",
    "<a id = \"prepare_data\"></a>"
   ]
  },
  {
   "cell_type": "markdown",
   "metadata": {},
   "source": [
    "**Приведем названия столбцов к нижнему регистру, год выпуска приведем к целочисленному типу данных.**\n",
    "<a id = \"prep_1\"></a>"
   ]
  },
  {
   "cell_type": "code",
   "execution_count": 5,
   "metadata": {},
   "outputs": [],
   "source": [
    "df.columns = df.columns.str.lower()\n",
    "\n",
    "df['year_of_release'] = df['year_of_release'].astype('Int64')"
   ]
  },
  {
   "cell_type": "markdown",
   "metadata": {},
   "source": [
    "В столбце \"user_score\" есть значения \"tbd\" - To be detemined, что переводится как Будет определено. Вероятно было поставлено недостаточное количество оценок для определения рейтинга.  \n",
    "Заменим эти значения на NaN. И заменим тип данных на float64."
   ]
  },
  {
   "cell_type": "code",
   "execution_count": 6,
   "metadata": {},
   "outputs": [],
   "source": [
    "df['user_score'].replace('tbd', np.nan, inplace=True)\n",
    "df['user_score'] = df['user_score'].fillna(0).astype('float64').replace(0, np.nan)"
   ]
  },
  {
   "cell_type": "code",
   "execution_count": 7,
   "metadata": {},
   "outputs": [
    {
     "data": {
      "text/html": [
       "<div>\n",
       "<style scoped>\n",
       "    .dataframe tbody tr th:only-of-type {\n",
       "        vertical-align: middle;\n",
       "    }\n",
       "\n",
       "    .dataframe tbody tr th {\n",
       "        vertical-align: top;\n",
       "    }\n",
       "\n",
       "    .dataframe thead th {\n",
       "        text-align: right;\n",
       "    }\n",
       "</style>\n",
       "<table border=\"1\" class=\"dataframe\">\n",
       "  <thead>\n",
       "    <tr style=\"text-align: right;\">\n",
       "      <th></th>\n",
       "      <th>name</th>\n",
       "      <th>platform</th>\n",
       "      <th>year_of_release</th>\n",
       "      <th>genre</th>\n",
       "      <th>na_sales</th>\n",
       "      <th>eu_sales</th>\n",
       "      <th>jp_sales</th>\n",
       "      <th>other_sales</th>\n",
       "      <th>critic_score</th>\n",
       "      <th>user_score</th>\n",
       "      <th>rating</th>\n",
       "    </tr>\n",
       "  </thead>\n",
       "  <tbody>\n",
       "    <tr>\n",
       "      <td>0</td>\n",
       "      <td>Wii Sports</td>\n",
       "      <td>Wii</td>\n",
       "      <td>2006</td>\n",
       "      <td>Sports</td>\n",
       "      <td>41.36</td>\n",
       "      <td>28.96</td>\n",
       "      <td>3.77</td>\n",
       "      <td>8.45</td>\n",
       "      <td>76.0</td>\n",
       "      <td>8.0</td>\n",
       "      <td>E</td>\n",
       "    </tr>\n",
       "    <tr>\n",
       "      <td>1</td>\n",
       "      <td>Super Mario Bros.</td>\n",
       "      <td>NES</td>\n",
       "      <td>1985</td>\n",
       "      <td>Platform</td>\n",
       "      <td>29.08</td>\n",
       "      <td>3.58</td>\n",
       "      <td>6.81</td>\n",
       "      <td>0.77</td>\n",
       "      <td>NaN</td>\n",
       "      <td>NaN</td>\n",
       "      <td>NaN</td>\n",
       "    </tr>\n",
       "    <tr>\n",
       "      <td>2</td>\n",
       "      <td>Mario Kart Wii</td>\n",
       "      <td>Wii</td>\n",
       "      <td>2008</td>\n",
       "      <td>Racing</td>\n",
       "      <td>15.68</td>\n",
       "      <td>12.76</td>\n",
       "      <td>3.79</td>\n",
       "      <td>3.29</td>\n",
       "      <td>82.0</td>\n",
       "      <td>8.3</td>\n",
       "      <td>E</td>\n",
       "    </tr>\n",
       "    <tr>\n",
       "      <td>3</td>\n",
       "      <td>Wii Sports Resort</td>\n",
       "      <td>Wii</td>\n",
       "      <td>2009</td>\n",
       "      <td>Sports</td>\n",
       "      <td>15.61</td>\n",
       "      <td>10.93</td>\n",
       "      <td>3.28</td>\n",
       "      <td>2.95</td>\n",
       "      <td>80.0</td>\n",
       "      <td>8.0</td>\n",
       "      <td>E</td>\n",
       "    </tr>\n",
       "    <tr>\n",
       "      <td>4</td>\n",
       "      <td>Pokemon Red/Pokemon Blue</td>\n",
       "      <td>GB</td>\n",
       "      <td>1996</td>\n",
       "      <td>Role-Playing</td>\n",
       "      <td>11.27</td>\n",
       "      <td>8.89</td>\n",
       "      <td>10.22</td>\n",
       "      <td>1.00</td>\n",
       "      <td>NaN</td>\n",
       "      <td>NaN</td>\n",
       "      <td>NaN</td>\n",
       "    </tr>\n",
       "  </tbody>\n",
       "</table>\n",
       "</div>"
      ],
      "text/plain": [
       "                       name platform  year_of_release         genre  na_sales  \\\n",
       "0                Wii Sports      Wii             2006        Sports     41.36   \n",
       "1         Super Mario Bros.      NES             1985      Platform     29.08   \n",
       "2            Mario Kart Wii      Wii             2008        Racing     15.68   \n",
       "3         Wii Sports Resort      Wii             2009        Sports     15.61   \n",
       "4  Pokemon Red/Pokemon Blue       GB             1996  Role-Playing     11.27   \n",
       "\n",
       "   eu_sales  jp_sales  other_sales  critic_score  user_score rating  \n",
       "0     28.96      3.77         8.45          76.0         8.0      E  \n",
       "1      3.58      6.81         0.77           NaN         NaN    NaN  \n",
       "2     12.76      3.79         3.29          82.0         8.3      E  \n",
       "3     10.93      3.28         2.95          80.0         8.0      E  \n",
       "4      8.89     10.22         1.00           NaN         NaN    NaN  "
      ]
     },
     "execution_count": 7,
     "metadata": {},
     "output_type": "execute_result"
    }
   ],
   "source": [
    "df.head()"
   ]
  },
  {
   "cell_type": "markdown",
   "metadata": {},
   "source": [
    "**Проверим наличие дубликатов**\n",
    "<a id = \"prep_2\"></a>"
   ]
  },
  {
   "cell_type": "code",
   "execution_count": 8,
   "metadata": {
    "scrolled": false
   },
   "outputs": [
    {
     "data": {
      "text/html": [
       "<div>\n",
       "<style scoped>\n",
       "    .dataframe tbody tr th:only-of-type {\n",
       "        vertical-align: middle;\n",
       "    }\n",
       "\n",
       "    .dataframe tbody tr th {\n",
       "        vertical-align: top;\n",
       "    }\n",
       "\n",
       "    .dataframe thead th {\n",
       "        text-align: right;\n",
       "    }\n",
       "</style>\n",
       "<table border=\"1\" class=\"dataframe\">\n",
       "  <thead>\n",
       "    <tr style=\"text-align: right;\">\n",
       "      <th></th>\n",
       "      <th>name</th>\n",
       "      <th>platform</th>\n",
       "      <th>year_of_release</th>\n",
       "      <th>genre</th>\n",
       "      <th>na_sales</th>\n",
       "      <th>eu_sales</th>\n",
       "      <th>jp_sales</th>\n",
       "      <th>other_sales</th>\n",
       "      <th>critic_score</th>\n",
       "      <th>user_score</th>\n",
       "      <th>rating</th>\n",
       "    </tr>\n",
       "  </thead>\n",
       "  <tbody>\n",
       "    <tr>\n",
       "      <td>604</td>\n",
       "      <td>Madden NFL 13</td>\n",
       "      <td>PS3</td>\n",
       "      <td>2012</td>\n",
       "      <td>Sports</td>\n",
       "      <td>2.11</td>\n",
       "      <td>0.22</td>\n",
       "      <td>0.00</td>\n",
       "      <td>0.23</td>\n",
       "      <td>83.0</td>\n",
       "      <td>5.5</td>\n",
       "      <td>E</td>\n",
       "    </tr>\n",
       "    <tr>\n",
       "      <td>659</td>\n",
       "      <td>NaN</td>\n",
       "      <td>GEN</td>\n",
       "      <td>1993</td>\n",
       "      <td>NaN</td>\n",
       "      <td>1.78</td>\n",
       "      <td>0.53</td>\n",
       "      <td>0.00</td>\n",
       "      <td>0.08</td>\n",
       "      <td>NaN</td>\n",
       "      <td>NaN</td>\n",
       "      <td>NaN</td>\n",
       "    </tr>\n",
       "    <tr>\n",
       "      <td>14244</td>\n",
       "      <td>NaN</td>\n",
       "      <td>GEN</td>\n",
       "      <td>1993</td>\n",
       "      <td>NaN</td>\n",
       "      <td>0.00</td>\n",
       "      <td>0.00</td>\n",
       "      <td>0.03</td>\n",
       "      <td>0.00</td>\n",
       "      <td>NaN</td>\n",
       "      <td>NaN</td>\n",
       "      <td>NaN</td>\n",
       "    </tr>\n",
       "    <tr>\n",
       "      <td>16230</td>\n",
       "      <td>Madden NFL 13</td>\n",
       "      <td>PS3</td>\n",
       "      <td>2012</td>\n",
       "      <td>Sports</td>\n",
       "      <td>0.00</td>\n",
       "      <td>0.01</td>\n",
       "      <td>0.00</td>\n",
       "      <td>0.00</td>\n",
       "      <td>83.0</td>\n",
       "      <td>5.5</td>\n",
       "      <td>E</td>\n",
       "    </tr>\n",
       "  </tbody>\n",
       "</table>\n",
       "</div>"
      ],
      "text/plain": [
       "                name platform  year_of_release   genre  na_sales  eu_sales  \\\n",
       "604    Madden NFL 13      PS3             2012  Sports      2.11      0.22   \n",
       "659              NaN      GEN             1993     NaN      1.78      0.53   \n",
       "14244            NaN      GEN             1993     NaN      0.00      0.00   \n",
       "16230  Madden NFL 13      PS3             2012  Sports      0.00      0.01   \n",
       "\n",
       "       jp_sales  other_sales  critic_score  user_score rating  \n",
       "604        0.00         0.23          83.0         5.5      E  \n",
       "659        0.00         0.08           NaN         NaN    NaN  \n",
       "14244      0.03         0.00           NaN         NaN    NaN  \n",
       "16230      0.00         0.00          83.0         5.5      E  "
      ]
     },
     "execution_count": 8,
     "metadata": {},
     "output_type": "execute_result"
    }
   ],
   "source": [
    "df[df.loc[:, ['name', 'platform', 'year_of_release']].duplicated(keep=False)]  "
   ]
  },
  {
   "cell_type": "markdown",
   "metadata": {},
   "source": [
    "Проверили наличие полных дубликатов по столбцам 'name', 'platform' и 'year_of_release', выявили дубликаты для игры Madden NFL 13, в одном из них нет данных о продажах, поэтому удалим его. Аналогичная ситуация с неизвестной игрой, но так как платформа и год релиза указаны, то не будем удалять обе строки."
   ]
  },
  {
   "cell_type": "markdown",
   "metadata": {},
   "source": [
    "**Удалим дубликаты, которые не несут никакой информации и создадим столбец с суммарными продажами по регионам.**"
   ]
  },
  {
   "cell_type": "code",
   "execution_count": 9,
   "metadata": {},
   "outputs": [],
   "source": [
    "df = df.drop(index=[14244, 16230])  "
   ]
  },
  {
   "cell_type": "code",
   "execution_count": 10,
   "metadata": {},
   "outputs": [],
   "source": [
    "df['total_sales'] = df[['na_sales', 'eu_sales', 'jp_sales', 'other_sales']].sum(axis='columns')"
   ]
  },
  {
   "cell_type": "code",
   "execution_count": 11,
   "metadata": {},
   "outputs": [
    {
     "data": {
      "text/html": [
       "<div>\n",
       "<style scoped>\n",
       "    .dataframe tbody tr th:only-of-type {\n",
       "        vertical-align: middle;\n",
       "    }\n",
       "\n",
       "    .dataframe tbody tr th {\n",
       "        vertical-align: top;\n",
       "    }\n",
       "\n",
       "    .dataframe thead th {\n",
       "        text-align: right;\n",
       "    }\n",
       "</style>\n",
       "<table border=\"1\" class=\"dataframe\">\n",
       "  <thead>\n",
       "    <tr style=\"text-align: right;\">\n",
       "      <th></th>\n",
       "      <th>name</th>\n",
       "      <th>platform</th>\n",
       "      <th>year_of_release</th>\n",
       "      <th>genre</th>\n",
       "      <th>na_sales</th>\n",
       "      <th>eu_sales</th>\n",
       "      <th>jp_sales</th>\n",
       "      <th>other_sales</th>\n",
       "      <th>critic_score</th>\n",
       "      <th>user_score</th>\n",
       "      <th>rating</th>\n",
       "      <th>total_sales</th>\n",
       "    </tr>\n",
       "  </thead>\n",
       "  <tbody>\n",
       "    <tr>\n",
       "      <td>0</td>\n",
       "      <td>Wii Sports</td>\n",
       "      <td>Wii</td>\n",
       "      <td>2006</td>\n",
       "      <td>Sports</td>\n",
       "      <td>41.36</td>\n",
       "      <td>28.96</td>\n",
       "      <td>3.77</td>\n",
       "      <td>8.45</td>\n",
       "      <td>76.0</td>\n",
       "      <td>8.0</td>\n",
       "      <td>E</td>\n",
       "      <td>82.54</td>\n",
       "    </tr>\n",
       "    <tr>\n",
       "      <td>1</td>\n",
       "      <td>Super Mario Bros.</td>\n",
       "      <td>NES</td>\n",
       "      <td>1985</td>\n",
       "      <td>Platform</td>\n",
       "      <td>29.08</td>\n",
       "      <td>3.58</td>\n",
       "      <td>6.81</td>\n",
       "      <td>0.77</td>\n",
       "      <td>NaN</td>\n",
       "      <td>NaN</td>\n",
       "      <td>NaN</td>\n",
       "      <td>40.24</td>\n",
       "    </tr>\n",
       "    <tr>\n",
       "      <td>2</td>\n",
       "      <td>Mario Kart Wii</td>\n",
       "      <td>Wii</td>\n",
       "      <td>2008</td>\n",
       "      <td>Racing</td>\n",
       "      <td>15.68</td>\n",
       "      <td>12.76</td>\n",
       "      <td>3.79</td>\n",
       "      <td>3.29</td>\n",
       "      <td>82.0</td>\n",
       "      <td>8.3</td>\n",
       "      <td>E</td>\n",
       "      <td>35.52</td>\n",
       "    </tr>\n",
       "    <tr>\n",
       "      <td>3</td>\n",
       "      <td>Wii Sports Resort</td>\n",
       "      <td>Wii</td>\n",
       "      <td>2009</td>\n",
       "      <td>Sports</td>\n",
       "      <td>15.61</td>\n",
       "      <td>10.93</td>\n",
       "      <td>3.28</td>\n",
       "      <td>2.95</td>\n",
       "      <td>80.0</td>\n",
       "      <td>8.0</td>\n",
       "      <td>E</td>\n",
       "      <td>32.77</td>\n",
       "    </tr>\n",
       "    <tr>\n",
       "      <td>4</td>\n",
       "      <td>Pokemon Red/Pokemon Blue</td>\n",
       "      <td>GB</td>\n",
       "      <td>1996</td>\n",
       "      <td>Role-Playing</td>\n",
       "      <td>11.27</td>\n",
       "      <td>8.89</td>\n",
       "      <td>10.22</td>\n",
       "      <td>1.00</td>\n",
       "      <td>NaN</td>\n",
       "      <td>NaN</td>\n",
       "      <td>NaN</td>\n",
       "      <td>31.38</td>\n",
       "    </tr>\n",
       "  </tbody>\n",
       "</table>\n",
       "</div>"
      ],
      "text/plain": [
       "                       name platform  year_of_release         genre  na_sales  \\\n",
       "0                Wii Sports      Wii             2006        Sports     41.36   \n",
       "1         Super Mario Bros.      NES             1985      Platform     29.08   \n",
       "2            Mario Kart Wii      Wii             2008        Racing     15.68   \n",
       "3         Wii Sports Resort      Wii             2009        Sports     15.61   \n",
       "4  Pokemon Red/Pokemon Blue       GB             1996  Role-Playing     11.27   \n",
       "\n",
       "   eu_sales  jp_sales  other_sales  critic_score  user_score rating  \\\n",
       "0     28.96      3.77         8.45          76.0         8.0      E   \n",
       "1      3.58      6.81         0.77           NaN         NaN    NaN   \n",
       "2     12.76      3.79         3.29          82.0         8.3      E   \n",
       "3     10.93      3.28         2.95          80.0         8.0      E   \n",
       "4      8.89     10.22         1.00           NaN         NaN    NaN   \n",
       "\n",
       "   total_sales  \n",
       "0        82.54  \n",
       "1        40.24  \n",
       "2        35.52  \n",
       "3        32.77  \n",
       "4        31.38  "
      ]
     },
     "execution_count": 11,
     "metadata": {},
     "output_type": "execute_result"
    }
   ],
   "source": [
    "df.head()"
   ]
  },
  {
   "cell_type": "markdown",
   "metadata": {},
   "source": [
    "Мы подготовили данные к последующему анализу, ознакомились с типами данных столбцов, изменили тип данных года релиза и пользовательского рейтинга на целочисленный и с плавающей точкой соответствено.  \n",
    "В столбце с пользовательскими рейтингами заменили значение \"tbd\" на NaN, так как рейтинг неизвестен.  \n",
    "Удалили два дубликата и привели названия столбцов к нижнему регистру.  \n",
    "Посчитали и добавили новый столбец \"total_sales\" с суммарными продажами для каждой игры.  \n",
    "  \n",
    "  Данные к анализу готовы)"
   ]
  },
  {
   "cell_type": "markdown",
   "metadata": {},
   "source": [
    "# 3. Исследовательский анализ данных\n",
    "<a id = \"analysis\"></a>"
   ]
  },
  {
   "cell_type": "markdown",
   "metadata": {},
   "source": [
    "**Выясним, сколько игр выпускалось в разные годы.**\n",
    "<a id = \"an_1\"></a>"
   ]
  },
  {
   "cell_type": "code",
   "execution_count": 12,
   "metadata": {
    "scrolled": false
   },
   "outputs": [
    {
     "data": {
      "image/png": "[encoded data removed]",
      "text/plain": [
       "<Figure size 1080x504 with 1 Axes>"
      ]
     },
     "metadata": {
      "needs_background": "light"
     },
     "output_type": "display_data"
    }
   ],
   "source": [
    "df_by_years = df.pivot_table(index='year_of_release', values='name', aggfunc='count').reset_index()\n",
    "df_by_years.columns = ['year_of_release', 'count']\n",
    "\n",
    "df_by_years.plot(x='year_of_release', grid=True, figsize=(15, 7))\n",
    "plt.xlabel(\"Год\",size=15)\n",
    "plt.ylabel(\"Количество игр\",size=15)\n",
    "plt.title(\"Распределение релизов по годам\", size=17)\n",
    "plt.show()"
   ]
  },
  {
   "cell_type": "markdown",
   "metadata": {},
   "source": [
    "**До 1994 года выпускалось менее 100 игр в год, эти данные можно считать незначительными и не брать в расчет.**  "
   ]
  },
  {
   "cell_type": "code",
   "execution_count": 13,
   "metadata": {},
   "outputs": [],
   "source": [
    "df = df.loc[df['year_of_release'] >= 1994, :].copy()"
   ]
  },
  {
   "cell_type": "markdown",
   "metadata": {},
   "source": [
    "**Выясним, как менялись продажи по платформам. Выберем платформы с наибольшими суммарными продажами.**"
   ]
  },
  {
   "cell_type": "code",
   "execution_count": 14,
   "metadata": {},
   "outputs": [
    {
     "data": {
      "text/plain": [
       "platform\n",
       "PS2     1233.56\n",
       "X360     961.24\n",
       "PS3      931.33\n",
       "Wii      891.18\n",
       "DS       802.76\n",
       "PS       727.58\n",
       "PS4      314.14\n",
       "GBA      312.88\n",
       "PSP      289.53\n",
       "3DS      257.81\n",
       "PC       252.66\n",
       "XB       251.57\n",
       "N64      218.01\n",
       "GC       196.73\n",
       "XOne     159.32\n",
       "GB       152.08\n",
       "SNES      84.67\n",
       "WiiU      82.19\n",
       "PSV       53.81\n",
       "SAT       33.59\n",
       "DC        15.95\n",
       "GEN        8.13\n",
       "WS         1.42\n",
       "NG         1.23\n",
       "SCD        0.36\n",
       "TG16       0.16\n",
       "NES        0.11\n",
       "3DO        0.10\n",
       "PCFX       0.03\n",
       "Name: total_sales, dtype: float64"
      ]
     },
     "execution_count": 14,
     "metadata": {},
     "output_type": "execute_result"
    }
   ],
   "source": [
    "df.groupby('platform')['total_sales'].sum().sort_values(ascending=False)"
   ]
  },
  {
   "cell_type": "markdown",
   "metadata": {},
   "source": [
    "**Сформируем список платформ с суммарными продажами более 50млн.**"
   ]
  },
  {
   "cell_type": "code",
   "execution_count": 15,
   "metadata": {},
   "outputs": [],
   "source": [
    "top_platforms_list = df.groupby('platform').sum().query('total_sales > 50').index.values.tolist()"
   ]
  },
  {
   "cell_type": "markdown",
   "metadata": {},
   "source": [
    "**Сгруппируем таблицу по году выпуска игры и платформе, подсчитаем суммарные продажи и отфильтруем по составленному списку платформ**"
   ]
  },
  {
   "cell_type": "code",
   "execution_count": 16,
   "metadata": {},
   "outputs": [],
   "source": [
    "df_by_platforms = df.pivot_table(\n",
    "    index=['year_of_release', 'platform'], values='total_sales', aggfunc='sum').reset_index()\n",
    "\n",
    "df_by_platforms = df_by_platforms.loc[df_by_platforms['platform'].isin(top_platforms_list), :]"
   ]
  },
  {
   "cell_type": "code",
   "execution_count": 17,
   "metadata": {
    "scrolled": false
   },
   "outputs": [
    {
     "data": {
      "text/html": [
       "<div>\n",
       "<style scoped>\n",
       "    .dataframe tbody tr th:only-of-type {\n",
       "        vertical-align: middle;\n",
       "    }\n",
       "\n",
       "    .dataframe tbody tr th {\n",
       "        vertical-align: top;\n",
       "    }\n",
       "\n",
       "    .dataframe thead th {\n",
       "        text-align: right;\n",
       "    }\n",
       "</style>\n",
       "<table border=\"1\" class=\"dataframe\">\n",
       "  <thead>\n",
       "    <tr style=\"text-align: right;\">\n",
       "      <th></th>\n",
       "      <th>year_of_release</th>\n",
       "      <th>platform</th>\n",
       "      <th>total_sales</th>\n",
       "    </tr>\n",
       "  </thead>\n",
       "  <tbody>\n",
       "    <tr>\n",
       "      <td>1</td>\n",
       "      <td>1994</td>\n",
       "      <td>GB</td>\n",
       "      <td>12.18</td>\n",
       "    </tr>\n",
       "    <tr>\n",
       "      <td>5</td>\n",
       "      <td>1994</td>\n",
       "      <td>PC</td>\n",
       "      <td>12.87</td>\n",
       "    </tr>\n",
       "    <tr>\n",
       "      <td>6</td>\n",
       "      <td>1994</td>\n",
       "      <td>PS</td>\n",
       "      <td>6.03</td>\n",
       "    </tr>\n",
       "    <tr>\n",
       "      <td>9</td>\n",
       "      <td>1994</td>\n",
       "      <td>SNES</td>\n",
       "      <td>35.08</td>\n",
       "    </tr>\n",
       "    <tr>\n",
       "      <td>11</td>\n",
       "      <td>1995</td>\n",
       "      <td>GB</td>\n",
       "      <td>3.60</td>\n",
       "    </tr>\n",
       "    <tr>\n",
       "      <td>...</td>\n",
       "      <td>...</td>\n",
       "      <td>...</td>\n",
       "      <td>...</td>\n",
       "    </tr>\n",
       "    <tr>\n",
       "      <td>192</td>\n",
       "      <td>2016</td>\n",
       "      <td>PSV</td>\n",
       "      <td>4.25</td>\n",
       "    </tr>\n",
       "    <tr>\n",
       "      <td>193</td>\n",
       "      <td>2016</td>\n",
       "      <td>Wii</td>\n",
       "      <td>0.18</td>\n",
       "    </tr>\n",
       "    <tr>\n",
       "      <td>194</td>\n",
       "      <td>2016</td>\n",
       "      <td>WiiU</td>\n",
       "      <td>4.60</td>\n",
       "    </tr>\n",
       "    <tr>\n",
       "      <td>195</td>\n",
       "      <td>2016</td>\n",
       "      <td>X360</td>\n",
       "      <td>1.52</td>\n",
       "    </tr>\n",
       "    <tr>\n",
       "      <td>196</td>\n",
       "      <td>2016</td>\n",
       "      <td>XOne</td>\n",
       "      <td>26.15</td>\n",
       "    </tr>\n",
       "  </tbody>\n",
       "</table>\n",
       "<p>171 rows × 3 columns</p>\n",
       "</div>"
      ],
      "text/plain": [
       "     year_of_release platform  total_sales\n",
       "1               1994       GB        12.18\n",
       "5               1994       PC        12.87\n",
       "6               1994       PS         6.03\n",
       "9               1994     SNES        35.08\n",
       "11              1995       GB         3.60\n",
       "..               ...      ...          ...\n",
       "192             2016      PSV         4.25\n",
       "193             2016      Wii         0.18\n",
       "194             2016     WiiU         4.60\n",
       "195             2016     X360         1.52\n",
       "196             2016     XOne        26.15\n",
       "\n",
       "[171 rows x 3 columns]"
      ]
     },
     "execution_count": 17,
     "metadata": {},
     "output_type": "execute_result"
    }
   ],
   "source": [
    "df_by_platforms"
   ]
  },
  {
   "cell_type": "markdown",
   "metadata": {},
   "source": [
    "**Построим график распределения суммарных продаж каждой платформы по годам**\n",
    "<a id = \"an_2\"></a>"
   ]
  },
  {
   "cell_type": "markdown",
   "metadata": {},
   "source": [
    "<a id='1'></a>"
   ]
  },
  {
   "cell_type": "code",
   "execution_count": 18,
   "metadata": {
    "scrolled": false
   },
   "outputs": [
    {
     "data": {
      "image/png": "[encoded data removed]",
      "text/plain": [
       "<Figure size 1080x504 with 1 Axes>"
      ]
     },
     "metadata": {
      "needs_background": "light"
     },
     "output_type": "display_data"
    }
   ],
   "source": [
    "fig, ax = plt.subplots(figsize=(15, 7))\n",
    "ax.scatter(x = df_by_platforms['platform'], y = df_by_platforms['year_of_release'], s=df_by_platforms['total_sales'])\n",
    "plt.xlabel(\"Платформа\",size=15)\n",
    "plt.ylabel(\"Годы выпуска\",size=15)\n",
    "plt.title(\"Распределение продаж по годам\", size=17)\n",
    "\n",
    "plt.show()"
   ]
  },
  {
   "cell_type": "markdown",
   "metadata": {},
   "source": [
    "**Подсчитаем, за какой характерный срок появляются новые и исчезают старые платформы. PC не будем учитывать, так как он существует на протяжении всего времени.**\n",
    "<a id = \"an_3\"></a>"
   ]
  },
  {
   "cell_type": "code",
   "execution_count": 19,
   "metadata": {},
   "outputs": [],
   "source": [
    "platforms_life = df_by_platforms.query('platform != \"PC\"').groupby('platform')['year_of_release'].apply(\n",
    "                                                                        lambda col: col.max() - col.min())"
   ]
  },
  {
   "cell_type": "code",
   "execution_count": 20,
   "metadata": {},
   "outputs": [
    {
     "data": {
      "text/plain": [
       "count    18.000000\n",
       "mean      7.222222\n",
       "std       2.755861\n",
       "min       3.000000\n",
       "25%       5.000000\n",
       "50%       7.000000\n",
       "75%       9.750000\n",
       "max      11.000000\n",
       "Name: year_of_release, dtype: float64"
      ]
     },
     "execution_count": 20,
     "metadata": {},
     "output_type": "execute_result"
    }
   ],
   "source": [
    "platforms_life.describe()"
   ]
  },
  {
   "cell_type": "markdown",
   "metadata": {},
   "source": [
    "Примерный \"срок жизни\" платформы составляет 7 лет, но PC - бессмертен))"
   ]
  },
  {
   "cell_type": "markdown",
   "metadata": {},
   "source": [
    "**Платформа набирает популярность в первой половине срока своего существования(примерно 3.5 года), чтобы попасть в этот тренд в 2017 году, возьмем для дальнейшего анализа данные с 2013 года. Так как данные за 2016 год неполные и насколько они неполные мы не знаем, то этот год мы не будем учитывать при анализе.**"
   ]
  },
  {
   "cell_type": "code",
   "execution_count": 21,
   "metadata": {},
   "outputs": [],
   "source": [
    "df_actual = df.query('2016 > year_of_release >= 2013').copy()"
   ]
  },
  {
   "cell_type": "code",
   "execution_count": 22,
   "metadata": {
    "scrolled": false
   },
   "outputs": [
    {
     "data": {
      "image/png": "[encoded data removed]",
      "text/plain": [
       "<Figure size 1120x560 with 1 Axes>"
      ]
     },
     "metadata": {},
     "output_type": "display_data"
    }
   ],
   "source": [
    "df_plot = df_actual.loc[:, ['platform', 'total_sales']].groupby('platform').sum()\n",
    "df_plot.sort_values('total_sales', ascending=False, inplace=True)\n",
    "\n",
    "fig, ax = plt.subplots(figsize=(14,7), facecolor='white', dpi= 80)\n",
    "ax.vlines(x=df_plot.index, ymin=0, ymax=df_plot.total_sales, color='firebrick', alpha=0.7, linewidth=25)\n",
    "\n",
    "\n",
    "for i, sales in enumerate(df_plot.total_sales):\n",
    "    ax.text(i, sales+5, round(sales, 1), horizontalalignment='center')\n",
    "\n",
    "plt.title(\"Продажи по платформам за весь период\", size=17)\n",
    "plt.xlabel(\"Платформа\",size=13)\n",
    "plt.ylabel(\"Суммарные продажи, млн\",size=13)\n",
    "\n",
    "plt.show()"
   ]
  },
  {
   "cell_type": "markdown",
   "metadata": {},
   "source": [
    "**Возьмем топ-5 платформ по количеству продаж и выделим самые перспективные**\n",
    "<a id = \"an_4\"></a>"
   ]
  },
  {
   "cell_type": "markdown",
   "metadata": {},
   "source": [
    "<a id='2'></a>"
   ]
  },
  {
   "cell_type": "code",
   "execution_count": 23,
   "metadata": {
    "scrolled": false
   },
   "outputs": [
    {
     "data": {
      "image/png": "[encoded data removed]",
      "text/plain": [
       "<Figure size 1080x360 with 1 Axes>"
      ]
     },
     "metadata": {
      "needs_background": "light"
     },
     "output_type": "display_data"
    }
   ],
   "source": [
    "top_5 = ['PS4', 'PS3', 'XOne', 'X360', '3DS']\n",
    "top5_platforms = df_actual.loc[:, ['platform', 'total_sales', 'year_of_release']].pivot_table(\n",
    "                    index='year_of_release', columns='platform', values='total_sales', aggfunc='sum').loc[:, top_5]\n",
    "\n",
    "top5_platforms.plot.bar(figsize=(15,5), width=0.7, colormap='Set2')\n",
    "plt.title(\"Продажи для каждой платформы по годам релиза\", size=17)\n",
    "plt.xlabel(\"Год релиза\",size=13)\n",
    "plt.ylabel(\"Суммарные продажи, млн\",size=13)\n",
    "plt.xticks(rotation=0, horizontalalignment='right', fontsize=12)\n",
    "\n",
    "plt.show()"
   ]
  },
  {
   "cell_type": "markdown",
   "metadata": {},
   "source": [
    "На диаграмме заметен рост продаж игр, выпускаемых на PS4 и XOne, соответственно PS3 и X360 теряют свою актуальность."
   ]
  },
  {
   "cell_type": "markdown",
   "metadata": {},
   "source": [
    "**Построим «ящик с усами» по глобальным продажам игр в разбивке по платформам.**"
   ]
  },
  {
   "cell_type": "code",
   "execution_count": 24,
   "metadata": {},
   "outputs": [
    {
     "data": {
      "image/png": "[encoded data removed]",
      "text/plain": [
       "<Figure size 432x288 with 1 Axes>"
      ]
     },
     "metadata": {
      "needs_background": "light"
     },
     "output_type": "display_data"
    }
   ],
   "source": [
    "box = df_actual.groupby('platform')['total_sales','platform'].sum().reset_index()\n",
    "\n",
    "ax = sns.boxplot(data=box, orient='h')\n",
    "ax = sns.swarmplot(data=box, orient='h', size=7, color='black')\n",
    "\n",
    "plt.show()"
   ]
  },
  {
   "cell_type": "code",
   "execution_count": 25,
   "metadata": {},
   "outputs": [
    {
     "data": {
      "text/html": [
       "<div>\n",
       "<style scoped>\n",
       "    .dataframe tbody tr th:only-of-type {\n",
       "        vertical-align: middle;\n",
       "    }\n",
       "\n",
       "    .dataframe tbody tr th {\n",
       "        vertical-align: top;\n",
       "    }\n",
       "\n",
       "    .dataframe thead th {\n",
       "        text-align: right;\n",
       "    }\n",
       "</style>\n",
       "<table border=\"1\" class=\"dataframe\">\n",
       "  <thead>\n",
       "    <tr style=\"text-align: right;\">\n",
       "      <th></th>\n",
       "      <th>total_sales</th>\n",
       "    </tr>\n",
       "  </thead>\n",
       "  <tbody>\n",
       "    <tr>\n",
       "      <td>count</td>\n",
       "      <td>11.000000</td>\n",
       "    </tr>\n",
       "    <tr>\n",
       "      <td>mean</td>\n",
       "      <td>87.340909</td>\n",
       "    </tr>\n",
       "    <tr>\n",
       "      <td>std</td>\n",
       "      <td>81.193063</td>\n",
       "    </tr>\n",
       "    <tr>\n",
       "      <td>min</td>\n",
       "      <td>1.540000</td>\n",
       "    </tr>\n",
       "    <tr>\n",
       "      <td>25%</td>\n",
       "      <td>21.110000</td>\n",
       "    </tr>\n",
       "    <tr>\n",
       "      <td>50%</td>\n",
       "      <td>60.030000</td>\n",
       "    </tr>\n",
       "    <tr>\n",
       "      <td>75%</td>\n",
       "      <td>134.225000</td>\n",
       "    </tr>\n",
       "    <tr>\n",
       "      <td>max</td>\n",
       "      <td>244.890000</td>\n",
       "    </tr>\n",
       "  </tbody>\n",
       "</table>\n",
       "</div>"
      ],
      "text/plain": [
       "       total_sales\n",
       "count    11.000000\n",
       "mean     87.340909\n",
       "std      81.193063\n",
       "min       1.540000\n",
       "25%      21.110000\n",
       "50%      60.030000\n",
       "75%     134.225000\n",
       "max     244.890000"
      ]
     },
     "execution_count": 25,
     "metadata": {},
     "output_type": "execute_result"
    }
   ],
   "source": [
    "box.describe()"
   ]
  },
  {
   "cell_type": "markdown",
   "metadata": {},
   "source": [
    "На графике видно, что больше половины платформ имеют суммарные продажи выше 60млн, это отобранные нами топ-5 платформ. Минимальные продажи 1.54млн, максимальные - 244.89. Выбросов нет, все значения уложились в  +- полтора межквартильных размаха."
   ]
  },
  {
   "cell_type": "markdown",
   "metadata": {},
   "source": [
    "**Посмотрим, как влияют на продажи внутри одной популярной платформы(PS4) отзывы пользователей и критиков.**\n",
    "<a id = \"an_5\"></a>"
   ]
  },
  {
   "cell_type": "code",
   "execution_count": 26,
   "metadata": {
    "scrolled": false
   },
   "outputs": [],
   "source": [
    "\n",
    "def corr_by_score(df, platforms: list):\n",
    "    \n",
    "    for platform in platforms:\n",
    "        \n",
    "        \n",
    "        dfp = df.query('platform == @platform')\n",
    "        \n",
    "        fig, ax = plt.subplots(figsize=(15, 7))\n",
    "        ax.scatter(x = dfp['critic_score'], y = dfp['user_score'], s=dfp['total_sales']*25, edgecolors = 'darkblue', \n",
    "                   alpha=0.7)\n",
    "        plt.xlabel(\"Рейтинг критиков\", size=15)\n",
    "        plt.ylabel(\"Рейтинг пользователей\",size=15)\n",
    "        plt.title(\"Влияние отзывов на продажи платформы %s\" %platform, size=17, pad=15)\n",
    "\n",
    "        plt.show()\n",
    "        \n",
    "        print('\\n')\n",
    "        \n",
    "        dfp_c = dfp.loc[:, ['total_sales', 'critic_score', 'user_score']]\n",
    "        plt.figure(figsize=(7,3))\n",
    "        sns.heatmap(dfp_c.corr(), xticklabels=dfp_c.corr().columns, yticklabels=dfp_c.corr().columns, \n",
    "                    cmap='RdYlGn', center=0, annot=True)\n",
    "\n",
    "        plt.title('Корреляция рейтингов и продаж платформы %s' %platform, fontsize=17, pad=20)\n",
    "        plt.xticks(fontsize=12)\n",
    "        plt.yticks(fontsize=12)\n",
    "        \n",
    "        plt.show()\n",
    "        \n",
    "        print('\\n' * 2)\n",
    "        print('--' * 56)\n",
    "        print('\\n' * 2)"
   ]
  },
  {
   "cell_type": "code",
   "execution_count": 27,
   "metadata": {},
   "outputs": [
    {
     "data": {
      "image/png": "[encoded data removed]",
      "text/plain": [
       "<Figure size 1080x504 with 1 Axes>"
      ]
     },
     "metadata": {
      "needs_background": "light"
     },
     "output_type": "display_data"
    },
    {
     "name": "stdout",
     "output_type": "stream",
     "text": [
      "\n",
      "\n"
     ]
    },
    {
     "data": {
      "image/png": "[encoded data removed]",
      "text/plain": [
       "<Figure size 504x216 with 2 Axes>"
      ]
     },
     "metadata": {
      "needs_background": "light"
     },
     "output_type": "display_data"
    },
    {
     "name": "stdout",
     "output_type": "stream",
     "text": [
      "\n",
      "\n",
      "\n",
      "----------------------------------------------------------------------------------------------------------------\n",
      "\n",
      "\n",
      "\n"
     ]
    },
    {
     "data": {
      "image/png": "[encoded data removed]",
      "text/plain": [
       "<Figure size 1080x504 with 1 Axes>"
      ]
     },
     "metadata": {
      "needs_background": "light"
     },
     "output_type": "display_data"
    },
    {
     "name": "stdout",
     "output_type": "stream",
     "text": [
      "\n",
      "\n"
     ]
    },
    {
     "data": {
      "image/png": "[encoded data removed]",
      "text/plain": [
       "<Figure size 504x216 with 2 Axes>"
      ]
     },
     "metadata": {
      "needs_background": "light"
     },
     "output_type": "display_data"
    },
    {
     "name": "stdout",
     "output_type": "stream",
     "text": [
      "\n",
      "\n",
      "\n",
      "----------------------------------------------------------------------------------------------------------------\n",
      "\n",
      "\n",
      "\n"
     ]
    },
    {
     "data": {
      "image/png": "[encoded data removed]",
      "text/plain": [
       "<Figure size 1080x504 with 1 Axes>"
      ]
     },
     "metadata": {
      "needs_background": "light"
     },
     "output_type": "display_data"
    },
    {
     "name": "stdout",
     "output_type": "stream",
     "text": [
      "\n",
      "\n"
     ]
    },
    {
     "data": {
      "image/png": "[encoded data removed]",
      "text/plain": [
       "<Figure size 504x216 with 2 Axes>"
      ]
     },
     "metadata": {
      "needs_background": "light"
     },
     "output_type": "display_data"
    },
    {
     "name": "stdout",
     "output_type": "stream",
     "text": [
      "\n",
      "\n",
      "\n",
      "----------------------------------------------------------------------------------------------------------------\n",
      "\n",
      "\n",
      "\n"
     ]
    },
    {
     "data": {
      "image/png": "[encoded data removed]",
      "text/plain": [
       "<Figure size 1080x504 with 1 Axes>"
      ]
     },
     "metadata": {
      "needs_background": "light"
     },
     "output_type": "display_data"
    },
    {
     "name": "stdout",
     "output_type": "stream",
     "text": [
      "\n",
      "\n"
     ]
    },
    {
     "data": {
      "image/png": "[encoded data removed]",
      "text/plain": [
       "<Figure size 504x216 with 2 Axes>"
      ]
     },
     "metadata": {
      "needs_background": "light"
     },
     "output_type": "display_data"
    },
    {
     "name": "stdout",
     "output_type": "stream",
     "text": [
      "\n",
      "\n",
      "\n",
      "----------------------------------------------------------------------------------------------------------------\n",
      "\n",
      "\n",
      "\n"
     ]
    },
    {
     "data": {
      "image/png": "[encoded data removed]",
      "text/plain": [
       "<Figure size 1080x504 with 1 Axes>"
      ]
     },
     "metadata": {
      "needs_background": "light"
     },
     "output_type": "display_data"
    },
    {
     "name": "stdout",
     "output_type": "stream",
     "text": [
      "\n",
      "\n"
     ]
    },
    {
     "data": {
      "image/png": "[encoded data removed]",
      "text/plain": [
       "<Figure size 504x216 with 2 Axes>"
      ]
     },
     "metadata": {
      "needs_background": "light"
     },
     "output_type": "display_data"
    },
    {
     "name": "stdout",
     "output_type": "stream",
     "text": [
      "\n",
      "\n",
      "\n",
      "----------------------------------------------------------------------------------------------------------------\n",
      "\n",
      "\n",
      "\n"
     ]
    }
   ],
   "source": [
    "corr_by_score(df_actual, top_5)"
   ]
  },
  {
   "cell_type": "markdown",
   "metadata": {},
   "source": [
    "Рейтинги оказывают влияние на количество продаж, это видно из диаграммы рассеяния. Причем рейтинг критиков имеет больший вес.  \n",
    "Расчитанный коэффициент корреляции Пирсона показывает среднюю корреляцию между продажами и рейтингом критиков, а между продажами и рейтингом пользователей связи практически нет. \n",
    "Исключение - 3DS, зависимости от рейтинга критиков и рейтинга пользователей близки к друг другу и являются слабыми, скорее всего по причине меньшей популярности платформы."
   ]
  },
  {
   "cell_type": "markdown",
   "metadata": {},
   "source": [
    "**Рассмотрим распределение игр по жанрам и выделим жанры с высокими и низкими продажами.**\n",
    "<a id = \"an_6\"></a>"
   ]
  },
  {
   "cell_type": "code",
   "execution_count": 28,
   "metadata": {},
   "outputs": [
    {
     "data": {
      "text/html": [
       "<div>\n",
       "<style scoped>\n",
       "    .dataframe tbody tr th:only-of-type {\n",
       "        vertical-align: middle;\n",
       "    }\n",
       "\n",
       "    .dataframe tbody tr th {\n",
       "        vertical-align: top;\n",
       "    }\n",
       "\n",
       "    .dataframe thead th {\n",
       "        text-align: right;\n",
       "    }\n",
       "</style>\n",
       "<table border=\"1\" class=\"dataframe\">\n",
       "  <thead>\n",
       "    <tr style=\"text-align: right;\">\n",
       "      <th></th>\n",
       "      <th>genre</th>\n",
       "      <th>total_sales</th>\n",
       "    </tr>\n",
       "  </thead>\n",
       "  <tbody>\n",
       "    <tr>\n",
       "      <td>0</td>\n",
       "      <td>Action</td>\n",
       "      <td>291.76</td>\n",
       "    </tr>\n",
       "    <tr>\n",
       "      <td>1</td>\n",
       "      <td>Shooter</td>\n",
       "      <td>194.76</td>\n",
       "    </tr>\n",
       "    <tr>\n",
       "      <td>2</td>\n",
       "      <td>Role-Playing</td>\n",
       "      <td>127.71</td>\n",
       "    </tr>\n",
       "    <tr>\n",
       "      <td>3</td>\n",
       "      <td>Sports</td>\n",
       "      <td>127.16</td>\n",
       "    </tr>\n",
       "    <tr>\n",
       "      <td>4</td>\n",
       "      <td>Misc</td>\n",
       "      <td>60.22</td>\n",
       "    </tr>\n",
       "    <tr>\n",
       "      <td>5</td>\n",
       "      <td>Platform</td>\n",
       "      <td>39.40</td>\n",
       "    </tr>\n",
       "    <tr>\n",
       "      <td>6</td>\n",
       "      <td>Racing</td>\n",
       "      <td>37.10</td>\n",
       "    </tr>\n",
       "    <tr>\n",
       "      <td>7</td>\n",
       "      <td>Fighting</td>\n",
       "      <td>30.84</td>\n",
       "    </tr>\n",
       "    <tr>\n",
       "      <td>8</td>\n",
       "      <td>Simulation</td>\n",
       "      <td>19.87</td>\n",
       "    </tr>\n",
       "    <tr>\n",
       "      <td>9</td>\n",
       "      <td>Adventure</td>\n",
       "      <td>19.82</td>\n",
       "    </tr>\n",
       "    <tr>\n",
       "      <td>10</td>\n",
       "      <td>Strategy</td>\n",
       "      <td>8.95</td>\n",
       "    </tr>\n",
       "    <tr>\n",
       "      <td>11</td>\n",
       "      <td>Puzzle</td>\n",
       "      <td>3.16</td>\n",
       "    </tr>\n",
       "  </tbody>\n",
       "</table>\n",
       "</div>"
      ],
      "text/plain": [
       "           genre  total_sales\n",
       "0         Action       291.76\n",
       "1        Shooter       194.76\n",
       "2   Role-Playing       127.71\n",
       "3         Sports       127.16\n",
       "4           Misc        60.22\n",
       "5       Platform        39.40\n",
       "6         Racing        37.10\n",
       "7       Fighting        30.84\n",
       "8     Simulation        19.87\n",
       "9      Adventure        19.82\n",
       "10      Strategy         8.95\n",
       "11        Puzzle         3.16"
      ]
     },
     "execution_count": 28,
     "metadata": {},
     "output_type": "execute_result"
    }
   ],
   "source": [
    "by_genres = df_actual.pivot_table(index='genre', values='total_sales', aggfunc='sum')\n",
    "by_genres.sort_values(by='total_sales', ascending=False).reset_index()"
   ]
  },
  {
   "cell_type": "code",
   "execution_count": 29,
   "metadata": {},
   "outputs": [
    {
     "data": {
      "image/png": "[encoded data removed]",
      "text/plain": [
       "<Figure size 1152x792 with 1 Axes>"
      ]
     },
     "metadata": {},
     "output_type": "display_data"
    }
   ],
   "source": [
    "my_explode = (0.13, 0, 0, 0, 0, 0, 0, 0, 0.13, 0, 0, 0)\n",
    "by_genres.plot(\n",
    "    kind='pie', figsize=(16,11), legend=True, labeldistance=None, y='total_sales', explode=my_explode, shadow=True, \n",
    "    colormap='Paired', autopct='%1.1f%%')\n",
    "plt.title('Распределение продаж по жанрам', size=17)\n",
    "plt.legend(bbox_to_anchor=(1, 0.9), loc='upper left')\n",
    "\n",
    "plt.show()"
   ]
  },
  {
   "cell_type": "markdown",
   "metadata": {},
   "source": [
    "Самыми популярными и прибыльными являются жанры \"Action\" и \"Shooter\". Мало кто хочет играть в пазлы и стратегии, ведь в них нужно думать)"
   ]
  },
  {
   "cell_type": "markdown",
   "metadata": {},
   "source": [
    "Провели исследовательский анализ данных, выяснили распределение релизов по годам и взяли только те, в которых выпускалось более 100 игр. Платформы оставили с продажами более 50млн копий.  \n",
    "Узнали, что примерно за 3.5 года платформа становится популярной и исходя из этого отобрали актуальные данные для прогноза (2013-2015 года).  \n",
    "Выделили топ-5 продаваемых платформ (PS4, PS3, XOne, X360, 3DS) и визуализировали зависимость продаж от рейтингов пользователей и критиков.  Оказалось, что продажи зависят от рецензий критиков.  \n"
   ]
  },
  {
   "cell_type": "markdown",
   "metadata": {},
   "source": [
    "# 4. Портрет пользователя каждого региона\n",
    "<a id = \"regions\"></a>"
   ]
  },
  {
   "cell_type": "markdown",
   "metadata": {},
   "source": [
    "**Определим для каждого региона самые популярные платформы и жанры.**"
   ]
  },
  {
   "cell_type": "code",
   "execution_count": 30,
   "metadata": {},
   "outputs": [
    {
     "data": {
      "text/html": [
       "<th style=\"text-align:center\"><td style=\"vertical-align:top\"><h2>Топ-5 платформ NA</h2><table style=\"display:inline\" border=\"1\" class=\"dataframe\">\n",
       "  <thead>\n",
       "    <tr style=\"text-align: right;\">\n",
       "      <th></th>\n",
       "      <th>platform</th>\n",
       "      <th>na_sales</th>\n",
       "      <th>total_sales</th>\n",
       "      <th>ratio, %</th>\n",
       "    </tr>\n",
       "  </thead>\n",
       "  <tbody>\n",
       "    <tr>\n",
       "      <th>1</th>\n",
       "      <td>PS4</td>\n",
       "      <td>87.25</td>\n",
       "      <td>244.89</td>\n",
       "      <td>35.6</td>\n",
       "    </tr>\n",
       "    <tr>\n",
       "      <th>2</th>\n",
       "      <td>X360</td>\n",
       "      <td>80.97</td>\n",
       "      <td>135.28</td>\n",
       "      <td>59.9</td>\n",
       "    </tr>\n",
       "    <tr>\n",
       "      <th>3</th>\n",
       "      <td>XOne</td>\n",
       "      <td>78.85</td>\n",
       "      <td>133.17</td>\n",
       "      <td>59.2</td>\n",
       "    </tr>\n",
       "    <tr>\n",
       "      <th>4</th>\n",
       "      <td>PS3</td>\n",
       "      <td>62.83</td>\n",
       "      <td>177.83</td>\n",
       "      <td>35.3</td>\n",
       "    </tr>\n",
       "    <tr>\n",
       "      <th>5</th>\n",
       "      <td>3DS</td>\n",
       "      <td>34.06</td>\n",
       "      <td>128.11</td>\n",
       "      <td>26.6</td>\n",
       "    </tr>\n",
       "  </tbody>\n",
       "</table style=\"display:inline\"></td></th><th style=\"text-align:center\"><td style=\"vertical-align:top\"><h2>Топ-5 жанров NA</h2><table style=\"display:inline\" border=\"1\" class=\"dataframe\">\n",
       "  <thead>\n",
       "    <tr style=\"text-align: right;\">\n",
       "      <th></th>\n",
       "      <th>genre</th>\n",
       "      <th>na_sales</th>\n",
       "    </tr>\n",
       "  </thead>\n",
       "  <tbody>\n",
       "    <tr>\n",
       "      <th>1</th>\n",
       "      <td>Action</td>\n",
       "      <td>116.76</td>\n",
       "    </tr>\n",
       "    <tr>\n",
       "      <th>2</th>\n",
       "      <td>Shooter</td>\n",
       "      <td>93.50</td>\n",
       "    </tr>\n",
       "    <tr>\n",
       "      <th>3</th>\n",
       "      <td>Sports</td>\n",
       "      <td>57.73</td>\n",
       "    </tr>\n",
       "    <tr>\n",
       "      <th>4</th>\n",
       "      <td>Role-Playing</td>\n",
       "      <td>40.51</td>\n",
       "    </tr>\n",
       "    <tr>\n",
       "      <th>5</th>\n",
       "      <td>Misc</td>\n",
       "      <td>26.73</td>\n",
       "    </tr>\n",
       "  </tbody>\n",
       "</table style=\"display:inline\"></td></th>"
      ]
     },
     "metadata": {},
     "output_type": "display_data"
    },
    {
     "data": {
      "text/html": [
       "<th style=\"text-align:center\"><td style=\"vertical-align:top\"><h2>Топ-5 платформ EU</h2><table style=\"display:inline\" border=\"1\" class=\"dataframe\">\n",
       "  <thead>\n",
       "    <tr style=\"text-align: right;\">\n",
       "      <th></th>\n",
       "      <th>platform</th>\n",
       "      <th>eu_sales</th>\n",
       "      <th>total_sales</th>\n",
       "      <th>ratio, %</th>\n",
       "    </tr>\n",
       "  </thead>\n",
       "  <tbody>\n",
       "    <tr>\n",
       "      <th>1</th>\n",
       "      <td>PS4</td>\n",
       "      <td>109.31</td>\n",
       "      <td>244.89</td>\n",
       "      <td>44.6</td>\n",
       "    </tr>\n",
       "    <tr>\n",
       "      <th>2</th>\n",
       "      <td>PS3</td>\n",
       "      <td>66.55</td>\n",
       "      <td>177.83</td>\n",
       "      <td>37.4</td>\n",
       "    </tr>\n",
       "    <tr>\n",
       "      <th>3</th>\n",
       "      <td>XOne</td>\n",
       "      <td>41.96</td>\n",
       "      <td>133.17</td>\n",
       "      <td>31.5</td>\n",
       "    </tr>\n",
       "    <tr>\n",
       "      <th>4</th>\n",
       "      <td>X360</td>\n",
       "      <td>41.81</td>\n",
       "      <td>135.28</td>\n",
       "      <td>30.9</td>\n",
       "    </tr>\n",
       "    <tr>\n",
       "      <th>5</th>\n",
       "      <td>3DS</td>\n",
       "      <td>28.63</td>\n",
       "      <td>128.11</td>\n",
       "      <td>22.3</td>\n",
       "    </tr>\n",
       "  </tbody>\n",
       "</table style=\"display:inline\"></td></th><th style=\"text-align:center\"><td style=\"vertical-align:top\"><h2>Топ-5 жанров EU</h2><table style=\"display:inline\" border=\"1\" class=\"dataframe\">\n",
       "  <thead>\n",
       "    <tr style=\"text-align: right;\">\n",
       "      <th></th>\n",
       "      <th>genre</th>\n",
       "      <th>eu_sales</th>\n",
       "    </tr>\n",
       "  </thead>\n",
       "  <tbody>\n",
       "    <tr>\n",
       "      <th>1</th>\n",
       "      <td>Action</td>\n",
       "      <td>107.45</td>\n",
       "    </tr>\n",
       "    <tr>\n",
       "      <th>2</th>\n",
       "      <td>Shooter</td>\n",
       "      <td>71.96</td>\n",
       "    </tr>\n",
       "    <tr>\n",
       "      <th>3</th>\n",
       "      <td>Sports</td>\n",
       "      <td>48.51</td>\n",
       "    </tr>\n",
       "    <tr>\n",
       "      <th>4</th>\n",
       "      <td>Role-Playing</td>\n",
       "      <td>32.69</td>\n",
       "    </tr>\n",
       "    <tr>\n",
       "      <th>5</th>\n",
       "      <td>Misc</td>\n",
       "      <td>19.38</td>\n",
       "    </tr>\n",
       "  </tbody>\n",
       "</table style=\"display:inline\"></td></th>"
      ]
     },
     "metadata": {},
     "output_type": "display_data"
    },
    {
     "data": {
      "text/html": [
       "<th style=\"text-align:center\"><td style=\"vertical-align:top\"><h2>Топ-5 платформ JP</h2><table style=\"display:inline\" border=\"1\" class=\"dataframe\">\n",
       "  <thead>\n",
       "    <tr style=\"text-align: right;\">\n",
       "      <th></th>\n",
       "      <th>platform</th>\n",
       "      <th>jp_sales</th>\n",
       "      <th>total_sales</th>\n",
       "      <th>ratio, %</th>\n",
       "    </tr>\n",
       "  </thead>\n",
       "  <tbody>\n",
       "    <tr>\n",
       "      <th>1</th>\n",
       "      <td>3DS</td>\n",
       "      <td>59.78</td>\n",
       "      <td>128.11</td>\n",
       "      <td>46.7</td>\n",
       "    </tr>\n",
       "    <tr>\n",
       "      <th>2</th>\n",
       "      <td>PS3</td>\n",
       "      <td>22.05</td>\n",
       "      <td>177.83</td>\n",
       "      <td>12.4</td>\n",
       "    </tr>\n",
       "    <tr>\n",
       "      <th>3</th>\n",
       "      <td>PSV</td>\n",
       "      <td>15.03</td>\n",
       "      <td>28.74</td>\n",
       "      <td>52.3</td>\n",
       "    </tr>\n",
       "    <tr>\n",
       "      <th>4</th>\n",
       "      <td>PS4</td>\n",
       "      <td>10.22</td>\n",
       "      <td>244.89</td>\n",
       "      <td>4.2</td>\n",
       "    </tr>\n",
       "    <tr>\n",
       "      <th>5</th>\n",
       "      <td>WiiU</td>\n",
       "      <td>10.21</td>\n",
       "      <td>60.03</td>\n",
       "      <td>17.0</td>\n",
       "    </tr>\n",
       "  </tbody>\n",
       "</table style=\"display:inline\"></td></th><th style=\"text-align:center\"><td style=\"vertical-align:top\"><h2>Топ-5 жанров JP</h2><table style=\"display:inline\" border=\"1\" class=\"dataframe\">\n",
       "  <thead>\n",
       "    <tr style=\"text-align: right;\">\n",
       "      <th></th>\n",
       "      <th>genre</th>\n",
       "      <th>jp_sales</th>\n",
       "    </tr>\n",
       "  </thead>\n",
       "  <tbody>\n",
       "    <tr>\n",
       "      <th>1</th>\n",
       "      <td>Role-Playing</td>\n",
       "      <td>44.43</td>\n",
       "    </tr>\n",
       "    <tr>\n",
       "      <th>2</th>\n",
       "      <td>Action</td>\n",
       "      <td>33.42</td>\n",
       "    </tr>\n",
       "    <tr>\n",
       "      <th>3</th>\n",
       "      <td>Misc</td>\n",
       "      <td>8.16</td>\n",
       "    </tr>\n",
       "    <tr>\n",
       "      <th>4</th>\n",
       "      <td>Fighting</td>\n",
       "      <td>6.90</td>\n",
       "    </tr>\n",
       "    <tr>\n",
       "      <th>5</th>\n",
       "      <td>Shooter</td>\n",
       "      <td>5.55</td>\n",
       "    </tr>\n",
       "  </tbody>\n",
       "</table style=\"display:inline\"></td></th>"
      ]
     },
     "metadata": {},
     "output_type": "display_data"
    }
   ],
   "source": [
    "def display_side_by_side(*args,titles=cycle([''])):\n",
    "    html_str=''\n",
    "    for df,title in zip(args, chain(titles,cycle(['</br>'])) ):\n",
    "        html_str+='<th style=\"text-align:center\"><td style=\"vertical-align:top\">'\n",
    "        html_str+=f'<h2>{title}</h2>'\n",
    "        html_str+=df.to_html().replace('table','table style=\"display:inline\"')\n",
    "        html_str+='</td></th>'\n",
    "    display_html(html_str,raw=True)\n",
    "\n",
    "regions = ['na_sales', 'eu_sales', 'jp_sales'] \n",
    "hist_platforms = pd.DataFrame()\n",
    "hist_genres = pd.DataFrame()\n",
    "\n",
    "for region in regions:\n",
    "    \n",
    "    frame = df_actual.loc[:, ['genre', 'platform', region, 'rating', 'total_sales']]\n",
    "    \n",
    "    df1 = frame.groupby('platform')[region, 'total_sales'].sum()\n",
    "    df1['ratio, %'] = ((df1[region] / df1['total_sales']) * 100).round(1)\n",
    "    df1 = df1.nlargest(5, region, keep='all').reset_index()\n",
    "    df1.index += 1\n",
    "    hist_platforms = hist_platforms.append(df1, sort=True)  \n",
    "    \n",
    "    df2 = frame.groupby('genre')[region].sum().to_frame()\n",
    "    df2 = df2.nlargest(5, region, keep='all').reset_index()\n",
    "    df2.index += 1\n",
    "    hist_genres = hist_genres.append(df2, sort=True)\n",
    "    \n",
    "    display_side_by_side(df1,df2, titles=['Топ-5 платформ %.2s' %region.upper(), \n",
    "                                          'Топ-5 жанров %.2s' %region.upper()])  \n"
   ]
  },
  {
   "cell_type": "markdown",
   "metadata": {},
   "source": [
    "В столбце \"ratio, %\" указана доля региональных продаж платформы в суммарных общих продажах.  \n",
    "  \n",
    "  \n",
    "В Северной Америке первое место среди платформ по продажам поделили практически поровну между собой PS4, X360 и XOne, но продажи Xbox здесь составляют бОльшую часть от общих продаж. Жанры \"Action\" и \"Shooter\" являются самыми популярными.   \n",
    "  \n",
    "  В Европе среди платформ лидирует PS4(почти половина от всех продаж платформы), на втором месте ее предшественник PS3. Недолюбливают европейцы почему-то Xbox. Жанры популярны те же, что и в Северной Америке.    \n",
    "  \n",
    "  Японцы как всегда выделяются. Большую часть рынка игр занимают продажи на платформе Nintendo 3DS, также они больше отдают предпочтение уже немного устаревшей PS3, чем PS4. Что касается жанров, тут они тоже отличились, предпочитают ролевые игры и экшн.\n",
    "    \n",
    "    "
   ]
  },
  {
   "cell_type": "markdown",
   "metadata": {},
   "source": [
    "<a id = \"reg_1\"></a>"
   ]
  },
  {
   "cell_type": "code",
   "execution_count": 31,
   "metadata": {},
   "outputs": [
    {
     "data": {
      "image/png": "[encoded data removed]",
      "text/plain": [
       "<Figure size 1080x360 with 1 Axes>"
      ]
     },
     "metadata": {
      "needs_background": "light"
     },
     "output_type": "display_data"
    }
   ],
   "source": [
    "ax = hist_platforms.pivot_table(index='platform', values=regions, aggfunc='sum')\n",
    "ax.plot.bar(figsize=(15,5), width=0.7, colormap='Set1', stacked=True, alpha=0.8)\n",
    "plt.title(\"Распределение платформ по регионам\", size=17)\n",
    "plt.xlabel(\"Платформа\",size=13)\n",
    "plt.ylabel(\"Суммарные продажи, млн\",size=13)\n",
    "plt.xticks(rotation=0, horizontalalignment='right', fontsize=12)\n",
    "plt.show()"
   ]
  },
  {
   "cell_type": "markdown",
   "metadata": {},
   "source": [
    "<a id = \"reg_2\"></a>"
   ]
  },
  {
   "cell_type": "code",
   "execution_count": 32,
   "metadata": {},
   "outputs": [
    {
     "data": {
      "image/png": "[encoded data removed]",
      "text/plain": [
       "<Figure size 1080x360 with 1 Axes>"
      ]
     },
     "metadata": {
      "needs_background": "light"
     },
     "output_type": "display_data"
    }
   ],
   "source": [
    "ax = hist_genres.pivot_table(index='genre', values=regions, aggfunc='sum')\n",
    "ax.plot.bar(figsize=(15,5), width=0.7, colormap='Set1', alpha=0.8, stacked=True)\n",
    "plt.title(\"Распределение жанров по регионам\", size=17)\n",
    "plt.xlabel(\"Жанр\",size=13)\n",
    "plt.ylabel(\"Суммарные продажи, млн\",size=13)\n",
    "plt.xticks(rotation=60, horizontalalignment='right', fontsize=12)\n",
    "plt.show()"
   ]
  },
  {
   "cell_type": "markdown",
   "metadata": {},
   "source": [
    "<a id = \"reg_3\"></a>"
   ]
  },
  {
   "cell_type": "code",
   "execution_count": 33,
   "metadata": {},
   "outputs": [
    {
     "data": {
      "image/png": "[encoded data removed]",
      "text/plain": [
       "<Figure size 1080x360 with 1 Axes>"
      ]
     },
     "metadata": {
      "needs_background": "light"
     },
     "output_type": "display_data"
    }
   ],
   "source": [
    "df3 = df_actual.pivot_table(index='rating', values=regions, aggfunc='sum')\n",
    "df3.plot.bar(figsize=(15,5), width=0.7, colormap='Accent')\n",
    "plt.title(\"Продажи по рейтингам ESRB для каждого региона\", size=17)\n",
    "plt.xlabel(\"Рейтинг ESRB\",size=13)\n",
    "plt.ylabel(\"Суммарные продажи, млн\",size=13)\n",
    "plt.xticks(rotation=0, horizontalalignment='right', fontsize=12)\n",
    "plt.show()"
   ]
  },
  {
   "cell_type": "markdown",
   "metadata": {},
   "source": [
    "В Европе и Северной Америке преобладают игры с рейтингом М, а в Японии - с рейтингом Т."
   ]
  },
  {
   "cell_type": "markdown",
   "metadata": {},
   "source": [
    "# 5. Проверка гипотез\n",
    "<a id = \"hypotheses\"></a>"
   ]
  },
  {
   "cell_type": "markdown",
   "metadata": {},
   "source": [
    "**5.1 Средние пользовательские рейтинги платформ Xbox One и PC одинаковые**\n",
    "<a id = \"hyp_1\"></a>"
   ]
  },
  {
   "cell_type": "markdown",
   "metadata": {},
   "source": [
    "*Нулевая гипотеза:* средние пользовательские рейтинги платформ Xbox One и PC одинаковые.  \n",
    "  \n",
    "  *Альтернативная гипотеза:* средние пользовательские рейтинги платформ Xbox One и PC различаются.  \n",
    "  Чтобы проверить гипотезу о равенстве среднего двух генеральных совокупностей по взятым из них выборкам, используем Т-тест."
   ]
  },
  {
   "cell_type": "code",
   "execution_count": 34,
   "metadata": {},
   "outputs": [
    {
     "name": "stdout",
     "output_type": "stream",
     "text": [
      "Средний пользовательский рейтинг Xbox One: 6.5\n",
      "Средний пользовательский рейтинг PC: 6.3\n",
      "p-value: 0.2867036680187501\n"
     ]
    },
    {
     "data": {
      "text/plain": [
       "False"
      ]
     },
     "execution_count": 34,
     "metadata": {},
     "output_type": "execute_result"
    }
   ],
   "source": [
    "x_one = df_actual.loc[df_actual['platform'] == 'XOne', 'user_score']\n",
    "pc = df_actual.loc[df_actual['platform'] == 'PC', 'user_score']\n",
    "\n",
    "print(f'Средний пользовательский рейтинг Xbox One: {x_one.mean():.1f}')\n",
    "print(f'Средний пользовательский рейтинг PC: {pc.mean():.1f}')\n",
    "\n",
    "alpha = 0.05\n",
    "results = st.ttest_ind(x_one, pc, equal_var = False, nan_policy='omit')\n",
    "\n",
    "print(f'p-value: {results.pvalue}')\n",
    "\n",
    "results.pvalue < alpha"
   ]
  },
  {
   "cell_type": "markdown",
   "metadata": {},
   "source": [
    "Полученное значение p-value говорит о том, что хотя средние пользовательские рейтинги платформ Xbox One и PC немного различаются, с вероятностью в почти 29% такое или большее различие можно получить случайно.  \n",
    "  Отвергнуть нулевую гипотезу мы не можем.  \n",
    "  Можно сделать вывод, что пользовательские рейтинги не зависят от платформы и это логично, ведь оценку ставят игре."
   ]
  },
  {
   "cell_type": "markdown",
   "metadata": {},
   "source": [
    "**5.2 Средние пользовательские рейтинги жанров Action и Sports разные.**\n",
    "<a id = \"hyp_2\"></a>"
   ]
  },
  {
   "cell_type": "markdown",
   "metadata": {},
   "source": [
    "*Нулевая гипотеза:* средние пользовательские рейтинги жанров Action и Sports равны.  \n",
    "  \n",
    "  *Альтернативная гипотеза:* средние пользовательские рейтинги жанров Action и Sports различаются.  \n",
    "  Для проверки гипотезы используем Т-тест."
   ]
  },
  {
   "cell_type": "code",
   "execution_count": 35,
   "metadata": {},
   "outputs": [
    {
     "name": "stdout",
     "output_type": "stream",
     "text": [
      "Средний пользовательский рейтинг жанра Action: 6.9\n",
      "Средний пользовательский рейтинг жанра Sports: 5.2\n",
      "p-value: 3.5076737062535296e-19\n"
     ]
    },
    {
     "data": {
      "text/plain": [
       "True"
      ]
     },
     "execution_count": 35,
     "metadata": {},
     "output_type": "execute_result"
    }
   ],
   "source": [
    "action = df_actual.loc[df_actual['genre'] == 'Action', 'user_score']\n",
    "sports = df_actual.loc[df_actual['genre'] == 'Sports', 'user_score']\n",
    "\n",
    "print(f'Средний пользовательский рейтинг жанра Action: {action.mean():.1f}')\n",
    "print(f'Средний пользовательский рейтинг жанра Sports: {sports.mean():.1f}')\n",
    "\n",
    "alpha = 0.05\n",
    "results = st.ttest_ind(action, sports, equal_var = False, nan_policy='omit')\n",
    "\n",
    "print(f'p-value: {results.pvalue}')\n",
    "\n",
    "results.pvalue < alpha"
   ]
  },
  {
   "cell_type": "markdown",
   "metadata": {},
   "source": [
    "Полученное значение p-value ниже заданного уровня значимости и мы отвергаем нулевую гипотезу в пользу альтернативной.  \n",
    "  \n",
    "  Средние пользовательские рейтинги жанров Action и Sports различаются. Возможно причина в том, что жанр Sports менее популярен и меньше выпускается игр низкого качества."
   ]
  },
  {
   "cell_type": "markdown",
   "metadata": {},
   "source": [
    "# 6. Общий вывод\n",
    "<a id = \"conclusion\"></a>"
   ]
  },
  {
   "cell_type": "markdown",
   "metadata": {},
   "source": [
    " - Мы выяснили, что в среднем платформы живут 7 лет. РС является исключением, игры под него выходили всегда и будут выходить еще долгое время, но они не так популярны, как игры на консолях.  \n",
    "    Популярность игры во многом зависит от популярности платформы, на которой она выходит.   \n",
    "    На [диаграмме рассеяния](#1) и [гистограмме](#2) распределения продаж видно, что в данный момент набирают популярность две платформы. Это PS4 и XOne. Количество продаж PS4 за все время превышает продажи XOne практически в два раза.  \n",
    "  \n",
    " - Также удалось узнать, что на продажи влияют отзывы критиков. После релиза игры они делают обзоры и формируют рейтинг, высокие значения которого могут дать хороший импульс для увеличения объема продаж.  \n",
    "  \n",
    " - Самыми популярными являются жанры \"Action\" и \"Shooter\". Обычно в игре эти два жанра совмещаются. Пользователи хотят адреналина, драйва и стрельбы.  \n",
    "   50% продаж PS4 приходится на Европу, XOne же лучше продается в Северной Америке (60% от суммарных продаж).  \n",
    "   Японцы постоянно в движении, предпочитают переносные консоли (3DS, PSV) и играют на них в основном в RPG.\n",
    "  \n",
    " - Так как Европа и Северная Америка схожи в предпочтениях по жанрам, то и рейтинг ESRB преобладает один(М).  \n",
    "   \"M\" - один из самых желаемых рейтингов среди любителей условно \"взрослых\" проектов. В играх с таким рейтингом можно обнаружить много насилия (не обязательно жёсткого и не обязательно в большом количестве, рейтинг просто развязывает руки для возможности такого), нецензурную лексику, мрачную атмосферу. Самый популярный рейтинг, судя по продажам.  \n",
    "  \n",
    "  **Можно подвести итог: чтобы у игры были высокие шансы достичь успеха в 2017 году, она должна быть выпущена на двух платформах PS4 и XOne (если на одной, то PS4) в жанре \"Action\" или \"Shooter\", иметь высокий рейтинг у критиков и рейтинг ESRB - \"М\". Рекламные кампании для PS4 проводить предпочтительнее в  Европе, а для XOne - в Северной Америке.**\n"
   ]
  }
 ],
 "metadata": {
  "ExecuteTimeLog": [
   {
    "duration": 1346,
    "start_time": "2021-10-19T13:32:14.715Z"
   },
   {
    "duration": 48,
    "start_time": "2021-10-19T13:33:35.847Z"
   },
   {
    "duration": 18,
    "start_time": "2021-10-19T13:33:48.499Z"
   },
   {
    "duration": 473,
    "start_time": "2021-10-19T13:37:17.451Z"
   },
   {
    "duration": 218,
    "start_time": "2021-10-19T13:38:02.703Z"
   },
   {
    "duration": 14,
    "start_time": "2021-10-19T13:38:04.009Z"
   },
   {
    "duration": 51,
    "start_time": "2021-10-19T13:38:58.816Z"
   },
   {
    "duration": 24,
    "start_time": "2021-10-19T13:40:10.190Z"
   },
   {
    "duration": 29,
    "start_time": "2021-10-19T13:41:54.705Z"
   },
   {
    "duration": 8,
    "start_time": "2021-10-19T13:42:21.653Z"
   },
   {
    "duration": 9,
    "start_time": "2021-10-19T13:43:05.650Z"
   },
   {
    "duration": 391,
    "start_time": "2021-10-19T13:59:27.810Z"
   },
   {
    "duration": 187,
    "start_time": "2021-10-19T14:00:02.277Z"
   },
   {
    "duration": 117,
    "start_time": "2021-10-19T14:00:19.967Z"
   },
   {
    "duration": 129,
    "start_time": "2021-10-19T14:00:31.373Z"
   },
   {
    "duration": 4,
    "start_time": "2021-10-19T14:00:54.951Z"
   },
   {
    "duration": 19,
    "start_time": "2021-10-19T14:01:02.051Z"
   },
   {
    "duration": 4,
    "start_time": "2021-10-19T14:01:12.661Z"
   },
   {
    "duration": 19,
    "start_time": "2021-10-19T14:01:13.549Z"
   },
   {
    "duration": 6,
    "start_time": "2021-10-19T14:01:28.753Z"
   },
   {
    "duration": 7,
    "start_time": "2021-10-19T14:01:53.324Z"
   },
   {
    "duration": 5,
    "start_time": "2021-10-19T14:02:17.821Z"
   },
   {
    "duration": 5,
    "start_time": "2021-10-19T14:02:33.440Z"
   },
   {
    "duration": 377,
    "start_time": "2021-10-19T14:02:41.567Z"
   },
   {
    "duration": 435,
    "start_time": "2021-10-19T14:03:00.970Z"
   },
   {
    "duration": 129,
    "start_time": "2021-10-19T14:03:13.717Z"
   },
   {
    "duration": 359,
    "start_time": "2021-10-19T14:03:19.284Z"
   },
   {
    "duration": 5,
    "start_time": "2021-10-19T14:03:54.817Z"
   },
   {
    "duration": 6,
    "start_time": "2021-10-19T14:04:05.868Z"
   },
   {
    "duration": 8,
    "start_time": "2021-10-19T14:04:18.526Z"
   },
   {
    "duration": 5,
    "start_time": "2021-10-19T14:04:33.608Z"
   },
   {
    "duration": 5,
    "start_time": "2021-10-19T14:05:16.970Z"
   },
   {
    "duration": 6,
    "start_time": "2021-10-19T14:05:32.155Z"
   },
   {
    "duration": 4,
    "start_time": "2021-10-19T14:06:12.625Z"
   },
   {
    "duration": 20,
    "start_time": "2021-10-19T14:06:14.996Z"
   },
   {
    "duration": 4,
    "start_time": "2021-10-19T14:08:47.470Z"
   },
   {
    "duration": 19,
    "start_time": "2021-10-19T14:08:48.563Z"
   },
   {
    "duration": 1542,
    "start_time": "2021-10-19T14:08:57.434Z"
   },
   {
    "duration": 15,
    "start_time": "2021-10-19T14:08:58.979Z"
   },
   {
    "duration": 42,
    "start_time": "2021-10-19T14:08:58.998Z"
   },
   {
    "duration": 21,
    "start_time": "2021-10-19T14:08:59.043Z"
   },
   {
    "duration": 23,
    "start_time": "2021-10-19T14:08:59.067Z"
   },
   {
    "duration": 51,
    "start_time": "2021-10-19T14:08:59.093Z"
   },
   {
    "duration": 26,
    "start_time": "2021-10-19T14:10:22.522Z"
   },
   {
    "duration": 25,
    "start_time": "2021-10-19T14:10:42.998Z"
   },
   {
    "duration": 10,
    "start_time": "2021-10-19T14:11:45.288Z"
   },
   {
    "duration": 18672,
    "start_time": "2021-10-19T14:11:59.930Z"
   },
   {
    "duration": 16,
    "start_time": "2021-10-19T14:12:36.025Z"
   },
   {
    "duration": 16,
    "start_time": "2021-10-19T14:12:43.394Z"
   },
   {
    "duration": 16,
    "start_time": "2021-10-19T14:12:57.239Z"
   },
   {
    "duration": 27,
    "start_time": "2021-10-19T14:13:07.497Z"
   },
   {
    "duration": 1547,
    "start_time": "2021-10-19T14:15:16.598Z"
   },
   {
    "duration": 42,
    "start_time": "2021-10-19T14:15:31.443Z"
   },
   {
    "duration": 26,
    "start_time": "2021-10-19T14:15:52.852Z"
   },
   {
    "duration": 7,
    "start_time": "2021-10-19T14:19:20.353Z"
   },
   {
    "duration": 21,
    "start_time": "2021-10-19T14:19:28.218Z"
   },
   {
    "duration": 438,
    "start_time": "2021-10-19T14:23:33.189Z"
   },
   {
    "duration": 10,
    "start_time": "2021-10-19T14:23:44.810Z"
   },
   {
    "duration": 471,
    "start_time": "2021-10-19T14:24:04.171Z"
   },
   {
    "duration": 8,
    "start_time": "2021-10-19T14:24:15.934Z"
   },
   {
    "duration": 25,
    "start_time": "2021-10-19T14:24:17.103Z"
   },
   {
    "duration": 8,
    "start_time": "2021-10-19T14:32:45.214Z"
   },
   {
    "duration": 20,
    "start_time": "2021-10-19T14:32:54.162Z"
   },
   {
    "duration": 9,
    "start_time": "2021-10-19T14:39:39.757Z"
   },
   {
    "duration": 22,
    "start_time": "2021-10-19T14:39:42.643Z"
   },
   {
    "duration": 1778,
    "start_time": "2021-10-19T14:39:53.594Z"
   },
   {
    "duration": 17,
    "start_time": "2021-10-19T14:39:55.375Z"
   },
   {
    "duration": 32,
    "start_time": "2021-10-19T14:39:55.396Z"
   },
   {
    "duration": 32,
    "start_time": "2021-10-19T14:39:55.431Z"
   },
   {
    "duration": 21,
    "start_time": "2021-10-19T14:39:55.465Z"
   },
   {
    "duration": 33,
    "start_time": "2021-10-19T14:39:55.489Z"
   },
   {
    "duration": 38,
    "start_time": "2021-10-19T14:39:55.524Z"
   },
   {
    "duration": 7,
    "start_time": "2021-10-19T14:39:55.566Z"
   },
   {
    "duration": 22,
    "start_time": "2021-10-19T14:39:55.576Z"
   },
   {
    "duration": 8,
    "start_time": "2021-10-19T14:40:27.105Z"
   },
   {
    "duration": 27,
    "start_time": "2021-10-19T14:46:38.699Z"
   },
   {
    "duration": 498,
    "start_time": "2021-10-19T14:48:16.090Z"
   },
   {
    "duration": 394,
    "start_time": "2021-10-19T14:49:37.525Z"
   },
   {
    "duration": 431,
    "start_time": "2021-10-19T14:49:55.233Z"
   },
   {
    "duration": 406,
    "start_time": "2021-10-19T14:51:13.801Z"
   },
   {
    "duration": 396,
    "start_time": "2021-10-19T14:51:55.022Z"
   },
   {
    "duration": 462,
    "start_time": "2021-10-19T14:52:17.641Z"
   },
   {
    "duration": 26,
    "start_time": "2021-10-19T14:52:33.996Z"
   },
   {
    "duration": 26,
    "start_time": "2021-10-19T14:52:58.431Z"
   },
   {
    "duration": 1579,
    "start_time": "2021-10-19T14:53:52.082Z"
   },
   {
    "duration": 126,
    "start_time": "2021-10-19T14:54:28.537Z"
   },
   {
    "duration": 27,
    "start_time": "2021-10-19T14:54:54.399Z"
   },
   {
    "duration": 33,
    "start_time": "2021-10-19T14:59:20.938Z"
   },
   {
    "duration": 394,
    "start_time": "2021-10-19T15:04:02.688Z"
   },
   {
    "duration": 11,
    "start_time": "2021-10-19T15:04:29.470Z"
   },
   {
    "duration": 33,
    "start_time": "2021-10-19T15:04:34.265Z"
   },
   {
    "duration": 26,
    "start_time": "2021-10-19T15:13:14.001Z"
   },
   {
    "duration": 1436,
    "start_time": "2021-10-19T15:13:43.240Z"
   },
   {
    "duration": 14,
    "start_time": "2021-10-19T15:13:44.679Z"
   },
   {
    "duration": 22,
    "start_time": "2021-10-19T15:13:44.697Z"
   },
   {
    "duration": 8,
    "start_time": "2021-10-19T15:13:44.721Z"
   },
   {
    "duration": 43,
    "start_time": "2021-10-19T15:13:44.731Z"
   },
   {
    "duration": 32,
    "start_time": "2021-10-19T15:13:44.777Z"
   },
   {
    "duration": 7,
    "start_time": "2021-10-19T15:13:44.811Z"
   },
   {
    "duration": 40,
    "start_time": "2021-10-19T15:13:44.822Z"
   },
   {
    "duration": 20,
    "start_time": "2021-10-19T15:13:44.864Z"
   },
   {
    "duration": 29,
    "start_time": "2021-10-19T15:13:44.886Z"
   },
   {
    "duration": 47,
    "start_time": "2021-10-19T15:13:44.918Z"
   },
   {
    "duration": 16,
    "start_time": "2021-10-19T15:16:57.886Z"
   },
   {
    "duration": 24,
    "start_time": "2021-10-19T15:17:12.683Z"
   },
   {
    "duration": 31,
    "start_time": "2021-10-19T15:18:41.079Z"
   },
   {
    "duration": 35,
    "start_time": "2021-10-19T15:20:40.153Z"
   },
   {
    "duration": 35,
    "start_time": "2021-10-19T15:21:05.425Z"
   },
   {
    "duration": 763,
    "start_time": "2021-10-19T15:21:25.946Z"
   },
   {
    "duration": 32,
    "start_time": "2021-10-19T15:21:50.253Z"
   },
   {
    "duration": 30,
    "start_time": "2021-10-19T15:27:08.645Z"
   },
   {
    "duration": 427,
    "start_time": "2021-10-19T15:27:41.285Z"
   },
   {
    "duration": 132,
    "start_time": "2021-10-19T15:28:00.751Z"
   },
   {
    "duration": 406,
    "start_time": "2021-10-19T15:28:42.353Z"
   },
   {
    "duration": 62,
    "start_time": "2021-10-19T15:29:04.633Z"
   },
   {
    "duration": 390,
    "start_time": "2021-10-19T15:29:43.005Z"
   },
   {
    "duration": 50,
    "start_time": "2021-10-19T15:34:57.571Z"
   },
   {
    "duration": 35,
    "start_time": "2021-10-19T15:36:00.198Z"
   },
   {
    "duration": 34,
    "start_time": "2021-10-19T15:36:45.426Z"
   },
   {
    "duration": 10,
    "start_time": "2021-10-19T15:37:28.741Z"
   },
   {
    "duration": 11,
    "start_time": "2021-10-19T15:37:49.932Z"
   },
   {
    "duration": 9,
    "start_time": "2021-10-19T15:41:39.783Z"
   },
   {
    "duration": 10,
    "start_time": "2021-10-19T15:41:42.818Z"
   },
   {
    "duration": 18,
    "start_time": "2021-10-19T15:47:21.207Z"
   },
   {
    "duration": 29,
    "start_time": "2021-10-19T15:49:17.807Z"
   },
   {
    "duration": 18,
    "start_time": "2021-10-19T15:49:27.364Z"
   },
   {
    "duration": 376,
    "start_time": "2021-10-19T15:50:39.822Z"
   },
   {
    "duration": 481,
    "start_time": "2021-10-19T15:51:21.518Z"
   },
   {
    "duration": 18,
    "start_time": "2021-10-19T15:51:33.890Z"
   },
   {
    "duration": 408,
    "start_time": "2021-10-19T15:51:35.367Z"
   },
   {
    "duration": 407,
    "start_time": "2021-10-19T15:52:25.157Z"
   },
   {
    "duration": 6,
    "start_time": "2021-10-19T15:53:25.230Z"
   },
   {
    "duration": 18,
    "start_time": "2021-10-19T15:53:27.833Z"
   },
   {
    "duration": 6,
    "start_time": "2021-10-19T15:53:28.717Z"
   },
   {
    "duration": 6,
    "start_time": "2021-10-19T15:53:39.781Z"
   },
   {
    "duration": 16,
    "start_time": "2021-10-19T15:54:15.219Z"
   },
   {
    "duration": 5,
    "start_time": "2021-10-19T15:54:19.565Z"
   },
   {
    "duration": 16,
    "start_time": "2021-10-19T15:54:25.145Z"
   },
   {
    "duration": 6,
    "start_time": "2021-10-19T15:54:26.182Z"
   },
   {
    "duration": 17,
    "start_time": "2021-10-19T15:54:55.269Z"
   },
   {
    "duration": 5,
    "start_time": "2021-10-19T15:54:56.039Z"
   },
   {
    "duration": 388,
    "start_time": "2021-10-19T15:56:26.336Z"
   },
   {
    "duration": 392,
    "start_time": "2021-10-19T15:56:43.223Z"
   },
   {
    "duration": 22,
    "start_time": "2021-10-19T15:57:43.379Z"
   },
   {
    "duration": 32,
    "start_time": "2021-10-19T15:58:16.872Z"
   },
   {
    "duration": 517,
    "start_time": "2021-10-19T15:59:11.250Z"
   },
   {
    "duration": 124,
    "start_time": "2021-10-19T15:59:26.437Z"
   },
   {
    "duration": 403,
    "start_time": "2021-10-19T15:59:36.505Z"
   },
   {
    "duration": 24,
    "start_time": "2021-10-19T15:59:56.227Z"
   },
   {
    "duration": 14,
    "start_time": "2021-10-19T16:00:03.325Z"
   },
   {
    "duration": 6,
    "start_time": "2021-10-19T16:12:19.123Z"
   },
   {
    "duration": 6,
    "start_time": "2021-10-19T16:12:33.674Z"
   },
   {
    "duration": 7,
    "start_time": "2021-10-19T16:12:48.989Z"
   },
   {
    "duration": 24,
    "start_time": "2021-10-19T16:14:03.928Z"
   },
   {
    "duration": 7,
    "start_time": "2021-10-19T16:14:04.854Z"
   },
   {
    "duration": 6,
    "start_time": "2021-10-19T16:14:16.350Z"
   },
   {
    "duration": 6,
    "start_time": "2021-10-19T16:14:30.947Z"
   },
   {
    "duration": 9,
    "start_time": "2021-10-19T16:14:32.799Z"
   },
   {
    "duration": 441,
    "start_time": "2021-10-19T16:14:49.832Z"
   },
   {
    "duration": 9,
    "start_time": "2021-10-19T16:14:54.854Z"
   },
   {
    "duration": 6,
    "start_time": "2021-10-19T16:15:07.179Z"
   },
   {
    "duration": 16,
    "start_time": "2021-10-19T16:16:03.514Z"
   },
   {
    "duration": 5,
    "start_time": "2021-10-19T16:16:04.330Z"
   },
   {
    "duration": 23,
    "start_time": "2021-10-19T16:16:23.725Z"
   },
   {
    "duration": 1670,
    "start_time": "2021-10-19T16:16:32.056Z"
   },
   {
    "duration": 13,
    "start_time": "2021-10-19T16:16:33.729Z"
   },
   {
    "duration": 44,
    "start_time": "2021-10-19T16:16:33.745Z"
   },
   {
    "duration": 13,
    "start_time": "2021-10-19T16:16:33.792Z"
   },
   {
    "duration": 30,
    "start_time": "2021-10-19T16:16:33.807Z"
   },
   {
    "duration": 54,
    "start_time": "2021-10-19T16:16:33.839Z"
   },
   {
    "duration": 7,
    "start_time": "2021-10-19T16:16:33.896Z"
   },
   {
    "duration": 17,
    "start_time": "2021-10-19T16:16:33.906Z"
   },
   {
    "duration": 32,
    "start_time": "2021-10-19T16:16:33.925Z"
   },
   {
    "duration": 45,
    "start_time": "2021-10-19T16:16:33.961Z"
   },
   {
    "duration": 9,
    "start_time": "2021-10-19T16:16:34.009Z"
   },
   {
    "duration": 22,
    "start_time": "2021-10-19T16:16:34.021Z"
   },
   {
    "duration": 38,
    "start_time": "2021-10-19T16:16:34.046Z"
   },
   {
    "duration": 15,
    "start_time": "2021-10-19T16:16:34.087Z"
   },
   {
    "duration": 36,
    "start_time": "2021-10-19T16:16:34.105Z"
   },
   {
    "duration": 6,
    "start_time": "2021-10-19T16:17:22.890Z"
   },
   {
    "duration": 14,
    "start_time": "2021-10-19T16:18:59.181Z"
   },
   {
    "duration": 516,
    "start_time": "2021-10-19T16:25:08.138Z"
   },
   {
    "duration": 820,
    "start_time": "2021-10-19T16:28:00.814Z"
   },
   {
    "duration": 696,
    "start_time": "2021-10-19T16:28:27.002Z"
   },
   {
    "duration": 724,
    "start_time": "2021-10-19T16:28:59.807Z"
   },
   {
    "duration": 777,
    "start_time": "2021-10-19T16:29:42.831Z"
   },
   {
    "duration": 656,
    "start_time": "2021-10-19T16:29:54.401Z"
   },
   {
    "duration": 458,
    "start_time": "2021-10-19T16:30:23.165Z"
   },
   {
    "duration": 136,
    "start_time": "2021-10-19T16:30:47.669Z"
   },
   {
    "duration": 392,
    "start_time": "2021-10-19T16:30:54.745Z"
   },
   {
    "duration": 427,
    "start_time": "2021-10-19T16:31:32.829Z"
   },
   {
    "duration": 3181,
    "start_time": "2021-10-19T16:33:04.337Z"
   },
   {
    "duration": 2913,
    "start_time": "2021-10-19T16:33:16.278Z"
   },
   {
    "duration": 305,
    "start_time": "2021-10-19T16:33:47.637Z"
   },
   {
    "duration": 219,
    "start_time": "2021-10-19T16:34:05.712Z"
   },
   {
    "duration": 381,
    "start_time": "2021-10-19T16:34:24.987Z"
   },
   {
    "duration": 380,
    "start_time": "2021-10-19T16:34:54.423Z"
   },
   {
    "duration": 3007,
    "start_time": "2021-10-19T16:35:01.381Z"
   },
   {
    "duration": 548,
    "start_time": "2021-10-19T16:37:00.172Z"
   },
   {
    "duration": 507,
    "start_time": "2021-10-19T16:37:51.541Z"
   },
   {
    "duration": 528,
    "start_time": "2021-10-19T16:37:59.629Z"
   },
   {
    "duration": 480,
    "start_time": "2021-10-19T16:38:10.207Z"
   },
   {
    "duration": 486,
    "start_time": "2021-10-19T16:38:21.461Z"
   },
   {
    "duration": 634,
    "start_time": "2021-10-19T16:38:48.777Z"
   },
   {
    "duration": 697,
    "start_time": "2021-10-19T16:39:01.242Z"
   },
   {
    "duration": 605,
    "start_time": "2021-10-19T16:39:17.225Z"
   },
   {
    "duration": 607,
    "start_time": "2021-10-19T16:39:25.398Z"
   },
   {
    "duration": 703,
    "start_time": "2021-10-19T16:39:40.054Z"
   },
   {
    "duration": 344,
    "start_time": "2021-10-20T13:18:21.057Z"
   },
   {
    "duration": 1088,
    "start_time": "2021-10-20T13:18:32.853Z"
   },
   {
    "duration": 11,
    "start_time": "2021-10-20T13:18:33.943Z"
   },
   {
    "duration": 15,
    "start_time": "2021-10-20T13:18:33.956Z"
   },
   {
    "duration": 5,
    "start_time": "2021-10-20T13:18:33.973Z"
   },
   {
    "duration": 14,
    "start_time": "2021-10-20T13:18:33.979Z"
   },
   {
    "duration": 54,
    "start_time": "2021-10-20T13:18:33.994Z"
   },
   {
    "duration": 8,
    "start_time": "2021-10-20T13:18:34.050Z"
   },
   {
    "duration": 5,
    "start_time": "2021-10-20T13:18:34.061Z"
   },
   {
    "duration": 13,
    "start_time": "2021-10-20T13:18:34.068Z"
   },
   {
    "duration": 19,
    "start_time": "2021-10-20T13:18:34.083Z"
   },
   {
    "duration": 44,
    "start_time": "2021-10-20T13:18:34.104Z"
   },
   {
    "duration": 8,
    "start_time": "2021-10-20T13:18:34.149Z"
   },
   {
    "duration": 16,
    "start_time": "2021-10-20T13:18:34.158Z"
   },
   {
    "duration": 18,
    "start_time": "2021-10-20T13:18:34.176Z"
   },
   {
    "duration": 11,
    "start_time": "2021-10-20T13:18:34.195Z"
   },
   {
    "duration": 429,
    "start_time": "2021-10-20T13:18:34.208Z"
   },
   {
    "duration": 379,
    "start_time": "2021-10-20T13:18:34.639Z"
   },
   {
    "duration": 9,
    "start_time": "2021-10-20T13:19:43.162Z"
   },
   {
    "duration": 6,
    "start_time": "2021-10-20T13:19:46.350Z"
   },
   {
    "duration": 5,
    "start_time": "2021-10-20T13:20:02.584Z"
   },
   {
    "duration": 6,
    "start_time": "2021-10-20T13:20:08.649Z"
   },
   {
    "duration": 8,
    "start_time": "2021-10-20T13:20:44.105Z"
   },
   {
    "duration": 5,
    "start_time": "2021-10-20T13:20:45.158Z"
   },
   {
    "duration": 277,
    "start_time": "2021-10-20T13:22:48.088Z"
   },
   {
    "duration": 8,
    "start_time": "2021-10-20T13:22:52.840Z"
   },
   {
    "duration": 8,
    "start_time": "2021-10-20T13:22:53.528Z"
   },
   {
    "duration": 6,
    "start_time": "2021-10-20T13:44:12.860Z"
   },
   {
    "duration": 21,
    "start_time": "2021-10-20T13:44:18.777Z"
   },
   {
    "duration": 272,
    "start_time": "2021-10-20T13:48:22.331Z"
   },
   {
    "duration": 7,
    "start_time": "2021-10-20T13:48:26.425Z"
   },
   {
    "duration": 287,
    "start_time": "2021-10-20T13:48:27.154Z"
   },
   {
    "duration": 6,
    "start_time": "2021-10-20T13:48:33.832Z"
   },
   {
    "duration": 1907,
    "start_time": "2021-10-20T13:48:58.383Z"
   },
   {
    "duration": 488,
    "start_time": "2021-10-20T13:51:33.667Z"
   },
   {
    "duration": 557,
    "start_time": "2021-10-20T13:52:02.259Z"
   },
   {
    "duration": 64,
    "start_time": "2021-10-20T13:52:35.831Z"
   },
   {
    "duration": 500,
    "start_time": "2021-10-20T13:54:13.828Z"
   },
   {
    "duration": 516,
    "start_time": "2021-10-20T13:54:30.197Z"
   },
   {
    "duration": 393,
    "start_time": "2021-10-20T13:54:53.057Z"
   },
   {
    "duration": 408,
    "start_time": "2021-10-20T13:55:53.626Z"
   },
   {
    "duration": 373,
    "start_time": "2021-10-20T13:56:44.319Z"
   },
   {
    "duration": 15616,
    "start_time": "2021-10-20T13:57:14.067Z"
   },
   {
    "duration": 482,
    "start_time": "2021-10-20T13:59:34.228Z"
   },
   {
    "duration": 103,
    "start_time": "2021-10-20T14:00:47.089Z"
   },
   {
    "duration": 490,
    "start_time": "2021-10-20T14:00:53.862Z"
   },
   {
    "duration": 20819,
    "start_time": "2021-10-20T14:01:32.244Z"
   },
   {
    "duration": 20195,
    "start_time": "2021-10-20T14:02:47.241Z"
   },
   {
    "duration": 6648,
    "start_time": "2021-10-20T14:05:34.638Z"
   },
   {
    "duration": 9105,
    "start_time": "2021-10-20T14:06:17.421Z"
   },
   {
    "duration": 22093,
    "start_time": "2021-10-20T14:06:47.064Z"
   },
   {
    "duration": 10,
    "start_time": "2021-10-20T14:07:26.719Z"
   },
   {
    "duration": 280,
    "start_time": "2021-10-20T14:08:46.087Z"
   },
   {
    "duration": 292,
    "start_time": "2021-10-20T14:09:40.583Z"
   },
   {
    "duration": 4,
    "start_time": "2021-10-20T14:09:53.008Z"
   },
   {
    "duration": 267,
    "start_time": "2021-10-20T14:10:37.803Z"
   },
   {
    "duration": 21730,
    "start_time": "2021-10-20T14:10:59.722Z"
   },
   {
    "duration": 13,
    "start_time": "2021-10-20T14:11:45.386Z"
   },
   {
    "duration": 183,
    "start_time": "2021-10-20T14:13:16.542Z"
   },
   {
    "duration": 473,
    "start_time": "2021-10-20T14:13:39.307Z"
   },
   {
    "duration": 182,
    "start_time": "2021-10-20T14:13:55.046Z"
   },
   {
    "duration": 285,
    "start_time": "2021-10-20T14:15:06.030Z"
   },
   {
    "duration": 1102,
    "start_time": "2021-10-20T14:16:01.559Z"
   },
   {
    "duration": 12,
    "start_time": "2021-10-20T14:16:02.663Z"
   },
   {
    "duration": 15,
    "start_time": "2021-10-20T14:16:02.678Z"
   },
   {
    "duration": 5,
    "start_time": "2021-10-20T14:16:02.695Z"
   },
   {
    "duration": 18,
    "start_time": "2021-10-20T14:16:02.702Z"
   },
   {
    "duration": 43,
    "start_time": "2021-10-20T14:16:02.722Z"
   },
   {
    "duration": 8,
    "start_time": "2021-10-20T14:16:02.767Z"
   },
   {
    "duration": 6,
    "start_time": "2021-10-20T14:16:02.777Z"
   },
   {
    "duration": 16,
    "start_time": "2021-10-20T14:16:02.785Z"
   },
   {
    "duration": 28,
    "start_time": "2021-10-20T14:16:02.802Z"
   },
   {
    "duration": 7,
    "start_time": "2021-10-20T14:16:02.844Z"
   },
   {
    "duration": 7,
    "start_time": "2021-10-20T14:16:02.852Z"
   },
   {
    "duration": 15,
    "start_time": "2021-10-20T14:16:02.861Z"
   },
   {
    "duration": 16,
    "start_time": "2021-10-20T14:16:02.878Z"
   },
   {
    "duration": 10,
    "start_time": "2021-10-20T14:16:02.895Z"
   },
   {
    "duration": 415,
    "start_time": "2021-10-20T14:16:02.906Z"
   },
   {
    "duration": 9,
    "start_time": "2021-10-20T14:16:03.322Z"
   },
   {
    "duration": 20,
    "start_time": "2021-10-20T14:16:03.333Z"
   },
   {
    "duration": 343,
    "start_time": "2021-10-20T14:16:03.355Z"
   },
   {
    "duration": -51,
    "start_time": "2021-10-20T14:16:03.751Z"
   },
   {
    "duration": -58,
    "start_time": "2021-10-20T14:16:03.759Z"
   },
   {
    "duration": 10,
    "start_time": "2021-10-20T14:16:23.564Z"
   },
   {
    "duration": 5,
    "start_time": "2021-10-20T14:18:36.758Z"
   },
   {
    "duration": 267,
    "start_time": "2021-10-20T14:18:41.716Z"
   },
   {
    "duration": 172,
    "start_time": "2021-10-20T14:19:08.307Z"
   },
   {
    "duration": 184,
    "start_time": "2021-10-20T14:21:09.157Z"
   },
   {
    "duration": 375,
    "start_time": "2021-10-20T14:22:51.715Z"
   },
   {
    "duration": 233,
    "start_time": "2021-10-20T14:23:50.913Z"
   },
   {
    "duration": 201,
    "start_time": "2021-10-20T14:25:16.129Z"
   },
   {
    "duration": 199,
    "start_time": "2021-10-20T14:25:44.511Z"
   },
   {
    "duration": 195,
    "start_time": "2021-10-20T14:27:44.364Z"
   },
   {
    "duration": 293,
    "start_time": "2021-10-20T14:28:22.167Z"
   },
   {
    "duration": 320,
    "start_time": "2021-10-20T14:28:41.065Z"
   },
   {
    "duration": 214,
    "start_time": "2021-10-20T14:29:23.252Z"
   },
   {
    "duration": 222,
    "start_time": "2021-10-20T14:30:09.663Z"
   },
   {
    "duration": 224,
    "start_time": "2021-10-20T14:31:47.522Z"
   },
   {
    "duration": 7043,
    "start_time": "2021-10-20T14:33:00.499Z"
   },
   {
    "duration": 315,
    "start_time": "2021-10-20T14:33:22.307Z"
   },
   {
    "duration": 26,
    "start_time": "2021-10-20T14:35:37.549Z"
   },
   {
    "duration": 299,
    "start_time": "2021-10-20T14:37:33.848Z"
   },
   {
    "duration": 22,
    "start_time": "2021-10-20T14:37:42.492Z"
   },
   {
    "duration": 424,
    "start_time": "2021-10-20T14:39:02.528Z"
   },
   {
    "duration": 432,
    "start_time": "2021-10-20T14:39:14.573Z"
   },
   {
    "duration": 261,
    "start_time": "2021-10-20T14:39:36.495Z"
   },
   {
    "duration": 268,
    "start_time": "2021-10-20T14:39:43.568Z"
   },
   {
    "duration": 285,
    "start_time": "2021-10-20T14:39:51.429Z"
   },
   {
    "duration": 337,
    "start_time": "2021-10-20T14:40:03.415Z"
   },
   {
    "duration": 289,
    "start_time": "2021-10-20T14:41:55.106Z"
   },
   {
    "duration": 322,
    "start_time": "2021-10-20T14:42:25.590Z"
   },
   {
    "duration": 311,
    "start_time": "2021-10-20T14:42:59.999Z"
   },
   {
    "duration": 299,
    "start_time": "2021-10-20T14:43:54.545Z"
   },
   {
    "duration": 25,
    "start_time": "2021-10-20T14:44:12.964Z"
   },
   {
    "duration": 294,
    "start_time": "2021-10-20T14:50:36.165Z"
   },
   {
    "duration": 277,
    "start_time": "2021-10-20T14:50:51.472Z"
   },
   {
    "duration": 277,
    "start_time": "2021-10-20T14:52:18.383Z"
   },
   {
    "duration": 288,
    "start_time": "2021-10-20T14:53:10.371Z"
   },
   {
    "duration": 10,
    "start_time": "2021-10-20T14:53:40.529Z"
   },
   {
    "duration": 4,
    "start_time": "2021-10-20T14:54:19.611Z"
   },
   {
    "duration": 290,
    "start_time": "2021-10-20T14:54:27.274Z"
   },
   {
    "duration": 11,
    "start_time": "2021-10-20T14:54:31.294Z"
   },
   {
    "duration": 4,
    "start_time": "2021-10-20T14:54:32.303Z"
   },
   {
    "duration": 7,
    "start_time": "2021-10-20T14:54:52.186Z"
   },
   {
    "duration": 4,
    "start_time": "2021-10-20T14:56:05.370Z"
   },
   {
    "duration": 6,
    "start_time": "2021-10-20T14:56:08.893Z"
   },
   {
    "duration": 10,
    "start_time": "2021-10-20T14:56:14.889Z"
   },
   {
    "duration": 285,
    "start_time": "2021-10-20T14:56:43.113Z"
   },
   {
    "duration": 337,
    "start_time": "2021-10-20T14:57:43.854Z"
   },
   {
    "duration": 543,
    "start_time": "2021-10-20T14:58:57.003Z"
   },
   {
    "duration": 330,
    "start_time": "2021-10-20T14:59:08.692Z"
   },
   {
    "duration": 326,
    "start_time": "2021-10-20T14:59:14.749Z"
   },
   {
    "duration": 10,
    "start_time": "2021-10-20T15:01:23.573Z"
   },
   {
    "duration": 271,
    "start_time": "2021-10-20T15:26:52.120Z"
   },
   {
    "duration": 123,
    "start_time": "2021-10-20T15:27:11.206Z"
   },
   {
    "duration": 347,
    "start_time": "2021-10-20T15:37:37.448Z"
   },
   {
    "duration": 267,
    "start_time": "2021-10-20T15:44:33.398Z"
   },
   {
    "duration": 277,
    "start_time": "2021-10-20T15:44:45.922Z"
   },
   {
    "duration": 708,
    "start_time": "2021-10-20T15:46:03.544Z"
   },
   {
    "duration": 607,
    "start_time": "2021-10-20T15:46:46.820Z"
   },
   {
    "duration": 315,
    "start_time": "2021-10-20T15:47:10.139Z"
   },
   {
    "duration": 245,
    "start_time": "2021-10-20T15:47:32.333Z"
   },
   {
    "duration": 286,
    "start_time": "2021-10-20T15:48:15.966Z"
   },
   {
    "duration": 292,
    "start_time": "2021-10-20T15:48:50.792Z"
   },
   {
    "duration": 281,
    "start_time": "2021-10-20T15:50:49.452Z"
   },
   {
    "duration": 293,
    "start_time": "2021-10-20T15:51:22.880Z"
   },
   {
    "duration": 280,
    "start_time": "2021-10-20T15:52:28.094Z"
   },
   {
    "duration": 579,
    "start_time": "2021-10-20T15:53:31.708Z"
   },
   {
    "duration": 305,
    "start_time": "2021-10-20T15:53:43.762Z"
   },
   {
    "duration": 318,
    "start_time": "2021-10-20T15:54:01.404Z"
   },
   {
    "duration": 398,
    "start_time": "2021-10-20T15:54:15.473Z"
   },
   {
    "duration": 318,
    "start_time": "2021-10-20T15:55:18.438Z"
   },
   {
    "duration": 291,
    "start_time": "2021-10-20T15:55:42.580Z"
   },
   {
    "duration": 281,
    "start_time": "2021-10-20T15:56:20.508Z"
   },
   {
    "duration": 418,
    "start_time": "2021-10-20T15:57:01.230Z"
   },
   {
    "duration": 13833,
    "start_time": "2021-10-20T15:58:50.166Z"
   },
   {
    "duration": 10210,
    "start_time": "2021-10-20T15:59:13.498Z"
   },
   {
    "duration": 494,
    "start_time": "2021-10-20T15:59:34.705Z"
   },
   {
    "duration": 486,
    "start_time": "2021-10-20T16:01:11.998Z"
   },
   {
    "duration": 418,
    "start_time": "2021-10-20T16:01:31.858Z"
   },
   {
    "duration": 2137,
    "start_time": "2021-10-20T16:01:50.324Z"
   },
   {
    "duration": 545,
    "start_time": "2021-10-20T16:02:03.879Z"
   },
   {
    "duration": 521,
    "start_time": "2021-10-20T16:02:18.824Z"
   },
   {
    "duration": 592,
    "start_time": "2021-10-20T16:02:27.583Z"
   },
   {
    "duration": 275,
    "start_time": "2021-10-20T16:02:57.958Z"
   },
   {
    "duration": 302,
    "start_time": "2021-10-20T16:03:15.852Z"
   },
   {
    "duration": 280,
    "start_time": "2021-10-20T16:03:22.858Z"
   },
   {
    "duration": 397,
    "start_time": "2021-10-20T16:03:33.664Z"
   },
   {
    "duration": 319,
    "start_time": "2021-10-20T16:04:09.131Z"
   },
   {
    "duration": 470,
    "start_time": "2021-10-20T16:04:23.904Z"
   },
   {
    "duration": 304,
    "start_time": "2021-10-20T16:04:33.997Z"
   },
   {
    "duration": 307,
    "start_time": "2021-10-20T16:04:42.110Z"
   },
   {
    "duration": 300,
    "start_time": "2021-10-20T16:05:04.597Z"
   },
   {
    "duration": 224,
    "start_time": "2021-10-20T16:05:30.927Z"
   },
   {
    "duration": 276,
    "start_time": "2021-10-20T16:05:39.506Z"
   },
   {
    "duration": 299,
    "start_time": "2021-10-20T16:05:47.995Z"
   },
   {
    "duration": 307,
    "start_time": "2021-10-20T16:05:57.985Z"
   },
   {
    "duration": 515,
    "start_time": "2021-10-20T16:06:23.164Z"
   },
   {
    "duration": 369,
    "start_time": "2021-10-20T16:06:37.839Z"
   },
   {
    "duration": 388,
    "start_time": "2021-10-20T16:06:57.215Z"
   },
   {
    "duration": 438,
    "start_time": "2021-10-20T16:07:07.398Z"
   },
   {
    "duration": 358,
    "start_time": "2021-10-20T16:07:14.207Z"
   },
   {
    "duration": 378,
    "start_time": "2021-10-20T16:07:27.709Z"
   },
   {
    "duration": 298,
    "start_time": "2021-10-20T16:08:18.916Z"
   },
   {
    "duration": 257,
    "start_time": "2021-10-20T16:08:31.322Z"
   },
   {
    "duration": 278,
    "start_time": "2021-10-20T16:08:41.849Z"
   },
   {
    "duration": 295,
    "start_time": "2021-10-20T16:08:50.082Z"
   },
   {
    "duration": 358,
    "start_time": "2021-10-20T16:12:02.739Z"
   },
   {
    "duration": 353,
    "start_time": "2021-10-20T16:12:11.508Z"
   },
   {
    "duration": 494,
    "start_time": "2021-10-20T16:12:20.673Z"
   },
   {
    "duration": 308,
    "start_time": "2021-10-20T16:12:39.632Z"
   },
   {
    "duration": 365,
    "start_time": "2021-10-20T16:13:10.179Z"
   },
   {
    "duration": 132,
    "start_time": "2021-10-20T16:20:56.554Z"
   },
   {
    "duration": 120,
    "start_time": "2021-10-20T16:23:40.852Z"
   },
   {
    "duration": 147,
    "start_time": "2021-10-20T16:26:35.049Z"
   },
   {
    "duration": 143,
    "start_time": "2021-10-20T16:26:52.119Z"
   },
   {
    "duration": 301,
    "start_time": "2021-10-20T16:29:11.829Z"
   },
   {
    "duration": 326,
    "start_time": "2021-10-20T16:29:47.219Z"
   },
   {
    "duration": 299,
    "start_time": "2021-10-20T16:30:05.068Z"
   },
   {
    "duration": 243,
    "start_time": "2021-10-20T16:30:21.889Z"
   },
   {
    "duration": 131,
    "start_time": "2021-10-20T16:30:31.379Z"
   },
   {
    "duration": 290,
    "start_time": "2021-10-20T16:31:00.626Z"
   },
   {
    "duration": 187,
    "start_time": "2021-10-20T16:31:12.604Z"
   },
   {
    "duration": 221,
    "start_time": "2021-10-20T16:31:17.991Z"
   },
   {
    "duration": 291,
    "start_time": "2021-10-20T16:31:31.524Z"
   },
   {
    "duration": 257,
    "start_time": "2021-10-20T16:31:40.692Z"
   },
   {
    "duration": 267,
    "start_time": "2021-10-20T16:31:46.447Z"
   },
   {
    "duration": 257,
    "start_time": "2021-10-20T16:32:19.543Z"
   },
   {
    "duration": 279,
    "start_time": "2021-10-20T16:32:28.315Z"
   },
   {
    "duration": 1261,
    "start_time": "2021-10-21T14:44:29.119Z"
   },
   {
    "duration": 12,
    "start_time": "2021-10-21T14:44:30.382Z"
   },
   {
    "duration": 23,
    "start_time": "2021-10-21T14:44:30.398Z"
   },
   {
    "duration": 20,
    "start_time": "2021-10-21T14:44:30.423Z"
   },
   {
    "duration": 21,
    "start_time": "2021-10-21T14:44:30.445Z"
   },
   {
    "duration": 40,
    "start_time": "2021-10-21T14:44:30.468Z"
   },
   {
    "duration": 12,
    "start_time": "2021-10-21T14:44:30.511Z"
   },
   {
    "duration": 22,
    "start_time": "2021-10-21T14:44:30.526Z"
   },
   {
    "duration": 23,
    "start_time": "2021-10-21T14:44:30.551Z"
   },
   {
    "duration": 41,
    "start_time": "2021-10-21T14:44:30.576Z"
   },
   {
    "duration": 8,
    "start_time": "2021-10-21T14:44:30.620Z"
   },
   {
    "duration": 16,
    "start_time": "2021-10-21T14:44:30.629Z"
   },
   {
    "duration": 28,
    "start_time": "2021-10-21T14:44:30.647Z"
   },
   {
    "duration": 33,
    "start_time": "2021-10-21T14:44:30.677Z"
   },
   {
    "duration": 15,
    "start_time": "2021-10-21T14:44:30.712Z"
   },
   {
    "duration": 428,
    "start_time": "2021-10-21T14:44:30.729Z"
   },
   {
    "duration": 10,
    "start_time": "2021-10-21T14:44:31.159Z"
   },
   {
    "duration": 18,
    "start_time": "2021-10-21T14:44:31.171Z"
   },
   {
    "duration": 7,
    "start_time": "2021-10-21T14:44:31.191Z"
   },
   {
    "duration": 312,
    "start_time": "2021-10-21T14:44:31.199Z"
   },
   {
    "duration": 381,
    "start_time": "2021-10-21T14:44:31.513Z"
   },
   {
    "duration": 246,
    "start_time": "2021-10-21T14:44:31.897Z"
   },
   {
    "duration": 1540,
    "start_time": "2021-10-23T08:59:45.307Z"
   },
   {
    "duration": 13,
    "start_time": "2021-10-23T08:59:46.850Z"
   },
   {
    "duration": 23,
    "start_time": "2021-10-23T08:59:46.865Z"
   },
   {
    "duration": 6,
    "start_time": "2021-10-23T08:59:46.890Z"
   },
   {
    "duration": 18,
    "start_time": "2021-10-23T08:59:46.923Z"
   },
   {
    "duration": 34,
    "start_time": "2021-10-23T08:59:46.943Z"
   },
   {
    "duration": 7,
    "start_time": "2021-10-23T08:59:46.979Z"
   },
   {
    "duration": 37,
    "start_time": "2021-10-23T08:59:46.989Z"
   },
   {
    "duration": 20,
    "start_time": "2021-10-23T08:59:47.029Z"
   },
   {
    "duration": 28,
    "start_time": "2021-10-23T08:59:47.051Z"
   },
   {
    "duration": 42,
    "start_time": "2021-10-23T08:59:47.081Z"
   },
   {
    "duration": 10,
    "start_time": "2021-10-23T08:59:47.125Z"
   },
   {
    "duration": 15,
    "start_time": "2021-10-23T08:59:47.137Z"
   },
   {
    "duration": 22,
    "start_time": "2021-10-23T08:59:47.154Z"
   },
   {
    "duration": 46,
    "start_time": "2021-10-23T08:59:47.178Z"
   },
   {
    "duration": 562,
    "start_time": "2021-10-23T08:59:47.227Z"
   },
   {
    "duration": 392,
    "start_time": "2021-10-23T08:59:47.791Z"
   },
   {
    "duration": 168,
    "start_time": "2021-10-23T08:59:48.019Z"
   },
   {
    "duration": 160,
    "start_time": "2021-10-23T08:59:48.028Z"
   },
   {
    "duration": 154,
    "start_time": "2021-10-23T08:59:48.035Z"
   },
   {
    "duration": 152,
    "start_time": "2021-10-23T08:59:48.039Z"
   },
   {
    "duration": 149,
    "start_time": "2021-10-23T08:59:48.043Z"
   },
   {
    "duration": 313,
    "start_time": "2021-10-23T09:00:33.617Z"
   },
   {
    "duration": 20,
    "start_time": "2021-10-23T09:00:49.328Z"
   },
   {
    "duration": 80,
    "start_time": "2021-10-23T09:01:05.858Z"
   },
   {
    "duration": 113,
    "start_time": "2021-10-23T09:02:02.346Z"
   },
   {
    "duration": 274,
    "start_time": "2021-10-23T09:02:14.571Z"
   },
   {
    "duration": 21,
    "start_time": "2021-10-23T09:02:29.231Z"
   },
   {
    "duration": 313,
    "start_time": "2021-10-23T09:02:32.681Z"
   },
   {
    "duration": 16,
    "start_time": "2021-10-23T09:03:10.711Z"
   },
   {
    "duration": 10,
    "start_time": "2021-10-23T09:03:13.828Z"
   },
   {
    "duration": 17,
    "start_time": "2021-10-23T09:04:44.014Z"
   },
   {
    "duration": 10,
    "start_time": "2021-10-23T09:04:45.336Z"
   },
   {
    "duration": 8,
    "start_time": "2021-10-23T09:06:25.758Z"
   },
   {
    "duration": 472,
    "start_time": "2021-10-23T09:06:27.728Z"
   },
   {
    "duration": 547,
    "start_time": "2021-10-23T09:06:37.523Z"
   },
   {
    "duration": 309,
    "start_time": "2021-10-23T09:06:56.136Z"
   },
   {
    "duration": 337,
    "start_time": "2021-10-23T09:10:38.401Z"
   },
   {
    "duration": 309,
    "start_time": "2021-10-23T09:11:09.448Z"
   },
   {
    "duration": 311,
    "start_time": "2021-10-23T09:11:40.839Z"
   },
   {
    "duration": 18,
    "start_time": "2021-10-23T09:11:57.603Z"
   },
   {
    "duration": 5,
    "start_time": "2021-10-23T09:12:38.048Z"
   },
   {
    "duration": 12,
    "start_time": "2021-10-23T09:12:43.497Z"
   },
   {
    "duration": 435,
    "start_time": "2021-10-23T09:13:04.596Z"
   },
   {
    "duration": 430,
    "start_time": "2021-10-23T09:19:08.168Z"
   },
   {
    "duration": 492,
    "start_time": "2021-10-23T09:19:48.546Z"
   },
   {
    "duration": 488,
    "start_time": "2021-10-23T09:25:41.269Z"
   },
   {
    "duration": 443,
    "start_time": "2021-10-23T09:25:59.442Z"
   },
   {
    "duration": 422,
    "start_time": "2021-10-23T09:26:18.803Z"
   },
   {
    "duration": 421,
    "start_time": "2021-10-23T09:26:48.756Z"
   },
   {
    "duration": 422,
    "start_time": "2021-10-23T09:26:58.986Z"
   },
   {
    "duration": 416,
    "start_time": "2021-10-23T09:27:06.666Z"
   },
   {
    "duration": 426,
    "start_time": "2021-10-23T09:27:23.791Z"
   },
   {
    "duration": 18,
    "start_time": "2021-10-23T09:51:14.706Z"
   },
   {
    "duration": 7,
    "start_time": "2021-10-23T10:08:18.005Z"
   },
   {
    "duration": 6714,
    "start_time": "2021-10-23T10:11:10.776Z"
   },
   {
    "duration": 7857,
    "start_time": "2021-10-23T10:13:35.787Z"
   },
   {
    "duration": 7,
    "start_time": "2021-10-23T10:14:11.717Z"
   },
   {
    "duration": 10,
    "start_time": "2021-10-23T10:14:18.827Z"
   },
   {
    "duration": 11,
    "start_time": "2021-10-23T10:15:39.150Z"
   },
   {
    "duration": 30,
    "start_time": "2021-10-23T10:15:40.810Z"
   },
   {
    "duration": 1041,
    "start_time": "2021-10-23T10:15:57.401Z"
   },
   {
    "duration": 15,
    "start_time": "2021-10-23T10:16:51.980Z"
   },
   {
    "duration": 23,
    "start_time": "2021-10-23T10:16:59.323Z"
   },
   {
    "duration": 8,
    "start_time": "2021-10-23T10:30:27.158Z"
   },
   {
    "duration": 5,
    "start_time": "2021-10-23T10:30:42.020Z"
   },
   {
    "duration": 23,
    "start_time": "2021-10-23T10:31:31.080Z"
   },
   {
    "duration": 1449,
    "start_time": "2021-10-23T10:31:42.502Z"
   },
   {
    "duration": 14,
    "start_time": "2021-10-23T10:31:43.954Z"
   },
   {
    "duration": 22,
    "start_time": "2021-10-23T10:31:43.971Z"
   },
   {
    "duration": 30,
    "start_time": "2021-10-23T10:31:43.996Z"
   },
   {
    "duration": 7,
    "start_time": "2021-10-23T10:31:44.029Z"
   },
   {
    "duration": 27,
    "start_time": "2021-10-23T10:31:44.038Z"
   },
   {
    "duration": 30,
    "start_time": "2021-10-23T10:31:44.067Z"
   },
   {
    "duration": 7,
    "start_time": "2021-10-23T10:31:44.124Z"
   },
   {
    "duration": 10,
    "start_time": "2021-10-23T10:31:44.134Z"
   },
   {
    "duration": 20,
    "start_time": "2021-10-23T10:31:44.146Z"
   },
   {
    "duration": 60,
    "start_time": "2021-10-23T10:31:44.168Z"
   },
   {
    "duration": 10,
    "start_time": "2021-10-23T10:31:44.231Z"
   },
   {
    "duration": 10,
    "start_time": "2021-10-23T10:31:44.243Z"
   },
   {
    "duration": 16,
    "start_time": "2021-10-23T10:31:44.256Z"
   },
   {
    "duration": 54,
    "start_time": "2021-10-23T10:31:44.274Z"
   },
   {
    "duration": 14,
    "start_time": "2021-10-23T10:31:44.330Z"
   },
   {
    "duration": 564,
    "start_time": "2021-10-23T10:31:44.346Z"
   },
   {
    "duration": 20,
    "start_time": "2021-10-23T10:31:44.912Z"
   },
   {
    "duration": 22,
    "start_time": "2021-10-23T10:31:44.935Z"
   },
   {
    "duration": 13,
    "start_time": "2021-10-23T10:31:44.959Z"
   },
   {
    "duration": 472,
    "start_time": "2021-10-23T10:31:44.974Z"
   },
   {
    "duration": 542,
    "start_time": "2021-10-23T10:31:45.448Z"
   },
   {
    "duration": 335,
    "start_time": "2021-10-23T10:31:45.995Z"
   },
   {
    "duration": 17,
    "start_time": "2021-10-23T10:31:46.332Z"
   },
   {
    "duration": 539,
    "start_time": "2021-10-23T10:31:46.352Z"
   },
   {
    "duration": 15,
    "start_time": "2021-10-23T10:31:46.894Z"
   },
   {
    "duration": 543,
    "start_time": "2021-10-23T10:35:45.968Z"
   },
   {
    "duration": 636,
    "start_time": "2021-10-23T10:39:02.740Z"
   },
   {
    "duration": 599,
    "start_time": "2021-10-23T10:39:23.508Z"
   },
   {
    "duration": 818,
    "start_time": "2021-10-23T10:41:17.338Z"
   },
   {
    "duration": 569,
    "start_time": "2021-10-23T10:41:26.068Z"
   },
   {
    "duration": 1979,
    "start_time": "2021-10-23T10:48:18.668Z"
   },
   {
    "duration": 1849,
    "start_time": "2021-10-23T10:51:44.873Z"
   },
   {
    "duration": 19,
    "start_time": "2021-10-23T10:52:02.383Z"
   },
   {
    "duration": 13,
    "start_time": "2021-10-23T10:52:13.104Z"
   },
   {
    "duration": 19,
    "start_time": "2021-10-23T10:52:57.134Z"
   },
   {
    "duration": 13,
    "start_time": "2021-10-23T10:53:07.163Z"
   },
   {
    "duration": 15,
    "start_time": "2021-10-23T10:54:11.104Z"
   },
   {
    "duration": 265,
    "start_time": "2021-10-23T10:54:57.301Z"
   },
   {
    "duration": 13,
    "start_time": "2021-10-23T10:55:15.639Z"
   },
   {
    "duration": 6395,
    "start_time": "2021-10-23T10:55:30.974Z"
   },
   {
    "duration": 13,
    "start_time": "2021-10-23T10:55:55.898Z"
   },
   {
    "duration": 107,
    "start_time": "2021-10-23T10:57:45.434Z"
   },
   {
    "duration": 270,
    "start_time": "2021-10-23T10:57:51.829Z"
   },
   {
    "duration": 20,
    "start_time": "2021-10-23T10:59:12.500Z"
   },
   {
    "duration": 31,
    "start_time": "2021-10-23T10:59:32.188Z"
   },
   {
    "duration": 11,
    "start_time": "2021-10-23T11:00:10.564Z"
   },
   {
    "duration": 10,
    "start_time": "2021-10-23T11:05:46.093Z"
   },
   {
    "duration": 273,
    "start_time": "2021-10-23T11:06:42.689Z"
   },
   {
    "duration": 293,
    "start_time": "2021-10-23T11:07:03.457Z"
   },
   {
    "duration": 263,
    "start_time": "2021-10-23T11:07:13.393Z"
   },
   {
    "duration": 270,
    "start_time": "2021-10-23T11:12:37.323Z"
   },
   {
    "duration": 11,
    "start_time": "2021-10-23T11:14:34.938Z"
   },
   {
    "duration": 22,
    "start_time": "2021-10-23T11:14:38.635Z"
   },
   {
    "duration": 8,
    "start_time": "2021-10-23T11:14:50.618Z"
   },
   {
    "duration": 28,
    "start_time": "2021-10-23T11:14:53.659Z"
   },
   {
    "duration": 11,
    "start_time": "2021-10-23T11:15:00.433Z"
   },
   {
    "duration": 21,
    "start_time": "2021-10-23T11:15:01.165Z"
   },
   {
    "duration": 10,
    "start_time": "2021-10-23T11:15:06.721Z"
   },
   {
    "duration": 1482,
    "start_time": "2021-10-23T11:15:34.179Z"
   },
   {
    "duration": 14,
    "start_time": "2021-10-23T11:15:35.664Z"
   },
   {
    "duration": 41,
    "start_time": "2021-10-23T11:15:35.681Z"
   },
   {
    "duration": 8,
    "start_time": "2021-10-23T11:15:35.726Z"
   },
   {
    "duration": 13,
    "start_time": "2021-10-23T11:15:35.736Z"
   },
   {
    "duration": 22,
    "start_time": "2021-10-23T11:15:35.751Z"
   },
   {
    "duration": 74,
    "start_time": "2021-10-23T11:15:35.776Z"
   },
   {
    "duration": 7,
    "start_time": "2021-10-23T11:15:35.854Z"
   },
   {
    "duration": 11,
    "start_time": "2021-10-23T11:15:35.864Z"
   },
   {
    "duration": 46,
    "start_time": "2021-10-23T11:15:35.878Z"
   },
   {
    "duration": 28,
    "start_time": "2021-10-23T11:15:35.926Z"
   },
   {
    "duration": 10,
    "start_time": "2021-10-23T11:15:35.957Z"
   },
   {
    "duration": 53,
    "start_time": "2021-10-23T11:15:35.969Z"
   },
   {
    "duration": 22,
    "start_time": "2021-10-23T11:15:36.024Z"
   },
   {
    "duration": 24,
    "start_time": "2021-10-23T11:15:36.048Z"
   },
   {
    "duration": 14,
    "start_time": "2021-10-23T11:15:36.075Z"
   },
   {
    "duration": 570,
    "start_time": "2021-10-23T11:15:36.122Z"
   },
   {
    "duration": 30,
    "start_time": "2021-10-23T11:15:36.694Z"
   },
   {
    "duration": 11,
    "start_time": "2021-10-23T11:15:36.726Z"
   },
   {
    "duration": 9,
    "start_time": "2021-10-23T11:15:36.740Z"
   },
   {
    "duration": 511,
    "start_time": "2021-10-23T11:15:36.752Z"
   },
   {
    "duration": 450,
    "start_time": "2021-10-23T11:15:37.265Z"
   },
   {
    "duration": 340,
    "start_time": "2021-10-23T11:15:37.719Z"
   },
   {
    "duration": 17,
    "start_time": "2021-10-23T11:15:38.062Z"
   },
   {
    "duration": 593,
    "start_time": "2021-10-23T11:15:38.082Z"
   },
   {
    "duration": 9,
    "start_time": "2021-10-23T11:15:38.677Z"
   },
   {
    "duration": 402,
    "start_time": "2021-10-23T11:16:32.041Z"
   },
   {
    "duration": 13,
    "start_time": "2021-10-23T11:17:00.189Z"
   },
   {
    "duration": 14,
    "start_time": "2021-10-23T11:18:53.696Z"
   },
   {
    "duration": 269,
    "start_time": "2021-10-23T11:21:40.191Z"
   },
   {
    "duration": 13,
    "start_time": "2021-10-23T11:21:46.337Z"
   },
   {
    "duration": 548,
    "start_time": "2021-10-23T11:21:47.636Z"
   },
   {
    "duration": 346,
    "start_time": "2021-10-23T11:22:12.161Z"
   },
   {
    "duration": 325,
    "start_time": "2021-10-23T11:22:22.312Z"
   },
   {
    "duration": 293,
    "start_time": "2021-10-23T11:22:30.536Z"
   },
   {
    "duration": 286,
    "start_time": "2021-10-23T11:22:39.330Z"
   },
   {
    "duration": 428,
    "start_time": "2021-10-23T11:23:10.635Z"
   },
   {
    "duration": 727,
    "start_time": "2021-10-23T11:23:44.901Z"
   },
   {
    "duration": 261,
    "start_time": "2021-10-23T11:23:51.016Z"
   },
   {
    "duration": 282,
    "start_time": "2021-10-23T11:24:00.082Z"
   },
   {
    "duration": 564,
    "start_time": "2021-10-23T11:43:55.113Z"
   },
   {
    "duration": 631,
    "start_time": "2021-10-23T11:45:41.154Z"
   },
   {
    "duration": 768,
    "start_time": "2021-10-23T11:46:02.613Z"
   },
   {
    "duration": 13,
    "start_time": "2021-10-23T11:58:01.899Z"
   },
   {
    "duration": 15,
    "start_time": "2021-10-23T11:59:03.541Z"
   },
   {
    "duration": 12,
    "start_time": "2021-10-23T12:00:41.914Z"
   },
   {
    "duration": 660,
    "start_time": "2021-10-23T12:00:45.055Z"
   },
   {
    "duration": 632,
    "start_time": "2021-10-23T12:00:56.064Z"
   },
   {
    "duration": 428,
    "start_time": "2021-10-23T12:01:10.892Z"
   },
   {
    "duration": 24,
    "start_time": "2021-10-23T12:01:16.981Z"
   },
   {
    "duration": 558,
    "start_time": "2021-10-23T12:01:26.323Z"
   },
   {
    "duration": 272,
    "start_time": "2021-10-23T12:01:29.763Z"
   },
   {
    "duration": 34,
    "start_time": "2021-10-23T12:01:47.011Z"
   },
   {
    "duration": 645,
    "start_time": "2021-10-23T12:02:13.270Z"
   },
   {
    "duration": 278,
    "start_time": "2021-10-23T12:02:18.033Z"
   },
   {
    "duration": 21,
    "start_time": "2021-10-23T12:04:57.704Z"
   },
   {
    "duration": 25,
    "start_time": "2021-10-23T12:05:05.260Z"
   },
   {
    "duration": 35,
    "start_time": "2021-10-23T12:06:01.384Z"
   },
   {
    "duration": 33,
    "start_time": "2021-10-23T12:06:24.494Z"
   },
   {
    "duration": 31,
    "start_time": "2021-10-23T12:06:33.743Z"
   },
   {
    "duration": 278,
    "start_time": "2021-10-23T12:07:33.623Z"
   },
   {
    "duration": 288,
    "start_time": "2021-10-23T12:08:14.263Z"
   },
   {
    "duration": 618,
    "start_time": "2021-10-23T12:08:33.418Z"
   },
   {
    "duration": 347,
    "start_time": "2021-10-23T12:08:45.500Z"
   },
   {
    "duration": 326,
    "start_time": "2021-10-23T12:09:06.343Z"
   },
   {
    "duration": 408,
    "start_time": "2021-10-23T12:09:20.951Z"
   },
   {
    "duration": 455,
    "start_time": "2021-10-23T12:10:53.164Z"
   },
   {
    "duration": 462,
    "start_time": "2021-10-23T12:11:06.814Z"
   },
   {
    "duration": 438,
    "start_time": "2021-10-23T12:12:14.933Z"
   },
   {
    "duration": 569,
    "start_time": "2021-10-23T12:12:53.173Z"
   },
   {
    "duration": 806,
    "start_time": "2021-10-23T12:13:31.631Z"
   },
   {
    "duration": 447,
    "start_time": "2021-10-23T12:13:41.466Z"
   },
   {
    "duration": 313,
    "start_time": "2021-10-23T12:13:59.873Z"
   },
   {
    "duration": 609,
    "start_time": "2021-10-23T12:14:45.093Z"
   },
   {
    "duration": 581,
    "start_time": "2021-10-23T12:15:23.013Z"
   },
   {
    "duration": 605,
    "start_time": "2021-10-23T12:16:20.243Z"
   },
   {
    "duration": 300,
    "start_time": "2021-10-23T12:16:41.973Z"
   },
   {
    "duration": 286,
    "start_time": "2021-10-23T12:16:46.246Z"
   },
   {
    "duration": 299,
    "start_time": "2021-10-23T12:17:07.563Z"
   },
   {
    "duration": 32,
    "start_time": "2021-10-23T12:18:25.963Z"
   },
   {
    "duration": 277,
    "start_time": "2021-10-23T12:18:27.353Z"
   },
   {
    "duration": 1626,
    "start_time": "2021-10-23T12:18:47.097Z"
   },
   {
    "duration": 265,
    "start_time": "2021-10-23T12:19:04.103Z"
   },
   {
    "duration": 547,
    "start_time": "2021-10-23T12:19:11.632Z"
   },
   {
    "duration": 532,
    "start_time": "2021-10-23T12:19:28.113Z"
   },
   {
    "duration": 260,
    "start_time": "2021-10-23T12:19:35.851Z"
   },
   {
    "duration": 584,
    "start_time": "2021-10-23T12:21:14.911Z"
   },
   {
    "duration": 274,
    "start_time": "2021-10-23T12:21:39.222Z"
   },
   {
    "duration": 573,
    "start_time": "2021-10-23T12:23:55.086Z"
   },
   {
    "duration": 580,
    "start_time": "2021-10-23T12:24:16.527Z"
   },
   {
    "duration": 567,
    "start_time": "2021-10-23T12:24:32.692Z"
   },
   {
    "duration": 568,
    "start_time": "2021-10-23T12:27:44.556Z"
   },
   {
    "duration": 256,
    "start_time": "2021-10-23T12:28:05.640Z"
   },
   {
    "duration": 364,
    "start_time": "2021-10-23T12:28:33.431Z"
   },
   {
    "duration": 261,
    "start_time": "2021-10-23T12:28:50.966Z"
   },
   {
    "duration": 259,
    "start_time": "2021-10-23T12:28:59.165Z"
   },
   {
    "duration": 293,
    "start_time": "2021-10-23T12:29:27.016Z"
   },
   {
    "duration": 320,
    "start_time": "2021-10-23T12:30:12.507Z"
   },
   {
    "duration": 461,
    "start_time": "2021-10-23T12:30:39.301Z"
   },
   {
    "duration": 845,
    "start_time": "2021-10-23T12:30:46.504Z"
   },
   {
    "duration": 760,
    "start_time": "2021-10-23T12:30:57.410Z"
   },
   {
    "duration": 710,
    "start_time": "2021-10-23T12:31:08.941Z"
   },
   {
    "duration": 504,
    "start_time": "2021-10-23T12:31:21.341Z"
   },
   {
    "duration": 507,
    "start_time": "2021-10-23T12:31:34.263Z"
   },
   {
    "duration": 632,
    "start_time": "2021-10-23T12:32:01.521Z"
   },
   {
    "duration": 505,
    "start_time": "2021-10-23T12:32:13.161Z"
   },
   {
    "duration": 519,
    "start_time": "2021-10-23T12:32:23.313Z"
   },
   {
    "duration": 578,
    "start_time": "2021-10-23T12:32:33.556Z"
   },
   {
    "duration": 515,
    "start_time": "2021-10-23T12:32:48.923Z"
   },
   {
    "duration": 292,
    "start_time": "2021-10-23T12:35:32.331Z"
   },
   {
    "duration": 828,
    "start_time": "2021-10-23T12:35:55.581Z"
   },
   {
    "duration": 491,
    "start_time": "2021-10-23T12:36:19.090Z"
   },
   {
    "duration": 500,
    "start_time": "2021-10-23T12:37:09.171Z"
   },
   {
    "duration": 497,
    "start_time": "2021-10-23T12:37:53.891Z"
   },
   {
    "duration": 836,
    "start_time": "2021-10-23T12:38:04.383Z"
   },
   {
    "duration": 505,
    "start_time": "2021-10-23T12:38:11.141Z"
   },
   {
    "duration": 560,
    "start_time": "2021-10-23T12:38:26.201Z"
   },
   {
    "duration": 507,
    "start_time": "2021-10-23T12:38:39.427Z"
   },
   {
    "duration": 473,
    "start_time": "2021-10-23T12:38:49.115Z"
   },
   {
    "duration": 885,
    "start_time": "2021-10-23T12:39:27.937Z"
   },
   {
    "duration": 763,
    "start_time": "2021-10-23T12:39:37.504Z"
   },
   {
    "duration": 491,
    "start_time": "2021-10-23T12:40:11.456Z"
   },
   {
    "duration": 426,
    "start_time": "2021-10-23T12:40:56.902Z"
   },
   {
    "duration": 450,
    "start_time": "2021-10-23T12:41:17.822Z"
   },
   {
    "duration": 433,
    "start_time": "2021-10-23T12:41:35.028Z"
   },
   {
    "duration": 427,
    "start_time": "2021-10-23T12:41:41.747Z"
   },
   {
    "duration": 417,
    "start_time": "2021-10-23T12:41:48.864Z"
   },
   {
    "duration": 813,
    "start_time": "2021-10-23T12:43:03.476Z"
   },
   {
    "duration": 542,
    "start_time": "2021-10-23T12:44:45.890Z"
   },
   {
    "duration": 702,
    "start_time": "2021-10-23T12:45:00.502Z"
   },
   {
    "duration": 557,
    "start_time": "2021-10-23T12:46:38.928Z"
   },
   {
    "duration": 565,
    "start_time": "2021-10-23T12:47:18.584Z"
   },
   {
    "duration": 564,
    "start_time": "2021-10-23T12:47:29.774Z"
   },
   {
    "duration": 556,
    "start_time": "2021-10-23T12:47:37.453Z"
   },
   {
    "duration": 972,
    "start_time": "2021-10-23T12:53:10.102Z"
   },
   {
    "duration": 588,
    "start_time": "2021-10-23T12:53:25.064Z"
   },
   {
    "duration": 276,
    "start_time": "2021-10-23T12:56:04.011Z"
   },
   {
    "duration": 7873,
    "start_time": "2021-10-23T12:56:52.762Z"
   },
   {
    "duration": 618,
    "start_time": "2021-10-23T12:57:57.681Z"
   },
   {
    "duration": 667,
    "start_time": "2021-10-23T12:58:14.612Z"
   },
   {
    "duration": 866,
    "start_time": "2021-10-23T12:58:36.518Z"
   },
   {
    "duration": 734,
    "start_time": "2021-10-23T12:58:52.315Z"
   },
   {
    "duration": 666,
    "start_time": "2021-10-23T12:59:10.110Z"
   },
   {
    "duration": 751,
    "start_time": "2021-10-23T13:01:24.023Z"
   },
   {
    "duration": 620,
    "start_time": "2021-10-23T13:01:43.476Z"
   },
   {
    "duration": 645,
    "start_time": "2021-10-23T13:01:53.718Z"
   },
   {
    "duration": 9,
    "start_time": "2021-10-23T13:10:09.064Z"
   },
   {
    "duration": 18,
    "start_time": "2021-10-23T13:10:24.994Z"
   },
   {
    "duration": 93,
    "start_time": "2021-10-23T13:11:41.708Z"
   },
   {
    "duration": 7,
    "start_time": "2021-10-23T13:15:30.625Z"
   },
   {
    "duration": 287,
    "start_time": "2021-10-23T13:28:01.806Z"
   },
   {
    "duration": 291,
    "start_time": "2021-10-23T13:28:27.595Z"
   },
   {
    "duration": 281,
    "start_time": "2021-10-23T13:29:20.725Z"
   },
   {
    "duration": 320,
    "start_time": "2021-10-23T13:29:47.626Z"
   },
   {
    "duration": 288,
    "start_time": "2021-10-23T13:30:23.825Z"
   },
   {
    "duration": 279,
    "start_time": "2021-10-23T13:30:38.355Z"
   },
   {
    "duration": 283,
    "start_time": "2021-10-23T13:30:50.355Z"
   },
   {
    "duration": 286,
    "start_time": "2021-10-23T13:31:03.146Z"
   },
   {
    "duration": 291,
    "start_time": "2021-10-23T13:34:19.166Z"
   },
   {
    "duration": 468,
    "start_time": "2021-10-23T13:37:03.608Z"
   },
   {
    "duration": 46,
    "start_time": "2021-10-23T13:37:21.465Z"
   },
   {
    "duration": 584,
    "start_time": "2021-10-23T13:37:27.265Z"
   },
   {
    "duration": 25,
    "start_time": "2021-10-23T13:39:08.113Z"
   },
   {
    "duration": 8,
    "start_time": "2021-10-23T13:39:18.048Z"
   },
   {
    "duration": 318,
    "start_time": "2021-10-23T13:39:30.627Z"
   },
   {
    "duration": 8,
    "start_time": "2021-10-23T13:40:10.913Z"
   },
   {
    "duration": 28,
    "start_time": "2021-10-23T13:42:04.713Z"
   },
   {
    "duration": 30,
    "start_time": "2021-10-23T13:42:10.217Z"
   },
   {
    "duration": 46,
    "start_time": "2021-10-23T13:42:19.378Z"
   },
   {
    "duration": 48,
    "start_time": "2021-10-23T13:43:12.192Z"
   },
   {
    "duration": 47,
    "start_time": "2021-10-23T13:43:18.155Z"
   },
   {
    "duration": 54,
    "start_time": "2021-10-23T13:43:31.948Z"
   },
   {
    "duration": 51,
    "start_time": "2021-10-23T13:43:38.803Z"
   },
   {
    "duration": 51,
    "start_time": "2021-10-23T13:43:48.349Z"
   },
   {
    "duration": 52,
    "start_time": "2021-10-23T13:44:11.496Z"
   },
   {
    "duration": 56,
    "start_time": "2021-10-23T13:44:24.556Z"
   },
   {
    "duration": 2245,
    "start_time": "2021-10-23T13:45:06.100Z"
   },
   {
    "duration": 91,
    "start_time": "2021-10-23T13:45:33.128Z"
   },
   {
    "duration": 1895,
    "start_time": "2021-10-23T13:45:38.819Z"
   },
   {
    "duration": 305,
    "start_time": "2021-10-23T13:47:01.291Z"
   },
   {
    "duration": 75,
    "start_time": "2021-10-23T13:47:31.442Z"
   },
   {
    "duration": 102,
    "start_time": "2021-10-23T13:47:39.414Z"
   },
   {
    "duration": 56,
    "start_time": "2021-10-23T13:47:48.812Z"
   },
   {
    "duration": 54,
    "start_time": "2021-10-23T13:47:54.877Z"
   },
   {
    "duration": 57,
    "start_time": "2021-10-23T13:48:16.119Z"
   },
   {
    "duration": 342,
    "start_time": "2021-10-23T13:50:26.951Z"
   },
   {
    "duration": 58,
    "start_time": "2021-10-23T13:52:34.573Z"
   },
   {
    "duration": 92,
    "start_time": "2021-10-23T13:52:55.752Z"
   },
   {
    "duration": 53,
    "start_time": "2021-10-23T13:53:12.353Z"
   },
   {
    "duration": 149,
    "start_time": "2021-10-23T13:56:29.666Z"
   },
   {
    "duration": 1009,
    "start_time": "2021-10-23T13:56:38.918Z"
   },
   {
    "duration": 59,
    "start_time": "2021-10-23T13:57:35.173Z"
   },
   {
    "duration": 76,
    "start_time": "2021-10-23T14:00:32.012Z"
   },
   {
    "duration": 72,
    "start_time": "2021-10-23T14:01:08.204Z"
   },
   {
    "duration": 79,
    "start_time": "2021-10-23T14:01:19.979Z"
   },
   {
    "duration": 7462,
    "start_time": "2021-10-23T14:06:07.907Z"
   },
   {
    "duration": 9161,
    "start_time": "2021-10-23T14:06:31.760Z"
   },
   {
    "duration": 11284,
    "start_time": "2021-10-23T14:06:47.271Z"
   },
   {
    "duration": 62,
    "start_time": "2021-10-23T14:08:34.148Z"
   },
   {
    "duration": 10362,
    "start_time": "2021-10-23T14:08:49.587Z"
   },
   {
    "duration": 460,
    "start_time": "2021-10-23T14:09:50.840Z"
   },
   {
    "duration": 66,
    "start_time": "2021-10-23T14:10:02.632Z"
   },
   {
    "duration": 66,
    "start_time": "2021-10-23T14:10:31.839Z"
   },
   {
    "duration": 72,
    "start_time": "2021-10-23T14:10:51.092Z"
   },
   {
    "duration": 89,
    "start_time": "2021-10-23T14:11:18.879Z"
   },
   {
    "duration": 89,
    "start_time": "2021-10-23T14:11:28.563Z"
   },
   {
    "duration": 14498,
    "start_time": "2021-10-23T14:14:02.130Z"
   },
   {
    "duration": 80,
    "start_time": "2021-10-23T14:14:46.219Z"
   },
   {
    "duration": 76,
    "start_time": "2021-10-23T14:16:04.963Z"
   },
   {
    "duration": 81,
    "start_time": "2021-10-23T14:16:44.119Z"
   },
   {
    "duration": 80,
    "start_time": "2021-10-23T14:17:20.182Z"
   },
   {
    "duration": 94,
    "start_time": "2021-10-23T14:18:47.630Z"
   },
   {
    "duration": 79,
    "start_time": "2021-10-23T14:39:00.173Z"
   },
   {
    "duration": 76,
    "start_time": "2021-10-23T14:39:20.568Z"
   },
   {
    "duration": 70,
    "start_time": "2021-10-23T15:46:53.181Z"
   },
   {
    "duration": 65,
    "start_time": "2021-10-23T16:04:26.170Z"
   },
   {
    "duration": 826,
    "start_time": "2021-10-23T16:05:52.213Z"
   },
   {
    "duration": 667,
    "start_time": "2021-10-23T16:09:21.447Z"
   },
   {
    "duration": 1730,
    "start_time": "2021-10-23T16:09:52.979Z"
   },
   {
    "duration": 316,
    "start_time": "2021-10-23T16:15:50.581Z"
   },
   {
    "duration": 301,
    "start_time": "2021-10-23T16:17:02.399Z"
   },
   {
    "duration": 1290,
    "start_time": "2021-10-23T16:18:24.452Z"
   },
   {
    "duration": 1475,
    "start_time": "2021-10-24T05:25:53.926Z"
   },
   {
    "duration": 15,
    "start_time": "2021-10-24T05:25:55.403Z"
   },
   {
    "duration": 23,
    "start_time": "2021-10-24T05:25:55.421Z"
   },
   {
    "duration": 6,
    "start_time": "2021-10-24T05:25:55.446Z"
   },
   {
    "duration": 36,
    "start_time": "2021-10-24T05:25:55.455Z"
   },
   {
    "duration": 20,
    "start_time": "2021-10-24T05:25:55.494Z"
   },
   {
    "duration": 35,
    "start_time": "2021-10-24T05:25:55.516Z"
   },
   {
    "duration": 33,
    "start_time": "2021-10-24T05:25:55.553Z"
   },
   {
    "duration": 7,
    "start_time": "2021-10-24T05:25:55.590Z"
   },
   {
    "duration": 20,
    "start_time": "2021-10-24T05:25:55.600Z"
   },
   {
    "duration": 60,
    "start_time": "2021-10-24T05:25:55.622Z"
   },
   {
    "duration": 11,
    "start_time": "2021-10-24T05:25:55.684Z"
   },
   {
    "duration": 10,
    "start_time": "2021-10-24T05:25:55.697Z"
   },
   {
    "duration": 17,
    "start_time": "2021-10-24T05:25:55.709Z"
   },
   {
    "duration": 54,
    "start_time": "2021-10-24T05:25:55.728Z"
   },
   {
    "duration": 13,
    "start_time": "2021-10-24T05:25:55.785Z"
   },
   {
    "duration": 569,
    "start_time": "2021-10-24T05:25:55.801Z"
   },
   {
    "duration": 20,
    "start_time": "2021-10-24T05:25:56.372Z"
   },
   {
    "duration": 13,
    "start_time": "2021-10-24T05:25:56.394Z"
   },
   {
    "duration": 10,
    "start_time": "2021-10-24T05:25:56.409Z"
   },
   {
    "duration": 489,
    "start_time": "2021-10-24T05:25:56.421Z"
   },
   {
    "duration": 428,
    "start_time": "2021-10-24T05:25:56.913Z"
   },
   {
    "duration": 359,
    "start_time": "2021-10-24T05:25:57.344Z"
   },
   {
    "duration": 17,
    "start_time": "2021-10-24T05:25:57.706Z"
   },
   {
    "duration": 629,
    "start_time": "2021-10-24T05:25:57.725Z"
   },
   {
    "duration": 403,
    "start_time": "2021-10-24T05:25:58.357Z"
   },
   {
    "duration": -1,
    "start_time": "2021-10-24T05:25:58.765Z"
   },
   {
    "duration": -11,
    "start_time": "2021-10-24T05:25:58.776Z"
   },
   {
    "duration": -21,
    "start_time": "2021-10-24T05:25:58.788Z"
   },
   {
    "duration": 723,
    "start_time": "2021-10-24T05:28:29.373Z"
   },
   {
    "duration": 6946,
    "start_time": "2021-10-24T05:30:50.281Z"
   },
   {
    "duration": 263,
    "start_time": "2021-10-24T05:31:25.202Z"
   },
   {
    "duration": 1392,
    "start_time": "2021-10-24T05:33:12.704Z"
   },
   {
    "duration": 15,
    "start_time": "2021-10-24T05:33:14.099Z"
   },
   {
    "duration": 34,
    "start_time": "2021-10-24T05:33:14.117Z"
   },
   {
    "duration": 7,
    "start_time": "2021-10-24T05:33:14.154Z"
   },
   {
    "duration": 10,
    "start_time": "2021-10-24T05:33:14.183Z"
   },
   {
    "duration": 19,
    "start_time": "2021-10-24T05:33:14.195Z"
   },
   {
    "duration": 32,
    "start_time": "2021-10-24T05:33:14.216Z"
   },
   {
    "duration": 35,
    "start_time": "2021-10-24T05:33:14.251Z"
   },
   {
    "duration": 8,
    "start_time": "2021-10-24T05:33:14.289Z"
   },
   {
    "duration": 21,
    "start_time": "2021-10-24T05:33:14.299Z"
   },
   {
    "duration": 64,
    "start_time": "2021-10-24T05:33:14.322Z"
   },
   {
    "duration": 10,
    "start_time": "2021-10-24T05:33:14.388Z"
   },
   {
    "duration": 10,
    "start_time": "2021-10-24T05:33:14.400Z"
   },
   {
    "duration": 16,
    "start_time": "2021-10-24T05:33:14.412Z"
   },
   {
    "duration": 55,
    "start_time": "2021-10-24T05:33:14.431Z"
   },
   {
    "duration": 13,
    "start_time": "2021-10-24T05:33:14.488Z"
   },
   {
    "duration": 570,
    "start_time": "2021-10-24T05:33:14.503Z"
   },
   {
    "duration": 16,
    "start_time": "2021-10-24T05:33:15.075Z"
   },
   {
    "duration": 12,
    "start_time": "2021-10-24T05:33:15.093Z"
   },
   {
    "duration": 10,
    "start_time": "2021-10-24T05:33:15.107Z"
   },
   {
    "duration": 523,
    "start_time": "2021-10-24T05:33:15.119Z"
   },
   {
    "duration": 426,
    "start_time": "2021-10-24T05:33:15.644Z"
   },
   {
    "duration": 316,
    "start_time": "2021-10-24T05:33:16.075Z"
   },
   {
    "duration": 17,
    "start_time": "2021-10-24T05:33:16.393Z"
   },
   {
    "duration": 532,
    "start_time": "2021-10-24T05:33:16.412Z"
   },
   {
    "duration": 280,
    "start_time": "2021-10-24T05:33:16.946Z"
   },
   {
    "duration": 23,
    "start_time": "2021-10-24T05:33:17.228Z"
   },
   {
    "duration": 603,
    "start_time": "2021-10-24T05:33:17.254Z"
   },
   {
    "duration": 482,
    "start_time": "2021-10-24T05:33:17.860Z"
   },
   {
    "duration": 423,
    "start_time": "2021-10-24T05:33:34.207Z"
   },
   {
    "duration": 441,
    "start_time": "2021-10-24T05:36:43.547Z"
   },
   {
    "duration": 448,
    "start_time": "2021-10-24T05:37:07.228Z"
   },
   {
    "duration": 468,
    "start_time": "2021-10-24T05:37:14.967Z"
   },
   {
    "duration": 458,
    "start_time": "2021-10-24T05:37:30.806Z"
   },
   {
    "duration": 478,
    "start_time": "2021-10-24T05:38:33.086Z"
   },
   {
    "duration": 473,
    "start_time": "2021-10-24T05:38:46.467Z"
   },
   {
    "duration": 455,
    "start_time": "2021-10-24T05:39:18.196Z"
   },
   {
    "duration": 466,
    "start_time": "2021-10-24T05:40:08.856Z"
   },
   {
    "duration": 555,
    "start_time": "2021-10-24T05:42:50.854Z"
   },
   {
    "duration": 450,
    "start_time": "2021-10-24T05:43:12.827Z"
   },
   {
    "duration": 484,
    "start_time": "2021-10-24T05:43:54.466Z"
   },
   {
    "duration": 463,
    "start_time": "2021-10-24T05:44:30.668Z"
   },
   {
    "duration": 473,
    "start_time": "2021-10-24T05:44:38.978Z"
   },
   {
    "duration": 63,
    "start_time": "2021-10-24T05:48:54.897Z"
   },
   {
    "duration": 393,
    "start_time": "2021-10-24T05:49:28.544Z"
   },
   {
    "duration": 414,
    "start_time": "2021-10-24T08:07:52.906Z"
   },
   {
    "duration": 434,
    "start_time": "2021-10-24T08:08:02.299Z"
   },
   {
    "duration": 402,
    "start_time": "2021-10-24T08:09:11.839Z"
   },
   {
    "duration": 835,
    "start_time": "2021-10-24T08:10:18.994Z"
   },
   {
    "duration": 66,
    "start_time": "2021-10-24T08:11:35.220Z"
   },
   {
    "duration": 1148,
    "start_time": "2021-10-24T08:21:17.964Z"
   },
   {
    "duration": 1309,
    "start_time": "2021-10-24T08:26:13.324Z"
   },
   {
    "duration": 1128,
    "start_time": "2021-10-24T08:26:52.997Z"
   },
   {
    "duration": 632,
    "start_time": "2021-10-24T08:27:35.767Z"
   },
   {
    "duration": 334,
    "start_time": "2021-10-24T08:28:06.504Z"
   },
   {
    "duration": 1107,
    "start_time": "2021-10-24T08:28:17.148Z"
   },
   {
    "duration": 158,
    "start_time": "2021-10-24T08:30:12.601Z"
   },
   {
    "duration": 321,
    "start_time": "2021-10-24T08:36:50.680Z"
   },
   {
    "duration": 287,
    "start_time": "2021-10-24T08:37:02.551Z"
   },
   {
    "duration": 73,
    "start_time": "2021-10-24T08:38:14.847Z"
   },
   {
    "duration": 12,
    "start_time": "2021-10-24T08:38:23.720Z"
   },
   {
    "duration": 331,
    "start_time": "2021-10-24T08:42:30.838Z"
   },
   {
    "duration": 319,
    "start_time": "2021-10-24T08:42:46.305Z"
   },
   {
    "duration": 73,
    "start_time": "2021-10-24T08:43:33.236Z"
   },
   {
    "duration": 15,
    "start_time": "2021-10-24T08:43:46.419Z"
   },
   {
    "duration": 25,
    "start_time": "2021-10-24T08:44:40.049Z"
   },
   {
    "duration": 424,
    "start_time": "2021-10-24T08:44:56.346Z"
   },
   {
    "duration": 6754,
    "start_time": "2021-10-24T08:45:24.614Z"
   },
   {
    "duration": 407,
    "start_time": "2021-10-24T08:46:35.016Z"
   },
   {
    "duration": 409,
    "start_time": "2021-10-24T08:46:41.795Z"
   },
   {
    "duration": 24,
    "start_time": "2021-10-24T08:47:06.296Z"
   },
   {
    "duration": 405,
    "start_time": "2021-10-24T08:47:45.155Z"
   },
   {
    "duration": 422,
    "start_time": "2021-10-24T08:47:56.736Z"
   },
   {
    "duration": 18,
    "start_time": "2021-10-24T08:48:44.580Z"
   },
   {
    "duration": 384,
    "start_time": "2021-10-24T08:48:58.806Z"
   },
   {
    "duration": 387,
    "start_time": "2021-10-24T08:49:07.497Z"
   },
   {
    "duration": 414,
    "start_time": "2021-10-24T08:49:14.677Z"
   },
   {
    "duration": 409,
    "start_time": "2021-10-24T08:50:04.477Z"
   },
   {
    "duration": 489,
    "start_time": "2021-10-24T08:51:31.608Z"
   },
   {
    "duration": 559,
    "start_time": "2021-10-24T08:51:51.486Z"
   },
   {
    "duration": 74,
    "start_time": "2021-10-24T08:53:37.465Z"
   },
   {
    "duration": 467,
    "start_time": "2021-10-24T08:53:43.387Z"
   },
   {
    "duration": 84,
    "start_time": "2021-10-24T08:55:30.318Z"
   },
   {
    "duration": 562,
    "start_time": "2021-10-24T08:55:36.585Z"
   },
   {
    "duration": 441,
    "start_time": "2021-10-24T09:28:49.212Z"
   },
   {
    "duration": 454,
    "start_time": "2021-10-24T09:29:16.477Z"
   },
   {
    "duration": 304,
    "start_time": "2021-10-24T10:05:18.453Z"
   },
   {
    "duration": 17,
    "start_time": "2021-10-24T10:06:01.689Z"
   },
   {
    "duration": 80,
    "start_time": "2021-10-24T10:06:26.104Z"
   },
   {
    "duration": 430,
    "start_time": "2021-10-24T10:06:31.259Z"
   },
   {
    "duration": 446,
    "start_time": "2021-10-24T10:06:47.042Z"
   },
   {
    "duration": 442,
    "start_time": "2021-10-24T10:08:07.362Z"
   },
   {
    "duration": 439,
    "start_time": "2021-10-24T10:08:26.807Z"
   },
   {
    "duration": 430,
    "start_time": "2021-10-24T10:08:36.066Z"
   },
   {
    "duration": 433,
    "start_time": "2021-10-24T10:08:53.985Z"
   },
   {
    "duration": 560,
    "start_time": "2021-10-24T10:09:04.374Z"
   },
   {
    "duration": 452,
    "start_time": "2021-10-24T10:09:50.929Z"
   },
   {
    "duration": 499,
    "start_time": "2021-10-24T10:10:34.811Z"
   },
   {
    "duration": 438,
    "start_time": "2021-10-24T10:11:03.895Z"
   },
   {
    "duration": 443,
    "start_time": "2021-10-24T10:11:11.625Z"
   },
   {
    "duration": 480,
    "start_time": "2021-10-24T10:11:40.576Z"
   },
   {
    "duration": 435,
    "start_time": "2021-10-24T10:14:22.547Z"
   },
   {
    "duration": 429,
    "start_time": "2021-10-24T10:14:30.897Z"
   },
   {
    "duration": 438,
    "start_time": "2021-10-24T10:14:56.600Z"
   },
   {
    "duration": 456,
    "start_time": "2021-10-24T10:15:32.271Z"
   },
   {
    "duration": 375,
    "start_time": "2021-10-24T15:41:09.137Z"
   },
   {
    "duration": 1533,
    "start_time": "2021-10-24T15:41:25.671Z"
   },
   {
    "duration": 18,
    "start_time": "2021-10-24T15:41:27.206Z"
   },
   {
    "duration": 44,
    "start_time": "2021-10-24T15:41:27.228Z"
   },
   {
    "duration": 8,
    "start_time": "2021-10-24T15:41:27.275Z"
   },
   {
    "duration": 11,
    "start_time": "2021-10-24T15:41:27.285Z"
   },
   {
    "duration": 20,
    "start_time": "2021-10-24T15:41:27.299Z"
   },
   {
    "duration": 73,
    "start_time": "2021-10-24T15:41:27.321Z"
   },
   {
    "duration": 6,
    "start_time": "2021-10-24T15:41:27.398Z"
   },
   {
    "duration": 14,
    "start_time": "2021-10-24T15:41:27.407Z"
   },
   {
    "duration": 43,
    "start_time": "2021-10-24T15:41:27.423Z"
   },
   {
    "duration": 28,
    "start_time": "2021-10-24T15:41:27.469Z"
   },
   {
    "duration": 10,
    "start_time": "2021-10-24T15:41:27.500Z"
   },
   {
    "duration": 11,
    "start_time": "2021-10-24T15:41:27.513Z"
   },
   {
    "duration": 52,
    "start_time": "2021-10-24T15:41:27.527Z"
   },
   {
    "duration": 24,
    "start_time": "2021-10-24T15:41:27.582Z"
   },
   {
    "duration": 15,
    "start_time": "2021-10-24T15:41:27.609Z"
   },
   {
    "duration": 620,
    "start_time": "2021-10-24T15:41:27.627Z"
   },
   {
    "duration": 27,
    "start_time": "2021-10-24T15:41:28.249Z"
   },
   {
    "duration": 13,
    "start_time": "2021-10-24T15:41:28.279Z"
   },
   {
    "duration": 11,
    "start_time": "2021-10-24T15:41:28.294Z"
   },
   {
    "duration": 495,
    "start_time": "2021-10-24T15:41:28.307Z"
   },
   {
    "duration": 458,
    "start_time": "2021-10-24T15:41:28.805Z"
   },
   {
    "duration": 312,
    "start_time": "2021-10-24T15:41:29.269Z"
   },
   {
    "duration": 17,
    "start_time": "2021-10-24T15:41:29.584Z"
   },
   {
    "duration": 557,
    "start_time": "2021-10-24T15:41:29.604Z"
   },
   {
    "duration": 324,
    "start_time": "2021-10-24T15:41:30.166Z"
   },
   {
    "duration": 25,
    "start_time": "2021-10-24T15:41:30.492Z"
   },
   {
    "duration": 637,
    "start_time": "2021-10-24T15:41:30.520Z"
   },
   {
    "duration": 82,
    "start_time": "2021-10-24T15:41:31.159Z"
   },
   {
    "duration": 478,
    "start_time": "2021-10-24T15:41:31.267Z"
   },
   {
    "duration": 471,
    "start_time": "2021-10-24T15:41:31.747Z"
   },
   {
    "duration": 432,
    "start_time": "2021-10-24T15:41:32.221Z"
   },
   {
    "duration": 18,
    "start_time": "2021-10-24T15:41:32.655Z"
   },
   {
    "duration": 12,
    "start_time": "2021-10-24T15:42:26.653Z"
   },
   {
    "duration": 10,
    "start_time": "2021-10-24T15:42:54.932Z"
   },
   {
    "duration": 12,
    "start_time": "2021-10-24T15:45:10.792Z"
   },
   {
    "duration": 12,
    "start_time": "2021-10-24T15:45:28.634Z"
   },
   {
    "duration": 7,
    "start_time": "2021-10-24T15:46:32.940Z"
   },
   {
    "duration": 6,
    "start_time": "2021-10-24T15:46:35.007Z"
   },
   {
    "duration": 7,
    "start_time": "2021-10-24T15:47:04.485Z"
   },
   {
    "duration": 7,
    "start_time": "2021-10-24T15:47:05.479Z"
   },
   {
    "duration": 12,
    "start_time": "2021-10-24T15:49:53.230Z"
   },
   {
    "duration": 14,
    "start_time": "2021-10-24T15:51:26.077Z"
   },
   {
    "duration": 17,
    "start_time": "2021-10-24T15:51:48.442Z"
   },
   {
    "duration": 13,
    "start_time": "2021-10-24T15:52:21.832Z"
   },
   {
    "duration": 13,
    "start_time": "2021-10-24T15:52:35.092Z"
   },
   {
    "duration": 11,
    "start_time": "2021-10-24T15:53:15.340Z"
   },
   {
    "duration": 1726,
    "start_time": "2021-10-25T12:42:20.796Z"
   },
   {
    "duration": 20,
    "start_time": "2021-10-25T12:42:22.526Z"
   },
   {
    "duration": 50,
    "start_time": "2021-10-25T12:42:22.550Z"
   },
   {
    "duration": 8,
    "start_time": "2021-10-25T12:42:22.604Z"
   },
   {
    "duration": 11,
    "start_time": "2021-10-25T12:42:22.615Z"
   },
   {
    "duration": 21,
    "start_time": "2021-10-25T12:42:22.628Z"
   },
   {
    "duration": 73,
    "start_time": "2021-10-25T12:42:22.652Z"
   },
   {
    "duration": 8,
    "start_time": "2021-10-25T12:42:22.728Z"
   },
   {
    "duration": 9,
    "start_time": "2021-10-25T12:42:22.741Z"
   },
   {
    "duration": 53,
    "start_time": "2021-10-25T12:42:22.752Z"
   },
   {
    "duration": 31,
    "start_time": "2021-10-25T12:42:22.808Z"
   },
   {
    "duration": 10,
    "start_time": "2021-10-25T12:42:22.842Z"
   },
   {
    "duration": 12,
    "start_time": "2021-10-25T12:42:22.854Z"
   },
   {
    "duration": 51,
    "start_time": "2021-10-25T12:42:22.869Z"
   },
   {
    "duration": 24,
    "start_time": "2021-10-25T12:42:22.923Z"
   },
   {
    "duration": 15,
    "start_time": "2021-10-25T12:42:22.950Z"
   },
   {
    "duration": 637,
    "start_time": "2021-10-25T12:42:22.967Z"
   },
   {
    "duration": 24,
    "start_time": "2021-10-25T12:42:23.607Z"
   },
   {
    "duration": 20,
    "start_time": "2021-10-25T12:42:23.634Z"
   },
   {
    "duration": 11,
    "start_time": "2021-10-25T12:42:23.657Z"
   },
   {
    "duration": 529,
    "start_time": "2021-10-25T12:42:23.671Z"
   },
   {
    "duration": 701,
    "start_time": "2021-10-25T12:42:24.204Z"
   },
   {
    "duration": 363,
    "start_time": "2021-10-25T12:42:24.912Z"
   },
   {
    "duration": 26,
    "start_time": "2021-10-25T12:42:25.277Z"
   },
   {
    "duration": 612,
    "start_time": "2021-10-25T12:42:25.305Z"
   },
   {
    "duration": 303,
    "start_time": "2021-10-25T12:42:25.920Z"
   },
   {
    "duration": 23,
    "start_time": "2021-10-25T12:42:26.226Z"
   },
   {
    "duration": 748,
    "start_time": "2021-10-25T12:42:26.252Z"
   },
   {
    "duration": 100,
    "start_time": "2021-10-25T12:42:27.003Z"
   },
   {
    "duration": 579,
    "start_time": "2021-10-25T12:42:27.106Z"
   },
   {
    "duration": 502,
    "start_time": "2021-10-25T12:42:27.687Z"
   },
   {
    "duration": 463,
    "start_time": "2021-10-25T12:42:28.191Z"
   },
   {
    "duration": 10,
    "start_time": "2021-10-25T12:42:28.657Z"
   },
   {
    "duration": 499,
    "start_time": "2021-10-25T12:47:05.598Z"
   },
   {
    "duration": 348,
    "start_time": "2021-10-25T12:47:46.376Z"
   },
   {
    "duration": 353,
    "start_time": "2021-10-25T12:48:17.542Z"
   },
   {
    "duration": 8735,
    "start_time": "2021-10-25T12:48:52.901Z"
   },
   {
    "duration": 401,
    "start_time": "2021-10-25T12:49:53.720Z"
   },
   {
    "duration": 356,
    "start_time": "2021-10-25T12:50:33.124Z"
   },
   {
    "duration": 84,
    "start_time": "2021-10-25T12:50:43.407Z"
   },
   {
    "duration": 87,
    "start_time": "2021-10-25T12:51:14.660Z"
   },
   {
    "duration": 86,
    "start_time": "2021-10-25T12:51:24.615Z"
   },
   {
    "duration": 88,
    "start_time": "2021-10-25T12:51:42.082Z"
   },
   {
    "duration": 93,
    "start_time": "2021-10-25T12:53:00.922Z"
   },
   {
    "duration": 479,
    "start_time": "2021-10-25T12:53:27.829Z"
   },
   {
    "duration": 467,
    "start_time": "2021-10-25T12:53:30.060Z"
   },
   {
    "duration": 12,
    "start_time": "2021-10-25T13:03:32.957Z"
   },
   {
    "duration": 19,
    "start_time": "2021-10-25T13:04:18.364Z"
   },
   {
    "duration": 20,
    "start_time": "2021-10-25T13:04:38.013Z"
   },
   {
    "duration": 547,
    "start_time": "2021-10-25T13:10:45.517Z"
   },
   {
    "duration": 119,
    "start_time": "2021-10-25T13:28:50.377Z"
   },
   {
    "duration": 16,
    "start_time": "2021-10-25T13:28:59.429Z"
   },
   {
    "duration": 14,
    "start_time": "2021-10-25T13:29:38.614Z"
   },
   {
    "duration": 333,
    "start_time": "2021-10-25T13:50:00.169Z"
   },
   {
    "duration": 386,
    "start_time": "2021-10-25T13:50:26.401Z"
   },
   {
    "duration": 364,
    "start_time": "2021-10-25T13:50:38.080Z"
   },
   {
    "duration": 377,
    "start_time": "2021-10-25T13:51:11.266Z"
   },
   {
    "duration": 364,
    "start_time": "2021-10-25T13:51:23.126Z"
   },
   {
    "duration": 345,
    "start_time": "2021-10-25T13:54:17.932Z"
   },
   {
    "duration": 9137,
    "start_time": "2021-10-25T13:55:47.713Z"
   },
   {
    "duration": 9483,
    "start_time": "2021-10-25T14:01:23.226Z"
   },
   {
    "duration": 1584,
    "start_time": "2021-10-25T14:03:07.263Z"
   },
   {
    "duration": 14,
    "start_time": "2021-10-25T14:03:08.849Z"
   },
   {
    "duration": 23,
    "start_time": "2021-10-25T14:03:08.867Z"
   },
   {
    "duration": 6,
    "start_time": "2021-10-25T14:03:08.901Z"
   },
   {
    "duration": 16,
    "start_time": "2021-10-25T14:03:08.909Z"
   },
   {
    "duration": 19,
    "start_time": "2021-10-25T14:03:08.928Z"
   },
   {
    "duration": 63,
    "start_time": "2021-10-25T14:03:08.950Z"
   },
   {
    "duration": 6,
    "start_time": "2021-10-25T14:03:09.017Z"
   },
   {
    "duration": 9,
    "start_time": "2021-10-25T14:03:09.026Z"
   },
   {
    "duration": 21,
    "start_time": "2021-10-25T14:03:09.038Z"
   },
   {
    "duration": 63,
    "start_time": "2021-10-25T14:03:09.061Z"
   },
   {
    "duration": 9,
    "start_time": "2021-10-25T14:03:09.127Z"
   },
   {
    "duration": 10,
    "start_time": "2021-10-25T14:03:09.139Z"
   },
   {
    "duration": 49,
    "start_time": "2021-10-25T14:03:09.151Z"
   },
   {
    "duration": 25,
    "start_time": "2021-10-25T14:03:09.203Z"
   },
   {
    "duration": 14,
    "start_time": "2021-10-25T14:03:09.230Z"
   },
   {
    "duration": 625,
    "start_time": "2021-10-25T14:03:09.246Z"
   },
   {
    "duration": 29,
    "start_time": "2021-10-25T14:03:09.874Z"
   },
   {
    "duration": 15,
    "start_time": "2021-10-25T14:03:09.906Z"
   },
   {
    "duration": 9,
    "start_time": "2021-10-25T14:03:09.923Z"
   },
   {
    "duration": 490,
    "start_time": "2021-10-25T14:03:09.934Z"
   },
   {
    "duration": 457,
    "start_time": "2021-10-25T14:03:10.426Z"
   },
   {
    "duration": 325,
    "start_time": "2021-10-25T14:03:10.888Z"
   },
   {
    "duration": 17,
    "start_time": "2021-10-25T14:03:11.216Z"
   },
   {
    "duration": 569,
    "start_time": "2021-10-25T14:03:11.235Z"
   },
   {
    "duration": 284,
    "start_time": "2021-10-25T14:03:11.806Z"
   },
   {
    "duration": 22,
    "start_time": "2021-10-25T14:03:12.100Z"
   },
   {
    "duration": 622,
    "start_time": "2021-10-25T14:03:12.124Z"
   },
   {
    "duration": 104,
    "start_time": "2021-10-25T14:03:12.749Z"
   },
   {
    "duration": 493,
    "start_time": "2021-10-25T14:03:12.855Z"
   },
   {
    "duration": 458,
    "start_time": "2021-10-25T14:03:13.351Z"
   },
   {
    "duration": 428,
    "start_time": "2021-10-25T14:03:13.812Z"
   },
   {
    "duration": 13,
    "start_time": "2021-10-25T14:03:14.243Z"
   },
   {
    "duration": 19,
    "start_time": "2021-10-25T14:03:14.259Z"
   },
   {
    "duration": 21348,
    "start_time": "2021-10-25T14:03:14.300Z"
   },
   {
    "duration": 395,
    "start_time": "2021-10-25T14:03:51.859Z"
   },
   {
    "duration": 21,
    "start_time": "2021-10-25T14:04:38.697Z"
   },
   {
    "duration": 413,
    "start_time": "2021-10-25T14:06:08.634Z"
   },
   {
    "duration": 472,
    "start_time": "2021-10-25T14:06:09.662Z"
   },
   {
    "duration": 22,
    "start_time": "2021-10-25T14:06:16.405Z"
   },
   {
    "duration": 480,
    "start_time": "2021-10-25T14:06:33.774Z"
   },
   {
    "duration": 489,
    "start_time": "2021-10-25T14:06:54.596Z"
   },
   {
    "duration": 436,
    "start_time": "2021-10-25T14:07:07.850Z"
   },
   {
    "duration": 23,
    "start_time": "2021-10-25T14:08:25.186Z"
   },
   {
    "duration": 14,
    "start_time": "2021-10-25T14:08:37.368Z"
   },
   {
    "duration": 51,
    "start_time": "2021-10-25T14:08:45.114Z"
   },
   {
    "duration": 14,
    "start_time": "2021-10-25T14:08:45.984Z"
   },
   {
    "duration": 19,
    "start_time": "2021-10-25T14:08:49.747Z"
   },
   {
    "duration": 7,
    "start_time": "2021-10-25T14:08:52.371Z"
   },
   {
    "duration": 11,
    "start_time": "2021-10-25T14:08:55.599Z"
   },
   {
    "duration": 20,
    "start_time": "2021-10-25T14:08:57.556Z"
   },
   {
    "duration": 35,
    "start_time": "2021-10-25T14:09:12.040Z"
   },
   {
    "duration": 9,
    "start_time": "2021-10-25T14:09:13.778Z"
   },
   {
    "duration": 9,
    "start_time": "2021-10-25T14:09:16.152Z"
   },
   {
    "duration": 21,
    "start_time": "2021-10-25T14:09:17.300Z"
   },
   {
    "duration": 1506,
    "start_time": "2021-10-25T14:09:35.235Z"
   },
   {
    "duration": 14,
    "start_time": "2021-10-25T14:09:36.744Z"
   },
   {
    "duration": 27,
    "start_time": "2021-10-25T14:09:36.761Z"
   },
   {
    "duration": 15,
    "start_time": "2021-10-25T14:09:36.790Z"
   },
   {
    "duration": 10,
    "start_time": "2021-10-25T14:09:36.808Z"
   },
   {
    "duration": 21,
    "start_time": "2021-10-25T14:09:36.821Z"
   },
   {
    "duration": 61,
    "start_time": "2021-10-25T14:09:36.845Z"
   },
   {
    "duration": 7,
    "start_time": "2021-10-25T14:09:36.910Z"
   },
   {
    "duration": 10,
    "start_time": "2021-10-25T14:09:36.920Z"
   },
   {
    "duration": 23,
    "start_time": "2021-10-25T14:09:36.933Z"
   },
   {
    "duration": 62,
    "start_time": "2021-10-25T14:09:36.958Z"
   },
   {
    "duration": 10,
    "start_time": "2021-10-25T14:09:37.023Z"
   },
   {
    "duration": 11,
    "start_time": "2021-10-25T14:09:37.035Z"
   },
   {
    "duration": 21,
    "start_time": "2021-10-25T14:09:37.048Z"
   },
   {
    "duration": 25,
    "start_time": "2021-10-25T14:09:37.100Z"
   },
   {
    "duration": 15,
    "start_time": "2021-10-25T14:09:37.128Z"
   },
   {
    "duration": 662,
    "start_time": "2021-10-25T14:09:37.146Z"
   },
   {
    "duration": 18,
    "start_time": "2021-10-25T14:09:37.810Z"
   },
   {
    "duration": 18,
    "start_time": "2021-10-25T14:09:37.830Z"
   },
   {
    "duration": 11,
    "start_time": "2021-10-25T14:09:37.851Z"
   },
   {
    "duration": 506,
    "start_time": "2021-10-25T14:09:37.865Z"
   },
   {
    "duration": 459,
    "start_time": "2021-10-25T14:09:38.374Z"
   },
   {
    "duration": 396,
    "start_time": "2021-10-25T14:09:38.838Z"
   },
   {
    "duration": 17,
    "start_time": "2021-10-25T14:09:39.236Z"
   },
   {
    "duration": 632,
    "start_time": "2021-10-25T14:09:39.255Z"
   },
   {
    "duration": 311,
    "start_time": "2021-10-25T14:09:39.889Z"
   },
   {
    "duration": 24,
    "start_time": "2021-10-25T14:09:40.202Z"
   },
   {
    "duration": 618,
    "start_time": "2021-10-25T14:09:40.229Z"
   },
   {
    "duration": 105,
    "start_time": "2021-10-25T14:09:40.850Z"
   },
   {
    "duration": 492,
    "start_time": "2021-10-25T14:09:40.957Z"
   },
   {
    "duration": 467,
    "start_time": "2021-10-25T14:09:41.451Z"
   },
   {
    "duration": 433,
    "start_time": "2021-10-25T14:09:41.921Z"
   },
   {
    "duration": 18,
    "start_time": "2021-10-25T14:09:42.358Z"
   },
   {
    "duration": 18,
    "start_time": "2021-10-25T14:09:42.402Z"
   },
   {
    "duration": 23,
    "start_time": "2021-10-25T14:09:42.423Z"
   },
   {
    "duration": 86,
    "start_time": "2021-10-25T14:12:46.132Z"
   },
   {
    "duration": 1606,
    "start_time": "2021-10-25T14:13:01.461Z"
   },
   {
    "duration": 14,
    "start_time": "2021-10-25T14:13:03.070Z"
   },
   {
    "duration": 30,
    "start_time": "2021-10-25T14:13:03.087Z"
   },
   {
    "duration": 7,
    "start_time": "2021-10-25T14:13:03.119Z"
   },
   {
    "duration": 14,
    "start_time": "2021-10-25T14:13:03.128Z"
   },
   {
    "duration": 21,
    "start_time": "2021-10-25T14:13:03.144Z"
   },
   {
    "duration": 61,
    "start_time": "2021-10-25T14:13:03.168Z"
   },
   {
    "duration": 8,
    "start_time": "2021-10-25T14:13:03.235Z"
   },
   {
    "duration": 9,
    "start_time": "2021-10-25T14:13:03.247Z"
   },
   {
    "duration": 60,
    "start_time": "2021-10-25T14:13:03.259Z"
   },
   {
    "duration": 33,
    "start_time": "2021-10-25T14:13:03.322Z"
   },
   {
    "duration": 42,
    "start_time": "2021-10-25T14:13:03.358Z"
   },
   {
    "duration": 13,
    "start_time": "2021-10-25T14:13:03.403Z"
   },
   {
    "duration": 22,
    "start_time": "2021-10-25T14:13:03.419Z"
   },
   {
    "duration": 59,
    "start_time": "2021-10-25T14:13:03.444Z"
   },
   {
    "duration": 16,
    "start_time": "2021-10-25T14:13:03.505Z"
   },
   {
    "duration": 591,
    "start_time": "2021-10-25T14:13:03.524Z"
   },
   {
    "duration": 17,
    "start_time": "2021-10-25T14:13:04.118Z"
   },
   {
    "duration": 14,
    "start_time": "2021-10-25T14:13:04.138Z"
   },
   {
    "duration": 15,
    "start_time": "2021-10-25T14:13:04.155Z"
   },
   {
    "duration": 485,
    "start_time": "2021-10-25T14:13:04.201Z"
   },
   {
    "duration": 473,
    "start_time": "2021-10-25T14:13:04.689Z"
   },
   {
    "duration": 340,
    "start_time": "2021-10-25T14:13:05.167Z"
   },
   {
    "duration": 17,
    "start_time": "2021-10-25T14:13:05.510Z"
   },
   {
    "duration": 559,
    "start_time": "2021-10-25T14:13:05.530Z"
   },
   {
    "duration": 287,
    "start_time": "2021-10-25T14:13:06.091Z"
   },
   {
    "duration": 33,
    "start_time": "2021-10-25T14:13:06.380Z"
   },
   {
    "duration": 619,
    "start_time": "2021-10-25T14:13:06.415Z"
   },
   {
    "duration": 100,
    "start_time": "2021-10-25T14:13:07.036Z"
   },
   {
    "duration": 492,
    "start_time": "2021-10-25T14:13:07.138Z"
   },
   {
    "duration": 462,
    "start_time": "2021-10-25T14:13:07.633Z"
   },
   {
    "duration": 416,
    "start_time": "2021-10-25T14:13:08.101Z"
   },
   {
    "duration": 13,
    "start_time": "2021-10-25T14:13:08.520Z"
   },
   {
    "duration": 14,
    "start_time": "2021-10-25T14:13:08.535Z"
   },
   {
    "duration": 69,
    "start_time": "2021-10-25T14:13:08.552Z"
   },
   {
    "duration": 9,
    "start_time": "2021-10-25T14:13:34.182Z"
   },
   {
    "duration": 18,
    "start_time": "2021-10-25T14:13:58.431Z"
   },
   {
    "duration": 157,
    "start_time": "2021-10-25T14:43:55.284Z"
   },
   {
    "duration": 554,
    "start_time": "2021-10-25T14:44:00.230Z"
   },
   {
    "duration": 555,
    "start_time": "2021-10-25T14:45:33.749Z"
   },
   {
    "duration": 3,
    "start_time": "2021-10-25T14:45:45.860Z"
   },
   {
    "duration": 555,
    "start_time": "2021-10-25T14:45:51.653Z"
   },
   {
    "duration": 1570,
    "start_time": "2021-10-25T15:53:08.662Z"
   },
   {
    "duration": 19,
    "start_time": "2021-10-25T15:53:10.235Z"
   },
   {
    "duration": 59,
    "start_time": "2021-10-25T15:53:10.258Z"
   },
   {
    "duration": 8,
    "start_time": "2021-10-25T15:53:10.321Z"
   },
   {
    "duration": 12,
    "start_time": "2021-10-25T15:53:10.332Z"
   },
   {
    "duration": 26,
    "start_time": "2021-10-25T15:53:10.346Z"
   },
   {
    "duration": 73,
    "start_time": "2021-10-25T15:53:10.375Z"
   },
   {
    "duration": 10,
    "start_time": "2021-10-25T15:53:10.454Z"
   },
   {
    "duration": 34,
    "start_time": "2021-10-25T15:53:10.469Z"
   },
   {
    "duration": 31,
    "start_time": "2021-10-25T15:53:10.506Z"
   },
   {
    "duration": 66,
    "start_time": "2021-10-25T15:53:10.541Z"
   },
   {
    "duration": 12,
    "start_time": "2021-10-25T15:53:10.610Z"
   },
   {
    "duration": 14,
    "start_time": "2021-10-25T15:53:10.625Z"
   },
   {
    "duration": 26,
    "start_time": "2021-10-25T15:53:10.642Z"
   },
   {
    "duration": 62,
    "start_time": "2021-10-25T15:53:10.671Z"
   },
   {
    "duration": 19,
    "start_time": "2021-10-25T15:53:10.736Z"
   },
   {
    "duration": 833,
    "start_time": "2021-10-25T15:53:10.758Z"
   },
   {
    "duration": 24,
    "start_time": "2021-10-25T15:53:11.601Z"
   },
   {
    "duration": 15,
    "start_time": "2021-10-25T15:53:11.628Z"
   },
   {
    "duration": 13,
    "start_time": "2021-10-25T15:53:11.646Z"
   },
   {
    "duration": 507,
    "start_time": "2021-10-25T15:53:11.661Z"
   },
   {
    "duration": 451,
    "start_time": "2021-10-25T15:53:12.170Z"
   },
   {
    "duration": 404,
    "start_time": "2021-10-25T15:53:12.626Z"
   },
   {
    "duration": 18,
    "start_time": "2021-10-25T15:53:13.033Z"
   },
   {
    "duration": 856,
    "start_time": "2021-10-25T15:53:13.054Z"
   },
   {
    "duration": 480,
    "start_time": "2021-10-25T15:53:13.913Z"
   },
   {
    "duration": 34,
    "start_time": "2021-10-25T15:53:14.400Z"
   },
   {
    "duration": 1010,
    "start_time": "2021-10-25T15:53:14.437Z"
   },
   {
    "duration": 113,
    "start_time": "2021-10-25T15:53:15.450Z"
   },
   {
    "duration": 476,
    "start_time": "2021-10-25T15:53:15.566Z"
   },
   {
    "duration": 461,
    "start_time": "2021-10-25T15:53:16.045Z"
   },
   {
    "duration": 430,
    "start_time": "2021-10-25T15:53:16.508Z"
   },
   {
    "duration": 15,
    "start_time": "2021-10-25T15:53:16.941Z"
   },
   {
    "duration": 43,
    "start_time": "2021-10-25T15:53:16.958Z"
   },
   {
    "duration": 328,
    "start_time": "2021-10-26T13:50:21.083Z"
   },
   {
    "duration": 293,
    "start_time": "2021-10-26T13:50:29.648Z"
   },
   {
    "duration": 1507,
    "start_time": "2021-10-26T13:50:39.367Z"
   },
   {
    "duration": 48,
    "start_time": "2021-10-26T13:50:40.876Z"
   },
   {
    "duration": 14,
    "start_time": "2021-10-26T13:50:41.559Z"
   },
   {
    "duration": 24,
    "start_time": "2021-10-26T13:50:42.274Z"
   },
   {
    "duration": 7,
    "start_time": "2021-10-26T13:50:44.020Z"
   },
   {
    "duration": 11,
    "start_time": "2021-10-26T13:50:46.433Z"
   },
   {
    "duration": 19,
    "start_time": "2021-10-26T13:50:47.816Z"
   },
   {
    "duration": 32,
    "start_time": "2021-10-26T13:50:49.169Z"
   },
   {
    "duration": 7,
    "start_time": "2021-10-26T13:50:50.832Z"
   },
   {
    "duration": 9,
    "start_time": "2021-10-26T13:50:51.481Z"
   },
   {
    "duration": 27,
    "start_time": "2021-10-26T13:50:52.129Z"
   },
   {
    "duration": 335,
    "start_time": "2021-10-26T13:50:56.022Z"
   },
   {
    "duration": 393,
    "start_time": "2021-10-26T13:51:19.559Z"
   },
   {
    "duration": 889,
    "start_time": "2021-10-26T13:52:04.696Z"
   },
   {
    "duration": 672,
    "start_time": "2021-10-26T13:53:28.626Z"
   },
   {
    "duration": 717,
    "start_time": "2021-10-26T13:53:56.324Z"
   },
   {
    "duration": 697,
    "start_time": "2021-10-26T13:56:46.008Z"
   },
   {
    "duration": 326,
    "start_time": "2021-10-26T14:02:13.606Z"
   },
   {
    "duration": 556,
    "start_time": "2021-10-26T14:02:26.553Z"
   },
   {
    "duration": 12,
    "start_time": "2021-10-26T14:02:29.677Z"
   },
   {
    "duration": 11,
    "start_time": "2021-10-26T14:02:31.349Z"
   },
   {
    "duration": 20,
    "start_time": "2021-10-26T14:02:59.027Z"
   },
   {
    "duration": 24,
    "start_time": "2021-10-26T14:03:13.201Z"
   },
   {
    "duration": 14,
    "start_time": "2021-10-26T14:03:15.195Z"
   },
   {
    "duration": 575,
    "start_time": "2021-10-26T14:03:20.117Z"
   },
   {
    "duration": 20,
    "start_time": "2021-10-26T14:03:22.763Z"
   },
   {
    "duration": 10,
    "start_time": "2021-10-26T14:03:23.700Z"
   },
   {
    "duration": 10,
    "start_time": "2021-10-26T14:03:26.601Z"
   },
   {
    "duration": 481,
    "start_time": "2021-10-26T14:03:27.468Z"
   },
   {
    "duration": 450,
    "start_time": "2021-10-26T14:03:30.589Z"
   },
   {
    "duration": 332,
    "start_time": "2021-10-26T14:03:33.976Z"
   },
   {
    "duration": 19,
    "start_time": "2021-10-26T14:03:34.964Z"
   },
   {
    "duration": 905,
    "start_time": "2021-10-26T14:03:38.931Z"
   },
   {
    "duration": 3,
    "start_time": "2021-10-26T14:03:41.500Z"
   },
   {
    "duration": 16,
    "start_time": "2021-10-26T14:15:29.177Z"
   },
   {
    "duration": 10,
    "start_time": "2021-10-26T14:16:41.785Z"
   },
   {
    "duration": 495,
    "start_time": "2021-10-26T14:16:57.652Z"
   },
   {
    "duration": 10,
    "start_time": "2021-10-26T14:18:15.682Z"
   },
   {
    "duration": 3,
    "start_time": "2021-10-26T14:18:19.249Z"
   },
   {
    "duration": 4582,
    "start_time": "2021-10-26T14:18:19.962Z"
   },
   {
    "duration": 10,
    "start_time": "2021-10-26T14:22:01.280Z"
   },
   {
    "duration": 5,
    "start_time": "2021-10-26T14:22:02.667Z"
   },
   {
    "duration": 4584,
    "start_time": "2021-10-26T14:22:03.675Z"
   },
   {
    "duration": 9,
    "start_time": "2021-10-26T14:23:38.549Z"
   },
   {
    "duration": 4,
    "start_time": "2021-10-26T14:23:41.260Z"
   },
   {
    "duration": 4608,
    "start_time": "2021-10-26T14:23:41.941Z"
   },
   {
    "duration": 102,
    "start_time": "2021-10-26T14:24:12.625Z"
   },
   {
    "duration": 187,
    "start_time": "2021-10-26T14:24:20.652Z"
   },
   {
    "duration": 9,
    "start_time": "2021-10-26T14:24:34.805Z"
   },
   {
    "duration": 3,
    "start_time": "2021-10-26T14:24:36.108Z"
   },
   {
    "duration": 4886,
    "start_time": "2021-10-26T14:24:36.691Z"
   },
   {
    "duration": 9,
    "start_time": "2021-10-26T14:26:47.342Z"
   },
   {
    "duration": 3,
    "start_time": "2021-10-26T14:26:49.144Z"
   },
   {
    "duration": 4652,
    "start_time": "2021-10-26T14:26:50.262Z"
   },
   {
    "duration": 10,
    "start_time": "2021-10-26T14:27:21.331Z"
   },
   {
    "duration": 4,
    "start_time": "2021-10-26T14:27:22.722Z"
   },
   {
    "duration": 4567,
    "start_time": "2021-10-26T14:27:23.325Z"
   },
   {
    "duration": 9,
    "start_time": "2021-10-26T14:29:37.345Z"
   },
   {
    "duration": 4,
    "start_time": "2021-10-26T14:29:40.111Z"
   },
   {
    "duration": 4523,
    "start_time": "2021-10-26T14:29:40.961Z"
   },
   {
    "duration": 114,
    "start_time": "2021-10-26T14:30:45.058Z"
   },
   {
    "duration": 4,
    "start_time": "2021-10-26T14:30:46.571Z"
   },
   {
    "duration": 4527,
    "start_time": "2021-10-26T14:30:47.525Z"
   },
   {
    "duration": 648,
    "start_time": "2021-10-26T14:31:38.592Z"
   },
   {
    "duration": 10,
    "start_time": "2021-10-26T14:32:57.101Z"
   },
   {
    "duration": 4,
    "start_time": "2021-10-26T14:32:59.021Z"
   },
   {
    "duration": 5607,
    "start_time": "2021-10-26T14:32:59.564Z"
   },
   {
    "duration": 10,
    "start_time": "2021-10-26T14:33:15.259Z"
   },
   {
    "duration": 4,
    "start_time": "2021-10-26T14:33:16.170Z"
   },
   {
    "duration": 5673,
    "start_time": "2021-10-26T14:33:16.609Z"
   },
   {
    "duration": 10,
    "start_time": "2021-10-26T14:33:52.816Z"
   },
   {
    "duration": 3,
    "start_time": "2021-10-26T14:33:56.863Z"
   },
   {
    "duration": 1119,
    "start_time": "2021-10-26T14:33:57.665Z"
   },
   {
    "duration": 8,
    "start_time": "2021-10-26T14:34:16.783Z"
   },
   {
    "duration": 3,
    "start_time": "2021-10-26T14:34:17.907Z"
   },
   {
    "duration": 4472,
    "start_time": "2021-10-26T14:34:18.394Z"
   },
   {
    "duration": 10,
    "start_time": "2021-10-26T14:34:39.096Z"
   },
   {
    "duration": 4,
    "start_time": "2021-10-26T14:34:39.786Z"
   },
   {
    "duration": 4437,
    "start_time": "2021-10-26T14:34:40.037Z"
   },
   {
    "duration": 10,
    "start_time": "2021-10-26T14:35:46.824Z"
   },
   {
    "duration": 3,
    "start_time": "2021-10-26T14:35:47.701Z"
   },
   {
    "duration": 4606,
    "start_time": "2021-10-26T14:35:48.248Z"
   },
   {
    "duration": 10,
    "start_time": "2021-10-26T14:36:59.463Z"
   },
   {
    "duration": 4,
    "start_time": "2021-10-26T14:37:00.810Z"
   },
   {
    "duration": 4559,
    "start_time": "2021-10-26T14:37:01.487Z"
   },
   {
    "duration": 9,
    "start_time": "2021-10-26T14:37:36.295Z"
   },
   {
    "duration": 3,
    "start_time": "2021-10-26T14:37:37.759Z"
   },
   {
    "duration": 5209,
    "start_time": "2021-10-26T14:37:38.027Z"
   },
   {
    "duration": 10,
    "start_time": "2021-10-26T14:38:25.482Z"
   },
   {
    "duration": 3,
    "start_time": "2021-10-26T14:38:26.695Z"
   },
   {
    "duration": 4559,
    "start_time": "2021-10-26T14:38:26.964Z"
   },
   {
    "duration": 15,
    "start_time": "2021-10-26T14:39:05.761Z"
   },
   {
    "duration": 4,
    "start_time": "2021-10-26T14:39:06.421Z"
   },
   {
    "duration": 5222,
    "start_time": "2021-10-26T14:39:06.898Z"
   },
   {
    "duration": 10,
    "start_time": "2021-10-26T14:39:56.260Z"
   },
   {
    "duration": 3,
    "start_time": "2021-10-26T14:39:57.661Z"
   },
   {
    "duration": 4701,
    "start_time": "2021-10-26T14:39:57.908Z"
   },
   {
    "duration": 9,
    "start_time": "2021-10-26T14:40:28.991Z"
   },
   {
    "duration": 3,
    "start_time": "2021-10-26T14:40:31.129Z"
   },
   {
    "duration": 4609,
    "start_time": "2021-10-26T14:40:31.368Z"
   },
   {
    "duration": 114,
    "start_time": "2021-10-26T14:40:51.612Z"
   },
   {
    "duration": 3,
    "start_time": "2021-10-26T14:40:51.988Z"
   },
   {
    "duration": 4668,
    "start_time": "2021-10-26T14:40:52.551Z"
   },
   {
    "duration": 13,
    "start_time": "2021-10-26T14:42:04.569Z"
   },
   {
    "duration": 4602,
    "start_time": "2021-10-26T14:42:05.713Z"
   },
   {
    "duration": 10,
    "start_time": "2021-10-26T14:42:56.379Z"
   },
   {
    "duration": 4751,
    "start_time": "2021-10-26T14:42:57.667Z"
   },
   {
    "duration": 9,
    "start_time": "2021-10-26T14:44:38.056Z"
   },
   {
    "duration": 4608,
    "start_time": "2021-10-26T14:44:40.050Z"
   },
   {
    "duration": 10,
    "start_time": "2021-10-26T14:45:09.740Z"
   },
   {
    "duration": 4666,
    "start_time": "2021-10-26T14:45:09.914Z"
   },
   {
    "duration": 11,
    "start_time": "2021-10-26T14:49:39.062Z"
   },
   {
    "duration": 1376,
    "start_time": "2021-10-26T14:49:41.836Z"
   },
   {
    "duration": 12,
    "start_time": "2021-10-26T14:51:46.875Z"
   },
   {
    "duration": 4593,
    "start_time": "2021-10-26T14:51:47.501Z"
   },
   {
    "duration": 1530,
    "start_time": "2021-10-26T16:19:11.124Z"
   },
   {
    "duration": 56,
    "start_time": "2021-10-26T16:19:12.657Z"
   },
   {
    "duration": 14,
    "start_time": "2021-10-26T16:19:12.716Z"
   },
   {
    "duration": 36,
    "start_time": "2021-10-26T16:19:12.733Z"
   },
   {
    "duration": 7,
    "start_time": "2021-10-26T16:19:12.771Z"
   },
   {
    "duration": 11,
    "start_time": "2021-10-26T16:19:12.780Z"
   },
   {
    "duration": 21,
    "start_time": "2021-10-26T16:19:12.794Z"
   },
   {
    "duration": 66,
    "start_time": "2021-10-26T16:19:12.819Z"
   },
   {
    "duration": 8,
    "start_time": "2021-10-26T16:19:12.888Z"
   },
   {
    "duration": 8,
    "start_time": "2021-10-26T16:19:12.898Z"
   },
   {
    "duration": 25,
    "start_time": "2021-10-26T16:19:12.908Z"
   },
   {
    "duration": 532,
    "start_time": "2021-10-26T16:19:12.936Z"
   },
   {
    "duration": 10,
    "start_time": "2021-10-26T16:19:13.471Z"
   },
   {
    "duration": 10,
    "start_time": "2021-10-26T16:19:13.484Z"
   },
   {
    "duration": 21,
    "start_time": "2021-10-26T16:19:13.496Z"
   },
   {
    "duration": 56,
    "start_time": "2021-10-26T16:19:13.519Z"
   },
   {
    "duration": 14,
    "start_time": "2021-10-26T16:19:13.577Z"
   },
   {
    "duration": 565,
    "start_time": "2021-10-26T16:19:13.594Z"
   },
   {
    "duration": 17,
    "start_time": "2021-10-26T16:19:14.161Z"
   },
   {
    "duration": 12,
    "start_time": "2021-10-26T16:19:14.181Z"
   },
   {
    "duration": 11,
    "start_time": "2021-10-26T16:19:14.195Z"
   },
   {
    "duration": 506,
    "start_time": "2021-10-26T16:19:14.209Z"
   },
   {
    "duration": 456,
    "start_time": "2021-10-26T16:19:14.721Z"
   },
   {
    "duration": 309,
    "start_time": "2021-10-26T16:19:15.180Z"
   },
   {
    "duration": 17,
    "start_time": "2021-10-26T16:19:15.492Z"
   },
   {
    "duration": 10,
    "start_time": "2021-10-26T16:19:15.512Z"
   },
   {
    "duration": 1081,
    "start_time": "2021-10-26T16:19:15.525Z"
   },
   {
    "duration": -99,
    "start_time": "2021-10-26T16:19:16.708Z"
   },
   {
    "duration": -104,
    "start_time": "2021-10-26T16:19:16.715Z"
   },
   {
    "duration": -110,
    "start_time": "2021-10-26T16:19:16.723Z"
   },
   {
    "duration": -115,
    "start_time": "2021-10-26T16:19:16.731Z"
   },
   {
    "duration": -121,
    "start_time": "2021-10-26T16:19:16.738Z"
   },
   {
    "duration": -127,
    "start_time": "2021-10-26T16:19:16.745Z"
   },
   {
    "duration": -132,
    "start_time": "2021-10-26T16:19:16.752Z"
   },
   {
    "duration": -139,
    "start_time": "2021-10-26T16:19:16.760Z"
   },
   {
    "duration": 10,
    "start_time": "2021-10-26T16:20:21.464Z"
   },
   {
    "duration": 1211,
    "start_time": "2021-10-26T16:20:24.817Z"
   },
   {
    "duration": 10,
    "start_time": "2021-10-26T16:20:56.211Z"
   },
   {
    "duration": 4527,
    "start_time": "2021-10-26T16:20:56.957Z"
   },
   {
    "duration": 1543,
    "start_time": "2021-10-26T16:21:47.434Z"
   },
   {
    "duration": 49,
    "start_time": "2021-10-26T16:21:48.980Z"
   },
   {
    "duration": 15,
    "start_time": "2021-10-26T16:21:49.032Z"
   },
   {
    "duration": 32,
    "start_time": "2021-10-26T16:21:49.050Z"
   },
   {
    "duration": 9,
    "start_time": "2021-10-26T16:21:49.085Z"
   },
   {
    "duration": 11,
    "start_time": "2021-10-26T16:21:49.096Z"
   },
   {
    "duration": 21,
    "start_time": "2021-10-26T16:21:49.110Z"
   },
   {
    "duration": 34,
    "start_time": "2021-10-26T16:21:49.169Z"
   },
   {
    "duration": 8,
    "start_time": "2021-10-26T16:21:49.206Z"
   },
   {
    "duration": 10,
    "start_time": "2021-10-26T16:21:49.216Z"
   },
   {
    "duration": 59,
    "start_time": "2021-10-26T16:21:49.229Z"
   },
   {
    "duration": 522,
    "start_time": "2021-10-26T16:21:49.291Z"
   },
   {
    "duration": 11,
    "start_time": "2021-10-26T16:21:49.815Z"
   },
   {
    "duration": 38,
    "start_time": "2021-10-26T16:21:49.829Z"
   },
   {
    "duration": 21,
    "start_time": "2021-10-26T16:21:49.869Z"
   },
   {
    "duration": 23,
    "start_time": "2021-10-26T16:21:49.892Z"
   },
   {
    "duration": 16,
    "start_time": "2021-10-26T16:21:49.918Z"
   },
   {
    "duration": 647,
    "start_time": "2021-10-26T16:21:49.936Z"
   },
   {
    "duration": 17,
    "start_time": "2021-10-26T16:21:50.585Z"
   },
   {
    "duration": 15,
    "start_time": "2021-10-26T16:21:50.604Z"
   },
   {
    "duration": 11,
    "start_time": "2021-10-26T16:21:50.621Z"
   },
   {
    "duration": 536,
    "start_time": "2021-10-26T16:21:50.635Z"
   },
   {
    "duration": 550,
    "start_time": "2021-10-26T16:21:51.178Z"
   },
   {
    "duration": 346,
    "start_time": "2021-10-26T16:21:51.732Z"
   },
   {
    "duration": 18,
    "start_time": "2021-10-26T16:21:52.080Z"
   },
   {
    "duration": 10,
    "start_time": "2021-10-26T16:21:52.101Z"
   },
   {
    "duration": 5330,
    "start_time": "2021-10-26T16:21:52.113Z"
   },
   {
    "duration": 46,
    "start_time": "2021-10-26T16:21:57.447Z"
   },
   {
    "duration": 564,
    "start_time": "2021-10-26T16:21:57.496Z"
   },
   {
    "duration": 128,
    "start_time": "2021-10-26T16:21:58.063Z"
   },
   {
    "duration": 503,
    "start_time": "2021-10-26T16:21:58.193Z"
   },
   {
    "duration": 574,
    "start_time": "2021-10-26T16:21:58.699Z"
   },
   {
    "duration": 623,
    "start_time": "2021-10-26T16:21:59.277Z"
   },
   {
    "duration": 14,
    "start_time": "2021-10-26T16:21:59.903Z"
   },
   {
    "duration": 24,
    "start_time": "2021-10-26T16:21:59.920Z"
   },
   {
    "duration": 1435,
    "start_time": "2021-10-26T16:34:15.618Z"
   },
   {
    "duration": 58,
    "start_time": "2021-10-26T16:34:17.056Z"
   },
   {
    "duration": 15,
    "start_time": "2021-10-26T16:34:17.117Z"
   },
   {
    "duration": 37,
    "start_time": "2021-10-26T16:34:17.135Z"
   },
   {
    "duration": 8,
    "start_time": "2021-10-26T16:34:17.174Z"
   },
   {
    "duration": 17,
    "start_time": "2021-10-26T16:34:17.184Z"
   },
   {
    "duration": 24,
    "start_time": "2021-10-26T16:34:17.204Z"
   },
   {
    "duration": 62,
    "start_time": "2021-10-26T16:34:17.233Z"
   },
   {
    "duration": 7,
    "start_time": "2021-10-26T16:34:17.298Z"
   },
   {
    "duration": 8,
    "start_time": "2021-10-26T16:34:17.308Z"
   },
   {
    "duration": 48,
    "start_time": "2021-10-26T16:34:17.319Z"
   },
   {
    "duration": 507,
    "start_time": "2021-10-26T16:34:17.370Z"
   },
   {
    "duration": 11,
    "start_time": "2021-10-26T16:34:17.880Z"
   },
   {
    "duration": 11,
    "start_time": "2021-10-26T16:34:17.894Z"
   },
   {
    "duration": 22,
    "start_time": "2021-10-26T16:34:17.907Z"
   },
   {
    "duration": 60,
    "start_time": "2021-10-26T16:34:17.932Z"
   },
   {
    "duration": 15,
    "start_time": "2021-10-26T16:34:17.994Z"
   },
   {
    "duration": 647,
    "start_time": "2021-10-26T16:34:18.011Z"
   },
   {
    "duration": 17,
    "start_time": "2021-10-26T16:34:18.667Z"
   },
   {
    "duration": 18,
    "start_time": "2021-10-26T16:34:18.686Z"
   },
   {
    "duration": 9,
    "start_time": "2021-10-26T16:34:18.706Z"
   },
   {
    "duration": 492,
    "start_time": "2021-10-26T16:34:18.718Z"
   },
   {
    "duration": 456,
    "start_time": "2021-10-26T16:34:19.215Z"
   },
   {
    "duration": 329,
    "start_time": "2021-10-26T16:34:19.674Z"
   },
   {
    "duration": 18,
    "start_time": "2021-10-26T16:34:20.006Z"
   },
   {
    "duration": 10,
    "start_time": "2021-10-26T16:34:20.027Z"
   },
   {
    "duration": 4467,
    "start_time": "2021-10-26T16:34:20.040Z"
   },
   {
    "duration": 25,
    "start_time": "2021-10-26T16:34:24.510Z"
   },
   {
    "duration": 549,
    "start_time": "2021-10-26T16:34:24.537Z"
   },
   {
    "duration": 108,
    "start_time": "2021-10-26T16:34:25.088Z"
   },
   {
    "duration": 509,
    "start_time": "2021-10-26T16:34:25.198Z"
   },
   {
    "duration": 560,
    "start_time": "2021-10-26T16:34:25.710Z"
   },
   {
    "duration": 434,
    "start_time": "2021-10-26T16:34:26.272Z"
   },
   {
    "duration": 15,
    "start_time": "2021-10-26T16:34:26.708Z"
   },
   {
    "duration": 44,
    "start_time": "2021-10-26T16:34:26.725Z"
   }
  ],
  "kernelspec": {
   "display_name": "Python 3 (ipykernel)",
   "language": "python",
   "name": "python3"
  },
  "language_info": {
   "codemirror_mode": {
    "name": "ipython",
    "version": 3
   },
   "file_extension": ".py",
   "mimetype": "text/x-python",
   "name": "python",
   "nbconvert_exporter": "python",
   "pygments_lexer": "ipython3",
   "version": "3.10.2"
  },
  "toc": {
   "base_numbering": 1,
   "nav_menu": {},
   "number_sections": true,
   "sideBar": true,
   "skip_h1_title": true,
   "title_cell": "Table of Contents",
   "title_sidebar": "Contents",
   "toc_cell": false,
   "toc_position": {},
   "toc_section_display": true,
   "toc_window_display": false
  }
 },
 "nbformat": 4,
 "nbformat_minor": 2
}
