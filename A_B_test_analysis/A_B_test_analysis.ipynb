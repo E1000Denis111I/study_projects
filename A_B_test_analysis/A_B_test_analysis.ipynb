{
 "cells": [
  {
   "cell_type": "markdown",
   "metadata": {},
   "source": [
    "# Приоритезация гипотез и анализ A/B-теста"
   ]
  },
  {
   "cell_type": "markdown",
   "metadata": {},
   "source": [
    "В данном проекте мы приоритезируем список гипотез для увеличения выручки и проанализируем результаты A/B-теста.   \n",
    "В качестве данных для проведения необходимых расчетов используются файлы: *hypothesis.csv* с формулировками гипотез и их параметрами для расчета приоритета, *orders.csv* с данными по совершенным заказам и *visitors.csv*, содержащий данные о визитах.  \n",
    "По итогам анализа сделаем вывод об успешности проведенного теста. "
   ]
  },
  {
   "cell_type": "markdown",
   "metadata": {},
   "source": [
    "## Загрузка и знакомство с данными"
   ]
  },
  {
   "cell_type": "code",
   "execution_count": 1,
   "metadata": {},
   "outputs": [],
   "source": [
    "import pandas as pd\n",
    "import numpy as np\n",
    "from scipy import stats as st\n",
    "import matplotlib.pyplot as plt\n",
    "import seaborn as sns"
   ]
  },
  {
   "cell_type": "code",
   "execution_count": 2,
   "metadata": {},
   "outputs": [],
   "source": [
    "hypothesis = pd.read_csv('/datasets/hypothesis.csv')\n",
    "\n",
    "visitors = pd.read_csv('/datasets/visitors.csv')\n",
    "\n",
    "orders = pd.read_csv('/datasets/orders.csv')"
   ]
  },
  {
   "cell_type": "code",
   "execution_count": 3,
   "metadata": {},
   "outputs": [
    {
     "name": "stdout",
     "output_type": "stream",
     "text": [
      "<class 'pandas.core.frame.DataFrame'>\n",
      "RangeIndex: 9 entries, 0 to 8\n",
      "Data columns (total 5 columns):\n",
      "Hypothesis    9 non-null object\n",
      "Reach         9 non-null int64\n",
      "Impact        9 non-null int64\n",
      "Confidence    9 non-null int64\n",
      "Efforts       9 non-null int64\n",
      "dtypes: int64(4), object(1)\n",
      "memory usage: 488.0+ bytes\n"
     ]
    }
   ],
   "source": [
    "hypothesis.info()"
   ]
  },
  {
   "cell_type": "code",
   "execution_count": 4,
   "metadata": {},
   "outputs": [
    {
     "data": {
      "text/plain": [
       "False    9\n",
       "dtype: int64"
      ]
     },
     "execution_count": 4,
     "metadata": {},
     "output_type": "execute_result"
    }
   ],
   "source": [
    "hypothesis.duplicated().value_counts()"
   ]
  },
  {
   "cell_type": "code",
   "execution_count": 5,
   "metadata": {},
   "outputs": [
    {
     "data": {
      "text/html": [
       "<div>\n",
       "<style scoped>\n",
       "    .dataframe tbody tr th:only-of-type {\n",
       "        vertical-align: middle;\n",
       "    }\n",
       "\n",
       "    .dataframe tbody tr th {\n",
       "        vertical-align: top;\n",
       "    }\n",
       "\n",
       "    .dataframe thead th {\n",
       "        text-align: right;\n",
       "    }\n",
       "</style>\n",
       "<table border=\"1\" class=\"dataframe\">\n",
       "  <thead>\n",
       "    <tr style=\"text-align: right;\">\n",
       "      <th></th>\n",
       "      <th>Hypothesis</th>\n",
       "      <th>Reach</th>\n",
       "      <th>Impact</th>\n",
       "      <th>Confidence</th>\n",
       "      <th>Efforts</th>\n",
       "    </tr>\n",
       "  </thead>\n",
       "  <tbody>\n",
       "    <tr>\n",
       "      <td>0</td>\n",
       "      <td>Добавить два новых канала привлечения трафика,...</td>\n",
       "      <td>3</td>\n",
       "      <td>10</td>\n",
       "      <td>8</td>\n",
       "      <td>6</td>\n",
       "    </tr>\n",
       "    <tr>\n",
       "      <td>1</td>\n",
       "      <td>Запустить собственную службу доставки, что сок...</td>\n",
       "      <td>2</td>\n",
       "      <td>5</td>\n",
       "      <td>4</td>\n",
       "      <td>10</td>\n",
       "    </tr>\n",
       "    <tr>\n",
       "      <td>2</td>\n",
       "      <td>Добавить блоки рекомендаций товаров на сайт ин...</td>\n",
       "      <td>8</td>\n",
       "      <td>3</td>\n",
       "      <td>7</td>\n",
       "      <td>3</td>\n",
       "    </tr>\n",
       "    <tr>\n",
       "      <td>3</td>\n",
       "      <td>Изменить структура категорий, что увеличит кон...</td>\n",
       "      <td>8</td>\n",
       "      <td>3</td>\n",
       "      <td>3</td>\n",
       "      <td>8</td>\n",
       "    </tr>\n",
       "    <tr>\n",
       "      <td>4</td>\n",
       "      <td>Изменить цвет фона главной страницы, чтобы уве...</td>\n",
       "      <td>3</td>\n",
       "      <td>1</td>\n",
       "      <td>1</td>\n",
       "      <td>1</td>\n",
       "    </tr>\n",
       "  </tbody>\n",
       "</table>\n",
       "</div>"
      ],
      "text/plain": [
       "                                          Hypothesis  Reach  Impact  \\\n",
       "0  Добавить два новых канала привлечения трафика,...      3      10   \n",
       "1  Запустить собственную службу доставки, что сок...      2       5   \n",
       "2  Добавить блоки рекомендаций товаров на сайт ин...      8       3   \n",
       "3  Изменить структура категорий, что увеличит кон...      8       3   \n",
       "4  Изменить цвет фона главной страницы, чтобы уве...      3       1   \n",
       "\n",
       "   Confidence  Efforts  \n",
       "0           8        6  \n",
       "1           4       10  \n",
       "2           7        3  \n",
       "3           3        8  \n",
       "4           1        1  "
      ]
     },
     "execution_count": 5,
     "metadata": {},
     "output_type": "execute_result"
    }
   ],
   "source": [
    "hypothesis.head()"
   ]
  },
  {
   "cell_type": "code",
   "execution_count": 6,
   "metadata": {},
   "outputs": [
    {
     "name": "stdout",
     "output_type": "stream",
     "text": [
      "<class 'pandas.core.frame.DataFrame'>\n",
      "RangeIndex: 62 entries, 0 to 61\n",
      "Data columns (total 3 columns):\n",
      "date        62 non-null object\n",
      "group       62 non-null object\n",
      "visitors    62 non-null int64\n",
      "dtypes: int64(1), object(2)\n",
      "memory usage: 1.6+ KB\n"
     ]
    }
   ],
   "source": [
    "visitors.info()"
   ]
  },
  {
   "cell_type": "code",
   "execution_count": 7,
   "metadata": {},
   "outputs": [
    {
     "data": {
      "text/plain": [
       "False    62\n",
       "dtype: int64"
      ]
     },
     "execution_count": 7,
     "metadata": {},
     "output_type": "execute_result"
    }
   ],
   "source": [
    "visitors.duplicated().value_counts()"
   ]
  },
  {
   "cell_type": "code",
   "execution_count": 8,
   "metadata": {},
   "outputs": [
    {
     "data": {
      "text/html": [
       "<div>\n",
       "<style scoped>\n",
       "    .dataframe tbody tr th:only-of-type {\n",
       "        vertical-align: middle;\n",
       "    }\n",
       "\n",
       "    .dataframe tbody tr th {\n",
       "        vertical-align: top;\n",
       "    }\n",
       "\n",
       "    .dataframe thead th {\n",
       "        text-align: right;\n",
       "    }\n",
       "</style>\n",
       "<table border=\"1\" class=\"dataframe\">\n",
       "  <thead>\n",
       "    <tr style=\"text-align: right;\">\n",
       "      <th></th>\n",
       "      <th>date</th>\n",
       "      <th>group</th>\n",
       "      <th>visitors</th>\n",
       "    </tr>\n",
       "  </thead>\n",
       "  <tbody>\n",
       "    <tr>\n",
       "      <td>0</td>\n",
       "      <td>2019-08-01</td>\n",
       "      <td>A</td>\n",
       "      <td>719</td>\n",
       "    </tr>\n",
       "    <tr>\n",
       "      <td>1</td>\n",
       "      <td>2019-08-02</td>\n",
       "      <td>A</td>\n",
       "      <td>619</td>\n",
       "    </tr>\n",
       "    <tr>\n",
       "      <td>2</td>\n",
       "      <td>2019-08-03</td>\n",
       "      <td>A</td>\n",
       "      <td>507</td>\n",
       "    </tr>\n",
       "    <tr>\n",
       "      <td>3</td>\n",
       "      <td>2019-08-04</td>\n",
       "      <td>A</td>\n",
       "      <td>717</td>\n",
       "    </tr>\n",
       "    <tr>\n",
       "      <td>4</td>\n",
       "      <td>2019-08-05</td>\n",
       "      <td>A</td>\n",
       "      <td>756</td>\n",
       "    </tr>\n",
       "  </tbody>\n",
       "</table>\n",
       "</div>"
      ],
      "text/plain": [
       "         date group  visitors\n",
       "0  2019-08-01     A       719\n",
       "1  2019-08-02     A       619\n",
       "2  2019-08-03     A       507\n",
       "3  2019-08-04     A       717\n",
       "4  2019-08-05     A       756"
      ]
     },
     "execution_count": 8,
     "metadata": {},
     "output_type": "execute_result"
    }
   ],
   "source": [
    "visitors.head()"
   ]
  },
  {
   "cell_type": "code",
   "execution_count": 9,
   "metadata": {},
   "outputs": [
    {
     "name": "stdout",
     "output_type": "stream",
     "text": [
      "<class 'pandas.core.frame.DataFrame'>\n",
      "RangeIndex: 1197 entries, 0 to 1196\n",
      "Data columns (total 5 columns):\n",
      "transactionId    1197 non-null int64\n",
      "visitorId        1197 non-null int64\n",
      "date             1197 non-null object\n",
      "revenue          1197 non-null int64\n",
      "group            1197 non-null object\n",
      "dtypes: int64(3), object(2)\n",
      "memory usage: 46.9+ KB\n"
     ]
    }
   ],
   "source": [
    "orders.info()"
   ]
  },
  {
   "cell_type": "code",
   "execution_count": 10,
   "metadata": {},
   "outputs": [
    {
     "data": {
      "text/plain": [
       "False    1197\n",
       "dtype: int64"
      ]
     },
     "execution_count": 10,
     "metadata": {},
     "output_type": "execute_result"
    }
   ],
   "source": [
    "orders.duplicated().value_counts()"
   ]
  },
  {
   "cell_type": "code",
   "execution_count": 11,
   "metadata": {},
   "outputs": [
    {
     "data": {
      "text/html": [
       "<div>\n",
       "<style scoped>\n",
       "    .dataframe tbody tr th:only-of-type {\n",
       "        vertical-align: middle;\n",
       "    }\n",
       "\n",
       "    .dataframe tbody tr th {\n",
       "        vertical-align: top;\n",
       "    }\n",
       "\n",
       "    .dataframe thead th {\n",
       "        text-align: right;\n",
       "    }\n",
       "</style>\n",
       "<table border=\"1\" class=\"dataframe\">\n",
       "  <thead>\n",
       "    <tr style=\"text-align: right;\">\n",
       "      <th></th>\n",
       "      <th>transactionId</th>\n",
       "      <th>visitorId</th>\n",
       "      <th>date</th>\n",
       "      <th>revenue</th>\n",
       "      <th>group</th>\n",
       "    </tr>\n",
       "  </thead>\n",
       "  <tbody>\n",
       "    <tr>\n",
       "      <td>0</td>\n",
       "      <td>3667963787</td>\n",
       "      <td>3312258926</td>\n",
       "      <td>2019-08-15</td>\n",
       "      <td>1650</td>\n",
       "      <td>B</td>\n",
       "    </tr>\n",
       "    <tr>\n",
       "      <td>1</td>\n",
       "      <td>2804400009</td>\n",
       "      <td>3642806036</td>\n",
       "      <td>2019-08-15</td>\n",
       "      <td>730</td>\n",
       "      <td>B</td>\n",
       "    </tr>\n",
       "    <tr>\n",
       "      <td>2</td>\n",
       "      <td>2961555356</td>\n",
       "      <td>4069496402</td>\n",
       "      <td>2019-08-15</td>\n",
       "      <td>400</td>\n",
       "      <td>A</td>\n",
       "    </tr>\n",
       "    <tr>\n",
       "      <td>3</td>\n",
       "      <td>3797467345</td>\n",
       "      <td>1196621759</td>\n",
       "      <td>2019-08-15</td>\n",
       "      <td>9759</td>\n",
       "      <td>B</td>\n",
       "    </tr>\n",
       "    <tr>\n",
       "      <td>4</td>\n",
       "      <td>2282983706</td>\n",
       "      <td>2322279887</td>\n",
       "      <td>2019-08-15</td>\n",
       "      <td>2308</td>\n",
       "      <td>B</td>\n",
       "    </tr>\n",
       "  </tbody>\n",
       "</table>\n",
       "</div>"
      ],
      "text/plain": [
       "   transactionId   visitorId        date  revenue group\n",
       "0     3667963787  3312258926  2019-08-15     1650     B\n",
       "1     2804400009  3642806036  2019-08-15      730     B\n",
       "2     2961555356  4069496402  2019-08-15      400     A\n",
       "3     3797467345  1196621759  2019-08-15     9759     B\n",
       "4     2282983706  2322279887  2019-08-15     2308     B"
      ]
     },
     "execution_count": 11,
     "metadata": {},
     "output_type": "execute_result"
    }
   ],
   "source": [
    "orders.head()"
   ]
  },
  {
   "cell_type": "markdown",
   "metadata": {},
   "source": [
    "Проверим наличие одних и тех же пользователей в обеих группах одновременно"
   ]
  },
  {
   "cell_type": "code",
   "execution_count": 12,
   "metadata": {},
   "outputs": [],
   "source": [
    "usersAset = set(orders[orders['group'] == 'A']['visitorId'].unique())\n",
    "\n",
    "usersBset = set(orders[orders['group'] == 'B']['visitorId'].unique())"
   ]
  },
  {
   "cell_type": "code",
   "execution_count": 13,
   "metadata": {
    "scrolled": true
   },
   "outputs": [
    {
     "data": {
      "text/plain": [
       "58"
      ]
     },
     "execution_count": 13,
     "metadata": {},
     "output_type": "execute_result"
    }
   ],
   "source": [
    "joint_users = usersAset.intersection(usersBset)\n",
    "\n",
    "len(joint_users)"
   ]
  },
  {
   "cell_type": "markdown",
   "metadata": {},
   "source": [
    "*58 пользователей оказались в обеих группах одновременно. Создадим новую таблицу с данными о заказах без этих пользователей*"
   ]
  },
  {
   "cell_type": "code",
   "execution_count": 14,
   "metadata": {},
   "outputs": [],
   "source": [
    "orders_new = orders[np.logical_not(orders['visitorId'].isin(joint_users))]"
   ]
  },
  {
   "cell_type": "markdown",
   "metadata": {},
   "source": [
    "*Дубликатов нет, типы данных соответствуют*"
   ]
  },
  {
   "cell_type": "markdown",
   "metadata": {},
   "source": [
    "Приведем названия столбцов таблицы с гипотезами к нижнему регистру и увеличим ширину столбцов и самой таблицы для удобства прочтения гипотезы."
   ]
  },
  {
   "cell_type": "code",
   "execution_count": 15,
   "metadata": {},
   "outputs": [],
   "source": [
    "hypothesis.columns = hypothesis.columns.str.lower()"
   ]
  },
  {
   "cell_type": "code",
   "execution_count": 16,
   "metadata": {},
   "outputs": [],
   "source": [
    "pd.set_option('max_colwidth', 120)\n",
    "pd.set_option('display.width', 500)"
   ]
  },
  {
   "cell_type": "markdown",
   "metadata": {},
   "source": [
    "## Приоритизация гипотез"
   ]
  },
  {
   "cell_type": "markdown",
   "metadata": {},
   "source": [
    "Применим фреймворк ICE для приоритизации и выясним топ-5 гипотез"
   ]
  },
  {
   "cell_type": "code",
   "execution_count": 17,
   "metadata": {},
   "outputs": [],
   "source": [
    "hypothesis['ICE'] = (hypothesis['impact'] * hypothesis['confidence'] / hypothesis['efforts']).round(1)\n",
    "\n",
    "hypothesis_ice = hypothesis.sort_values(by=['ICE'], ascending=False)"
   ]
  },
  {
   "cell_type": "code",
   "execution_count": 18,
   "metadata": {
    "scrolled": true
   },
   "outputs": [
    {
     "data": {
      "text/html": [
       "<div>\n",
       "<style scoped>\n",
       "    .dataframe tbody tr th:only-of-type {\n",
       "        vertical-align: middle;\n",
       "    }\n",
       "\n",
       "    .dataframe tbody tr th {\n",
       "        vertical-align: top;\n",
       "    }\n",
       "\n",
       "    .dataframe thead th {\n",
       "        text-align: right;\n",
       "    }\n",
       "</style>\n",
       "<table border=\"1\" class=\"dataframe\">\n",
       "  <thead>\n",
       "    <tr style=\"text-align: right;\">\n",
       "      <th></th>\n",
       "      <th>hypothesis</th>\n",
       "      <th>reach</th>\n",
       "      <th>impact</th>\n",
       "      <th>confidence</th>\n",
       "      <th>efforts</th>\n",
       "      <th>ICE</th>\n",
       "    </tr>\n",
       "  </thead>\n",
       "  <tbody>\n",
       "    <tr>\n",
       "      <td>8</td>\n",
       "      <td>Запустить акцию, дающую скидку на товар в день рождения</td>\n",
       "      <td>1</td>\n",
       "      <td>9</td>\n",
       "      <td>9</td>\n",
       "      <td>5</td>\n",
       "      <td>16.2</td>\n",
       "    </tr>\n",
       "    <tr>\n",
       "      <td>0</td>\n",
       "      <td>Добавить два новых канала привлечения трафика, что позволит привлекать на 30% больше пользователей</td>\n",
       "      <td>3</td>\n",
       "      <td>10</td>\n",
       "      <td>8</td>\n",
       "      <td>6</td>\n",
       "      <td>13.3</td>\n",
       "    </tr>\n",
       "    <tr>\n",
       "      <td>7</td>\n",
       "      <td>Добавить форму подписки на все основные страницы, чтобы собрать базу клиентов для email-рассылок</td>\n",
       "      <td>10</td>\n",
       "      <td>7</td>\n",
       "      <td>8</td>\n",
       "      <td>5</td>\n",
       "      <td>11.2</td>\n",
       "    </tr>\n",
       "    <tr>\n",
       "      <td>6</td>\n",
       "      <td>Показать на главной странице баннеры с актуальными акциями и распродажами, чтобы увеличить конверсию</td>\n",
       "      <td>5</td>\n",
       "      <td>3</td>\n",
       "      <td>8</td>\n",
       "      <td>3</td>\n",
       "      <td>8.0</td>\n",
       "    </tr>\n",
       "    <tr>\n",
       "      <td>2</td>\n",
       "      <td>Добавить блоки рекомендаций товаров на сайт интернет магазина, чтобы повысить конверсию и средний чек заказа</td>\n",
       "      <td>8</td>\n",
       "      <td>3</td>\n",
       "      <td>7</td>\n",
       "      <td>3</td>\n",
       "      <td>7.0</td>\n",
       "    </tr>\n",
       "  </tbody>\n",
       "</table>\n",
       "</div>"
      ],
      "text/plain": [
       "                                                                                                     hypothesis  reach  impact  confidence  efforts   ICE\n",
       "8                                                       Запустить акцию, дающую скидку на товар в день рождения      1       9           9        5  16.2\n",
       "0            Добавить два новых канала привлечения трафика, что позволит привлекать на 30% больше пользователей      3      10           8        6  13.3\n",
       "7              Добавить форму подписки на все основные страницы, чтобы собрать базу клиентов для email-рассылок     10       7           8        5  11.2\n",
       "6          Показать на главной странице баннеры с актуальными акциями и распродажами, чтобы увеличить конверсию      5       3           8        3   8.0\n",
       "2  Добавить блоки рекомендаций товаров на сайт интернет магазина, чтобы повысить конверсию и средний чек заказа      8       3           7        3   7.0"
      ]
     },
     "execution_count": 18,
     "metadata": {},
     "output_type": "execute_result"
    }
   ],
   "source": [
    "hypothesis_ice.head(5)"
   ]
  },
  {
   "cell_type": "markdown",
   "metadata": {},
   "source": [
    "Применим фреймворк RICE для приоритизации и выясним топ-5 гипотез"
   ]
  },
  {
   "cell_type": "code",
   "execution_count": 19,
   "metadata": {},
   "outputs": [],
   "source": [
    "hypothesis['RICE'] = hypothesis['reach'] * hypothesis['ICE']\n",
    "\n",
    "hypothesis_rice = hypothesis.sort_values(by=['RICE'], ascending=False)"
   ]
  },
  {
   "cell_type": "code",
   "execution_count": 20,
   "metadata": {},
   "outputs": [
    {
     "data": {
      "text/html": [
       "<style  type=\"text/css\" >\n",
       "    #T_309f866a_5907_11ec_88d3_02420a392d4erow0_col5 {\n",
       "            width:  10em;\n",
       "             height:  80%;\n",
       "            background:  linear-gradient(90deg,#5fba7d 69.1%, transparent 69.1%);\n",
       "        }    #T_309f866a_5907_11ec_88d3_02420a392d4erow0_col6 {\n",
       "            width:  10em;\n",
       "             height:  80%;\n",
       "            background:  linear-gradient(90deg,#5fba7d 100.0%, transparent 100.0%);\n",
       "        }    #T_309f866a_5907_11ec_88d3_02420a392d4erow1_col5 {\n",
       "            width:  10em;\n",
       "             height:  80%;\n",
       "            background:  linear-gradient(90deg,#5fba7d 43.2%, transparent 43.2%);\n",
       "        }    #T_309f866a_5907_11ec_88d3_02420a392d4erow1_col6 {\n",
       "            width:  10em;\n",
       "             height:  80%;\n",
       "            background:  linear-gradient(90deg,#5fba7d 50.0%, transparent 50.0%);\n",
       "        }    #T_309f866a_5907_11ec_88d3_02420a392d4erow2_col5 {\n",
       "            width:  10em;\n",
       "             height:  80%;\n",
       "            background:  linear-gradient(90deg,#5fba7d 49.4%, transparent 49.4%);\n",
       "        }    #T_309f866a_5907_11ec_88d3_02420a392d4erow2_col6 {\n",
       "            width:  10em;\n",
       "             height:  80%;\n",
       "            background:  linear-gradient(90deg,#5fba7d 35.7%, transparent 35.7%);\n",
       "        }    #T_309f866a_5907_11ec_88d3_02420a392d4erow3_col5 {\n",
       "            width:  10em;\n",
       "             height:  80%;\n",
       "            background:  linear-gradient(90deg,#5fba7d 82.1%, transparent 82.1%);\n",
       "        }    #T_309f866a_5907_11ec_88d3_02420a392d4erow3_col6 {\n",
       "            width:  10em;\n",
       "             height:  80%;\n",
       "            background:  linear-gradient(90deg,#5fba7d 35.6%, transparent 35.6%);\n",
       "        }    #T_309f866a_5907_11ec_88d3_02420a392d4erow4_col5 {\n",
       "            width:  10em;\n",
       "             height:  80%;\n",
       "            background:  linear-gradient(90deg,#5fba7d 100.0%, transparent 100.0%);\n",
       "        }    #T_309f866a_5907_11ec_88d3_02420a392d4erow4_col6 {\n",
       "            width:  10em;\n",
       "             height:  80%;\n",
       "            background:  linear-gradient(90deg,#5fba7d 14.5%, transparent 14.5%);\n",
       "        }    #T_309f866a_5907_11ec_88d3_02420a392d4erow5_col5 {\n",
       "            width:  10em;\n",
       "             height:  80%;\n",
       "            background:  linear-gradient(90deg,#5fba7d 6.8%, transparent 6.8%);\n",
       "        }    #T_309f866a_5907_11ec_88d3_02420a392d4erow5_col6 {\n",
       "            width:  10em;\n",
       "             height:  80%;\n",
       "            background:  linear-gradient(90deg,#5fba7d 7.9%, transparent 7.9%);\n",
       "        }    #T_309f866a_5907_11ec_88d3_02420a392d4erow6_col5 {\n",
       "            width:  10em;\n",
       "             height:  80%;\n",
       "            background:  linear-gradient(90deg,#5fba7d 12.3%, transparent 12.3%);\n",
       "        }    #T_309f866a_5907_11ec_88d3_02420a392d4erow6_col6 {\n",
       "            width:  10em;\n",
       "             height:  80%;\n",
       "            background:  linear-gradient(90deg,#5fba7d 3.6%, transparent 3.6%);\n",
       "        }    #T_309f866a_5907_11ec_88d3_02420a392d4erow7_col5 {\n",
       "            width:  10em;\n",
       "             height:  80%;\n",
       "            background:  linear-gradient(90deg,#5fba7d 8.0%, transparent 8.0%);\n",
       "        }    #T_309f866a_5907_11ec_88d3_02420a392d4erow7_col6 {\n",
       "            width:  10em;\n",
       "             height:  80%;\n",
       "            background:  linear-gradient(90deg,#5fba7d 3.5%, transparent 3.5%);\n",
       "        }    #T_309f866a_5907_11ec_88d3_02420a392d4erow8_col5 {\n",
       "            width:  10em;\n",
       "             height:  80%;\n",
       "            background:  linear-gradient(90deg,#5fba7d 6.2%, transparent 6.2%);\n",
       "        }    #T_309f866a_5907_11ec_88d3_02420a392d4erow8_col6 {\n",
       "            width:  10em;\n",
       "             height:  80%;\n",
       "            background:  linear-gradient(90deg,#5fba7d 2.7%, transparent 2.7%);\n",
       "        }</style><table id=\"T_309f866a_5907_11ec_88d3_02420a392d4e\" ><thead>    <tr>        <th class=\"blank level0\" ></th>        <th class=\"col_heading level0 col0\" >hypothesis</th>        <th class=\"col_heading level0 col1\" >reach</th>        <th class=\"col_heading level0 col2\" >impact</th>        <th class=\"col_heading level0 col3\" >confidence</th>        <th class=\"col_heading level0 col4\" >efforts</th>        <th class=\"col_heading level0 col5\" >ICE</th>        <th class=\"col_heading level0 col6\" >RICE</th>    </tr></thead><tbody>\n",
       "                <tr>\n",
       "                        <th id=\"T_309f866a_5907_11ec_88d3_02420a392d4elevel0_row0\" class=\"row_heading level0 row0\" >7</th>\n",
       "                        <td id=\"T_309f866a_5907_11ec_88d3_02420a392d4erow0_col0\" class=\"data row0 col0\" >Добавить форму подписки на все основные страницы, чтобы собрать базу клиентов для email-рассылок</td>\n",
       "                        <td id=\"T_309f866a_5907_11ec_88d3_02420a392d4erow0_col1\" class=\"data row0 col1\" >10</td>\n",
       "                        <td id=\"T_309f866a_5907_11ec_88d3_02420a392d4erow0_col2\" class=\"data row0 col2\" >7</td>\n",
       "                        <td id=\"T_309f866a_5907_11ec_88d3_02420a392d4erow0_col3\" class=\"data row0 col3\" >8</td>\n",
       "                        <td id=\"T_309f866a_5907_11ec_88d3_02420a392d4erow0_col4\" class=\"data row0 col4\" >5</td>\n",
       "                        <td id=\"T_309f866a_5907_11ec_88d3_02420a392d4erow0_col5\" class=\"data row0 col5\" >11.2</td>\n",
       "                        <td id=\"T_309f866a_5907_11ec_88d3_02420a392d4erow0_col6\" class=\"data row0 col6\" >112</td>\n",
       "            </tr>\n",
       "            <tr>\n",
       "                        <th id=\"T_309f866a_5907_11ec_88d3_02420a392d4elevel0_row1\" class=\"row_heading level0 row1\" >2</th>\n",
       "                        <td id=\"T_309f866a_5907_11ec_88d3_02420a392d4erow1_col0\" class=\"data row1 col0\" >Добавить блоки рекомендаций товаров на сайт интернет магазина, чтобы повысить конверсию и средний чек заказа</td>\n",
       "                        <td id=\"T_309f866a_5907_11ec_88d3_02420a392d4erow1_col1\" class=\"data row1 col1\" >8</td>\n",
       "                        <td id=\"T_309f866a_5907_11ec_88d3_02420a392d4erow1_col2\" class=\"data row1 col2\" >3</td>\n",
       "                        <td id=\"T_309f866a_5907_11ec_88d3_02420a392d4erow1_col3\" class=\"data row1 col3\" >7</td>\n",
       "                        <td id=\"T_309f866a_5907_11ec_88d3_02420a392d4erow1_col4\" class=\"data row1 col4\" >3</td>\n",
       "                        <td id=\"T_309f866a_5907_11ec_88d3_02420a392d4erow1_col5\" class=\"data row1 col5\" >7</td>\n",
       "                        <td id=\"T_309f866a_5907_11ec_88d3_02420a392d4erow1_col6\" class=\"data row1 col6\" >56</td>\n",
       "            </tr>\n",
       "            <tr>\n",
       "                        <th id=\"T_309f866a_5907_11ec_88d3_02420a392d4elevel0_row2\" class=\"row_heading level0 row2\" >6</th>\n",
       "                        <td id=\"T_309f866a_5907_11ec_88d3_02420a392d4erow2_col0\" class=\"data row2 col0\" >Показать на главной странице баннеры с актуальными акциями и распродажами, чтобы увеличить конверсию</td>\n",
       "                        <td id=\"T_309f866a_5907_11ec_88d3_02420a392d4erow2_col1\" class=\"data row2 col1\" >5</td>\n",
       "                        <td id=\"T_309f866a_5907_11ec_88d3_02420a392d4erow2_col2\" class=\"data row2 col2\" >3</td>\n",
       "                        <td id=\"T_309f866a_5907_11ec_88d3_02420a392d4erow2_col3\" class=\"data row2 col3\" >8</td>\n",
       "                        <td id=\"T_309f866a_5907_11ec_88d3_02420a392d4erow2_col4\" class=\"data row2 col4\" >3</td>\n",
       "                        <td id=\"T_309f866a_5907_11ec_88d3_02420a392d4erow2_col5\" class=\"data row2 col5\" >8</td>\n",
       "                        <td id=\"T_309f866a_5907_11ec_88d3_02420a392d4erow2_col6\" class=\"data row2 col6\" >40</td>\n",
       "            </tr>\n",
       "            <tr>\n",
       "                        <th id=\"T_309f866a_5907_11ec_88d3_02420a392d4elevel0_row3\" class=\"row_heading level0 row3\" >0</th>\n",
       "                        <td id=\"T_309f866a_5907_11ec_88d3_02420a392d4erow3_col0\" class=\"data row3 col0\" >Добавить два новых канала привлечения трафика, что позволит привлекать на 30% больше пользователей</td>\n",
       "                        <td id=\"T_309f866a_5907_11ec_88d3_02420a392d4erow3_col1\" class=\"data row3 col1\" >3</td>\n",
       "                        <td id=\"T_309f866a_5907_11ec_88d3_02420a392d4erow3_col2\" class=\"data row3 col2\" >10</td>\n",
       "                        <td id=\"T_309f866a_5907_11ec_88d3_02420a392d4erow3_col3\" class=\"data row3 col3\" >8</td>\n",
       "                        <td id=\"T_309f866a_5907_11ec_88d3_02420a392d4erow3_col4\" class=\"data row3 col4\" >6</td>\n",
       "                        <td id=\"T_309f866a_5907_11ec_88d3_02420a392d4erow3_col5\" class=\"data row3 col5\" >13.3</td>\n",
       "                        <td id=\"T_309f866a_5907_11ec_88d3_02420a392d4erow3_col6\" class=\"data row3 col6\" >39.9</td>\n",
       "            </tr>\n",
       "            <tr>\n",
       "                        <th id=\"T_309f866a_5907_11ec_88d3_02420a392d4elevel0_row4\" class=\"row_heading level0 row4\" >8</th>\n",
       "                        <td id=\"T_309f866a_5907_11ec_88d3_02420a392d4erow4_col0\" class=\"data row4 col0\" >Запустить акцию, дающую скидку на товар в день рождения</td>\n",
       "                        <td id=\"T_309f866a_5907_11ec_88d3_02420a392d4erow4_col1\" class=\"data row4 col1\" >1</td>\n",
       "                        <td id=\"T_309f866a_5907_11ec_88d3_02420a392d4erow4_col2\" class=\"data row4 col2\" >9</td>\n",
       "                        <td id=\"T_309f866a_5907_11ec_88d3_02420a392d4erow4_col3\" class=\"data row4 col3\" >9</td>\n",
       "                        <td id=\"T_309f866a_5907_11ec_88d3_02420a392d4erow4_col4\" class=\"data row4 col4\" >5</td>\n",
       "                        <td id=\"T_309f866a_5907_11ec_88d3_02420a392d4erow4_col5\" class=\"data row4 col5\" >16.2</td>\n",
       "                        <td id=\"T_309f866a_5907_11ec_88d3_02420a392d4erow4_col6\" class=\"data row4 col6\" >16.2</td>\n",
       "            </tr>\n",
       "            <tr>\n",
       "                        <th id=\"T_309f866a_5907_11ec_88d3_02420a392d4elevel0_row5\" class=\"row_heading level0 row5\" >3</th>\n",
       "                        <td id=\"T_309f866a_5907_11ec_88d3_02420a392d4erow5_col0\" class=\"data row5 col0\" >Изменить структура категорий, что увеличит конверсию, т.к. пользователи быстрее найдут нужный товар</td>\n",
       "                        <td id=\"T_309f866a_5907_11ec_88d3_02420a392d4erow5_col1\" class=\"data row5 col1\" >8</td>\n",
       "                        <td id=\"T_309f866a_5907_11ec_88d3_02420a392d4erow5_col2\" class=\"data row5 col2\" >3</td>\n",
       "                        <td id=\"T_309f866a_5907_11ec_88d3_02420a392d4erow5_col3\" class=\"data row5 col3\" >3</td>\n",
       "                        <td id=\"T_309f866a_5907_11ec_88d3_02420a392d4erow5_col4\" class=\"data row5 col4\" >8</td>\n",
       "                        <td id=\"T_309f866a_5907_11ec_88d3_02420a392d4erow5_col5\" class=\"data row5 col5\" >1.1</td>\n",
       "                        <td id=\"T_309f866a_5907_11ec_88d3_02420a392d4erow5_col6\" class=\"data row5 col6\" >8.8</td>\n",
       "            </tr>\n",
       "            <tr>\n",
       "                        <th id=\"T_309f866a_5907_11ec_88d3_02420a392d4elevel0_row6\" class=\"row_heading level0 row6\" >1</th>\n",
       "                        <td id=\"T_309f866a_5907_11ec_88d3_02420a392d4erow6_col0\" class=\"data row6 col0\" >Запустить собственную службу доставки, что сократит срок доставки заказов</td>\n",
       "                        <td id=\"T_309f866a_5907_11ec_88d3_02420a392d4erow6_col1\" class=\"data row6 col1\" >2</td>\n",
       "                        <td id=\"T_309f866a_5907_11ec_88d3_02420a392d4erow6_col2\" class=\"data row6 col2\" >5</td>\n",
       "                        <td id=\"T_309f866a_5907_11ec_88d3_02420a392d4erow6_col3\" class=\"data row6 col3\" >4</td>\n",
       "                        <td id=\"T_309f866a_5907_11ec_88d3_02420a392d4erow6_col4\" class=\"data row6 col4\" >10</td>\n",
       "                        <td id=\"T_309f866a_5907_11ec_88d3_02420a392d4erow6_col5\" class=\"data row6 col5\" >2</td>\n",
       "                        <td id=\"T_309f866a_5907_11ec_88d3_02420a392d4erow6_col6\" class=\"data row6 col6\" >4</td>\n",
       "            </tr>\n",
       "            <tr>\n",
       "                        <th id=\"T_309f866a_5907_11ec_88d3_02420a392d4elevel0_row7\" class=\"row_heading level0 row7\" >5</th>\n",
       "                        <td id=\"T_309f866a_5907_11ec_88d3_02420a392d4erow7_col0\" class=\"data row7 col0\" >Добавить страницу отзывов клиентов о магазине, что позволит увеличить количество заказов</td>\n",
       "                        <td id=\"T_309f866a_5907_11ec_88d3_02420a392d4erow7_col1\" class=\"data row7 col1\" >3</td>\n",
       "                        <td id=\"T_309f866a_5907_11ec_88d3_02420a392d4erow7_col2\" class=\"data row7 col2\" >2</td>\n",
       "                        <td id=\"T_309f866a_5907_11ec_88d3_02420a392d4erow7_col3\" class=\"data row7 col3\" >2</td>\n",
       "                        <td id=\"T_309f866a_5907_11ec_88d3_02420a392d4erow7_col4\" class=\"data row7 col4\" >3</td>\n",
       "                        <td id=\"T_309f866a_5907_11ec_88d3_02420a392d4erow7_col5\" class=\"data row7 col5\" >1.3</td>\n",
       "                        <td id=\"T_309f866a_5907_11ec_88d3_02420a392d4erow7_col6\" class=\"data row7 col6\" >3.9</td>\n",
       "            </tr>\n",
       "            <tr>\n",
       "                        <th id=\"T_309f866a_5907_11ec_88d3_02420a392d4elevel0_row8\" class=\"row_heading level0 row8\" >4</th>\n",
       "                        <td id=\"T_309f866a_5907_11ec_88d3_02420a392d4erow8_col0\" class=\"data row8 col0\" >Изменить цвет фона главной страницы, чтобы увеличить вовлеченность пользователей</td>\n",
       "                        <td id=\"T_309f866a_5907_11ec_88d3_02420a392d4erow8_col1\" class=\"data row8 col1\" >3</td>\n",
       "                        <td id=\"T_309f866a_5907_11ec_88d3_02420a392d4erow8_col2\" class=\"data row8 col2\" >1</td>\n",
       "                        <td id=\"T_309f866a_5907_11ec_88d3_02420a392d4erow8_col3\" class=\"data row8 col3\" >1</td>\n",
       "                        <td id=\"T_309f866a_5907_11ec_88d3_02420a392d4erow8_col4\" class=\"data row8 col4\" >1</td>\n",
       "                        <td id=\"T_309f866a_5907_11ec_88d3_02420a392d4erow8_col5\" class=\"data row8 col5\" >1</td>\n",
       "                        <td id=\"T_309f866a_5907_11ec_88d3_02420a392d4erow8_col6\" class=\"data row8 col6\" >3</td>\n",
       "            </tr>\n",
       "    </tbody></table>"
      ],
      "text/plain": [
       "<pandas.io.formats.style.Styler at 0x7fa63c67f490>"
      ]
     },
     "execution_count": 20,
     "metadata": {},
     "output_type": "execute_result"
    }
   ],
   "source": [
    "hypothesis_rice.style.bar(subset=['RICE', 'ICE'], align='mid', color='#5fba7d')"
   ]
  },
  {
   "cell_type": "markdown",
   "metadata": {},
   "source": [
    "*В топ-5 остались те же гипотезы, что и при сортировке по ICE, только их расположение изменилось за счет того, что приоритет RICE учитывает охват пользователей. По сути приоритет RICE показывает увеличенный во столько раз ICE, во сколько баллов был оценен охват пользователей.   \n",
    "Приоритетнее гипотезы с бОльшим охватом при прочих равных.*"
   ]
  },
  {
   "cell_type": "markdown",
   "metadata": {},
   "source": [
    "*В первую очередь нужно проверить гипотезы с большим охватом пользователей. Добавив форму подписки на основные страницы, мы сможем собрать базу лояльных клиентов и совершать рассылки с акциями и распродажами, а также с персональными рекомендациями, увеличив этим средний чек и количество заказов.  \n",
    "А для повышения конверсии проверить гипотезу с добавлением рекомендаций товаров на сайте.*"
   ]
  },
  {
   "cell_type": "markdown",
   "metadata": {},
   "source": [
    "## Анализ A/B-теста"
   ]
  },
  {
   "cell_type": "markdown",
   "metadata": {},
   "source": [
    "Для анализа кумулятивных значений метрик разделим данные о визитах по группам"
   ]
  },
  {
   "cell_type": "code",
   "execution_count": 21,
   "metadata": {},
   "outputs": [],
   "source": [
    "visitorsADaily = visitors[visitors['group'] == 'A'][['date', 'visitors']]\n",
    "visitorsADaily.columns = ['date', 'visitorsPerDateA']"
   ]
  },
  {
   "cell_type": "code",
   "execution_count": 22,
   "metadata": {},
   "outputs": [],
   "source": [
    "visitorsBDaily = visitors[visitors['group'] == 'B'][['date', 'visitors']]\n",
    "visitorsBDaily.columns = ['date', 'visitorsPerDateB']"
   ]
  },
  {
   "cell_type": "markdown",
   "metadata": {},
   "source": [
    "Создадим таблицы с кумулятивными данными"
   ]
  },
  {
   "cell_type": "code",
   "execution_count": 23,
   "metadata": {},
   "outputs": [],
   "source": [
    "visitorsACummulative = visitorsADaily.apply(\n",
    "    lambda x: visitorsADaily[visitorsADaily['date'] <= x['date']].agg({'date': 'max', 'visitorsPerDateA': 'sum'})\n",
    "    ,axis=1)                \n",
    "visitorsACummulative.columns = ['date', 'visitorsCummulativeA']"
   ]
  },
  {
   "cell_type": "code",
   "execution_count": 24,
   "metadata": {},
   "outputs": [],
   "source": [
    "visitorsBCummulative = visitorsBDaily.apply(\n",
    "    lambda x: visitorsBDaily[visitorsBDaily['date'] <= x['date']].agg({'date': 'max', 'visitorsPerDateB': 'sum'})\n",
    "    ,axis=1)                \n",
    "visitorsBCummulative.columns = ['date', 'visitorsCummulativeB']"
   ]
  },
  {
   "cell_type": "markdown",
   "metadata": {},
   "source": [
    "Данные по заказам также разделим по группам, сгруппируем по датам и применим соответствующие агрегирующие функции для подсчета количества транзакций и суммирования выручки"
   ]
  },
  {
   "cell_type": "code",
   "execution_count": 25,
   "metadata": {},
   "outputs": [],
   "source": [
    "ordersADaily = (orders_new[orders_new['group'] == 'A'][['date', 'transactionId', 'visitorId', 'revenue']]\n",
    "    .groupby('date', as_index=False)\n",
    "    .agg({'transactionId': pd.Series.nunique, 'revenue': 'sum'})\n",
    ")\n",
    "ordersADaily.columns = ['date', 'ordersPerDateA', 'revenuePerDateA']"
   ]
  },
  {
   "cell_type": "code",
   "execution_count": 26,
   "metadata": {},
   "outputs": [],
   "source": [
    "ordersBDaily = (orders_new[orders_new['group'] == 'B'][['date', 'transactionId', 'visitorId', 'revenue']]\n",
    "    .groupby('date', as_index=False)\n",
    "    .agg({'transactionId': pd.Series.nunique, 'revenue': 'sum'})\n",
    ")\n",
    "ordersBDaily.columns = ['date', 'ordersPerDateB', 'revenuePerDateB']"
   ]
  },
  {
   "cell_type": "markdown",
   "metadata": {},
   "source": [
    "Создадим таблицы с кумулятивными данными"
   ]
  },
  {
   "cell_type": "code",
   "execution_count": 27,
   "metadata": {},
   "outputs": [],
   "source": [
    "ordersACummulative = ordersADaily.apply(\n",
    "    lambda x: ordersADaily[ordersADaily['date'] <= x['date']]\n",
    "    .agg({'date': 'max', 'ordersPerDateA': 'sum', 'revenuePerDateA': 'sum'}), axis=1).sort_values(by=['date'])\n",
    "\n",
    "ordersACummulative.columns = ['date', 'ordersCummulativeA', 'revenueCummulativeA']"
   ]
  },
  {
   "cell_type": "code",
   "execution_count": 28,
   "metadata": {},
   "outputs": [],
   "source": [
    "ordersBCummulative = ordersBDaily.apply(\n",
    "    lambda x: ordersBDaily[ordersBDaily['date'] <= x['date']]\n",
    "    .agg({'date': 'max', 'ordersPerDateB': 'sum', 'revenuePerDateB': 'sum'}), axis=1).sort_values(by=['date'])\n",
    "\n",
    "ordersBCummulative.columns = ['date', 'ordersCummulativeB', 'revenueCummulativeB']"
   ]
  },
  {
   "cell_type": "markdown",
   "metadata": {},
   "source": [
    "### График кумулятивной выручки по группам"
   ]
  },
  {
   "cell_type": "code",
   "execution_count": 29,
   "metadata": {},
   "outputs": [
    {
     "data": {
      "image/png": "[encoded data removed]",
      "text/plain": [
       "<Figure size 1080x504 with 1 Axes>"
      ]
     },
     "metadata": {
      "needs_background": "light"
     },
     "output_type": "display_data"
    }
   ],
   "source": [
    "fig, ax = plt.subplots(figsize=(15, 7))\n",
    "\n",
    "ax.plot(ordersACummulative['date'], ordersACummulative['revenueCummulativeA'], label='A')\n",
    "ax.plot(ordersBCummulative['date'], ordersBCummulative['revenueCummulativeB'], label='B')\n",
    "\n",
    "plt.xticks(rotation=60, horizontalalignment='right', fontsize=12)\n",
    "plt.ylabel(\"Выручка\", size=12)\n",
    "plt.title(\"Распределение кумулятивной выручки по группам\", size=17)\n",
    "ax.legend()\n",
    "\n",
    "plt.annotate('скачок', xy=('2019-08-17', 2500000), xytext=('2019-08-10', 3500000),\n",
    "            arrowprops=dict(facecolor='g'))\n",
    "plt.annotate('отрыв', xy=('2019-08-05', 800000), xytext=('2019-08-05', 2000000),\n",
    "            arrowprops=dict(facecolor='g'))\n",
    "\n",
    "plt.show()"
   ]
  },
  {
   "cell_type": "markdown",
   "metadata": {},
   "source": [
    "*В начале эксперимента выручки групп А и B имели незначительное различие, но со второй половины августа выручка группы B резко увеличилась и продолжает лидировать*"
   ]
  },
  {
   "cell_type": "markdown",
   "metadata": {},
   "source": [
    "### График кумулятивного среднего чека по группам"
   ]
  },
  {
   "cell_type": "code",
   "execution_count": 30,
   "metadata": {},
   "outputs": [],
   "source": [
    "check_a = ordersACummulative['revenueCummulativeA'] / ordersACummulative['ordersCummulativeA']\n",
    "\n",
    "check_b = ordersBCummulative['revenueCummulativeB'] / ordersBCummulative['ordersCummulativeB']"
   ]
  },
  {
   "cell_type": "code",
   "execution_count": 31,
   "metadata": {},
   "outputs": [
    {
     "data": {
      "image/png": "[encoded data removed]",
      "text/plain": [
       "<Figure size 1080x504 with 1 Axes>"
      ]
     },
     "metadata": {
      "needs_background": "light"
     },
     "output_type": "display_data"
    }
   ],
   "source": [
    "fig, ax = plt.subplots(figsize=(15, 7))\n",
    "\n",
    "ax.plot(ordersACummulative['date'], check_a, label='A')\n",
    "ax.plot(ordersBCummulative['date'], check_b, label='B')\n",
    "\n",
    "plt.xticks(rotation=60, horizontalalignment='right', fontsize=12)\n",
    "plt.ylabel(\"Средний чек\", size=12)\n",
    "plt.title(\"Изменение кумулятивного среднего чека по группам\", size=17)\n",
    "ax.legend()\n",
    "\n",
    "plt.annotate('резкий скачок', xy=('2019-08-18', 6800), xytext=('2019-08-12', 8500),\n",
    "            arrowprops=dict(facecolor='g'))\n",
    "\n",
    "\n",
    "plt.show()"
   ]
  },
  {
   "cell_type": "markdown",
   "metadata": {},
   "source": [
    "*В начале эксперимента средний чек обеих групп разнонаправленно колебался, но со второй половины августа, как и выручка, средний чек группы B совершил резкий скачок вверх, в группе А остался практически на том же уровне. Нужно выяснить с чем связаны покупки более дорогих товаров в группе B, возможно есть выбросы*"
   ]
  },
  {
   "cell_type": "markdown",
   "metadata": {},
   "source": [
    "### График относительного изменения кумулятивного среднего чека"
   ]
  },
  {
   "cell_type": "code",
   "execution_count": 32,
   "metadata": {},
   "outputs": [
    {
     "data": {
      "image/png": "[encoded data removed]",
      "text/plain": [
       "<Figure size 1080x504 with 1 Axes>"
      ]
     },
     "metadata": {
      "needs_background": "light"
     },
     "output_type": "display_data"
    }
   ],
   "source": [
    "fig, ax = plt.subplots(figsize=(15, 7))\n",
    "\n",
    "ax.plot(ordersACummulative['date'], (check_b / check_a) - 1)\n",
    "ax.axhline(y=0, color='grey', linestyle='--')\n",
    "\n",
    "plt.xticks(rotation=60, horizontalalignment='right', fontsize=12)\n",
    "plt.ylabel(\"Доля изменения\", size=12)\n",
    "plt.title(\"Относительное изменение кумулятивного среднего чека\", size=17)\n",
    "\n",
    "\n",
    "plt.show()"
   ]
  },
  {
   "cell_type": "markdown",
   "metadata": {},
   "source": [
    "*На графике видны множественные резкие перепады на существенные величины, что может говорить о совершении аномальных заказов*"
   ]
  },
  {
   "cell_type": "markdown",
   "metadata": {},
   "source": [
    "### График кумулятивной конверсии по группам"
   ]
  },
  {
   "cell_type": "markdown",
   "metadata": {},
   "source": [
    "Соединим таблицы с визитами и таблицы с заказами по соответствующим группам"
   ]
  },
  {
   "cell_type": "code",
   "execution_count": 33,
   "metadata": {},
   "outputs": [],
   "source": [
    "cumulativeDataA =  visitorsACummulative.merge(ordersACummulative, on='date')\n",
    "\n",
    "cumulativeDataB =  visitorsBCummulative.merge(ordersBCummulative, on='date')"
   ]
  },
  {
   "cell_type": "code",
   "execution_count": 34,
   "metadata": {},
   "outputs": [],
   "source": [
    "conversionA = cumulativeDataA['ordersCummulativeA'] / cumulativeDataA['visitorsCummulativeA']\n",
    "\n",
    "conversionB = cumulativeDataB['ordersCummulativeB'] / cumulativeDataB['visitorsCummulativeB']"
   ]
  },
  {
   "cell_type": "code",
   "execution_count": 35,
   "metadata": {},
   "outputs": [
    {
     "data": {
      "image/png": "[encoded data removed]",
      "text/plain": [
       "<Figure size 1080x504 with 1 Axes>"
      ]
     },
     "metadata": {
      "needs_background": "light"
     },
     "output_type": "display_data"
    }
   ],
   "source": [
    "fig, ax = plt.subplots(figsize=(15, 7))\n",
    "\n",
    "ax.plot(cumulativeDataA['date'], conversionA, label='A')\n",
    "ax.plot(cumulativeDataB['date'], conversionB, label='B')\n",
    "\n",
    "plt.xticks(rotation=60, horizontalalignment='right', fontsize=12)\n",
    "plt.ylabel(\"Конверсия\", size=12)\n",
    "plt.title(\"Изменение кумулятивной конверсии по группам\", size=17)\n",
    "plt.annotate('отрыв', xy=('2019-08-06', 0.03), xytext=('2019-08-06', 0.04),\n",
    "            arrowprops=dict(facecolor='g'))\n",
    "ax.legend()\n",
    "plt.axis([\"2019-08-01\", '2019-08-31', 0, 0.05])\n",
    "\n",
    "plt.show()"
   ]
  },
  {
   "cell_type": "markdown",
   "metadata": {},
   "source": [
    "*В начале эксперимента конверсия группы А была выше, но со временем конверсия группы B начала увеличиваться и постепенно выровнялась на уровне, выше уровня конверсии группы А*"
   ]
  },
  {
   "cell_type": "markdown",
   "metadata": {},
   "source": [
    "### График относительного изменения кумулятивной конверсии"
   ]
  },
  {
   "cell_type": "code",
   "execution_count": 36,
   "metadata": {},
   "outputs": [
    {
     "data": {
      "image/png": "[encoded data removed]",
      "text/plain": [
       "<Figure size 1080x504 with 1 Axes>"
      ]
     },
     "metadata": {
      "needs_background": "light"
     },
     "output_type": "display_data"
    }
   ],
   "source": [
    "fig, ax = plt.subplots(figsize=(15, 7))\n",
    "\n",
    "ax.plot(cumulativeDataA['date'], (conversionB / conversionA) - 1)\n",
    "ax.axhline(y=0, color='grey', linestyle='--')\n",
    "\n",
    "plt.xticks(rotation=60, horizontalalignment='right', fontsize=12)\n",
    "plt.title(\"Относительное изменение кумулятивной конверсии\", size=17)\n",
    "plt.ylabel(\"Доля изменения\", size=12)\n",
    "\n",
    "\n",
    "plt.show()"
   ]
  },
  {
   "cell_type": "markdown",
   "metadata": {},
   "source": [
    "*После выхода относительных значений изменения кумулятивной конверсии из отрицательной зоны был резкий рост на уровень 15-20 %, но со временем значения стабилизировались в диапазоне между 10 и 15*"
   ]
  },
  {
   "cell_type": "markdown",
   "metadata": {},
   "source": [
    "### Точечный график  и расчет перцентилей количества заказов на пользователя"
   ]
  },
  {
   "cell_type": "markdown",
   "metadata": {},
   "source": [
    "Сгруппируем данные с заказами по идентификаторам пользователей и подсчитаем сколько заказов совершил каждый из них"
   ]
  },
  {
   "cell_type": "code",
   "execution_count": 37,
   "metadata": {},
   "outputs": [],
   "source": [
    "ordersByUsers = (orders_new.groupby('visitorId', as_index=False).agg({'transactionId': pd.Series.nunique}))\n",
    "\n",
    "ordersByUsers.columns = ['visitorId', 'transactions']"
   ]
  },
  {
   "cell_type": "code",
   "execution_count": 38,
   "metadata": {},
   "outputs": [
    {
     "data": {
      "image/png": "[encoded data removed]",
      "text/plain": [
       "<Figure size 1080x504 with 1 Axes>"
      ]
     },
     "metadata": {
      "needs_background": "light"
     },
     "output_type": "display_data"
    }
   ],
   "source": [
    "x_values = pd.Series(range(0,len(ordersByUsers['visitorId'])))\n",
    "\n",
    "fig, ax = plt.subplots(figsize=(15, 7))\n",
    "\n",
    "ax.scatter(x_values, ordersByUsers['transactions'])\n",
    "plt.title(\"Распределение количества заказов по пользователям\", size=17)\n",
    "plt.xlabel(\"Порядковый номер покупателя\", size=12)\n",
    "plt.ylabel(\"Количество заказов, шт\", size=12)\n",
    "\n",
    "plt.show()"
   ]
  },
  {
   "cell_type": "markdown",
   "metadata": {},
   "source": [
    "*Большинство пользователей сделали не более 3 заказов*"
   ]
  },
  {
   "cell_type": "markdown",
   "metadata": {},
   "source": [
    "Посчитаем перцентили количества заказов на одного пользователя"
   ]
  },
  {
   "cell_type": "code",
   "execution_count": 39,
   "metadata": {},
   "outputs": [
    {
     "name": "stdout",
     "output_type": "stream",
     "text": [
      "\u001b[1m95-й\u001b[0m перцентиль количества заказов на пользователя: \u001b[1m\u001b[34m1.0\u001b[0m\n",
      "\n",
      "\u001b[1m99-й\u001b[0m перцентиль количества заказов на пользователя: \u001b[1m\u001b[34m2.0\u001b[0m\n"
     ]
    }
   ],
   "source": [
    "percentiles = np.percentile(ordersByUsers['transactions'], [95, 99])\n",
    "\n",
    "print(f'\\033[1m95-й\\033[0m перцентиль количества заказов на пользователя: \\033[1m\\033[34m{percentiles[0]}\\033[0m')\n",
    "print()\n",
    "print(f'\\033[1m99-й\\033[0m перцентиль количества заказов на пользователя: \\033[1m\\033[34m{percentiles[1]}\\033[0m')"
   ]
  },
  {
   "cell_type": "markdown",
   "metadata": {},
   "source": [
    "*Определим границу аномальных пользователей в 1 заказ и отсеим тех, кто сделал больше*"
   ]
  },
  {
   "cell_type": "markdown",
   "metadata": {},
   "source": [
    "### Точечный график и расчет перцентилей стоимостей заказов"
   ]
  },
  {
   "cell_type": "code",
   "execution_count": 40,
   "metadata": {},
   "outputs": [
    {
     "data": {
      "image/png": "[encoded data removed]",
      "text/plain": [
       "<Figure size 1080x504 with 1 Axes>"
      ]
     },
     "metadata": {
      "needs_background": "light"
     },
     "output_type": "display_data"
    }
   ],
   "source": [
    "x_values = pd.Series(range(0,len(orders_new['revenue'])))\n",
    "\n",
    "fig, ax = plt.subplots(figsize=(15, 7))\n",
    "\n",
    "ax.scatter(x_values, orders_new['revenue'])\n",
    "plt.title(\"Распределение стоимостей заказов\", size=17)\n",
    "plt.ylabel(\"Сумма заказа, руб.\", size=12)\n",
    "plt.xlabel(\"Порядковый номер заказа\", size=12)\n",
    "\n",
    "\n",
    "plt.show()"
   ]
  },
  {
   "cell_type": "markdown",
   "metadata": {},
   "source": [
    "*Практически все заказы дешевле 50 тысяч, за редким исключением*"
   ]
  },
  {
   "cell_type": "markdown",
   "metadata": {},
   "source": [
    "Посчитаем перцентили стоимостей заказов"
   ]
  },
  {
   "cell_type": "code",
   "execution_count": 41,
   "metadata": {},
   "outputs": [
    {
     "name": "stdout",
     "output_type": "stream",
     "text": [
      "\u001b[1m95-й\u001b[0m перцентиль стоимостей заказов: \u001b[1m\u001b[34m26785\u001b[0m\n",
      "\n",
      "\u001b[1m99-й\u001b[0m перцентиль стоимостей заказов: \u001b[1m\u001b[34m53904\u001b[0m\n"
     ]
    }
   ],
   "source": [
    "revenues_perc = [int(x) for x in np.percentile(orders_new['revenue'], [95, 99])]\n",
    "\n",
    "print(f'\\033[1m95-й\\033[0m перцентиль стоимостей заказов: \\033[1m\\033[34m{revenues_perc[0]}\\033[0m')\n",
    "print()\n",
    "print(f'\\033[1m99-й\\033[0m перцентиль стоимостей заказов: \\033[1m\\033[34m{revenues_perc[1]}\\033[0m')"
   ]
  },
  {
   "cell_type": "markdown",
   "metadata": {},
   "source": [
    "*Определим границу аномальных стоимостей заказов в 30000 и уберем те, стоимость которых больше*"
   ]
  },
  {
   "cell_type": "markdown",
   "metadata": {},
   "source": [
    "### Статистическая значимость различий в конверсии между группами по «сырым» данным"
   ]
  },
  {
   "cell_type": "markdown",
   "metadata": {},
   "source": [
    "Создадим таблицы sampleA и sampleB, в которых пользователям из разных групп будет соответствовать количество заказов. Тем, кто ничего не заказал, будут соответствовать нули"
   ]
  },
  {
   "cell_type": "code",
   "execution_count": 42,
   "metadata": {},
   "outputs": [],
   "source": [
    "ordersByUsersA = (orders_new[orders_new['group'] == 'A'].groupby('visitorId', as_index=False)\n",
    "                  .agg({'transactionId': pd.Series.nunique}))\n",
    "\n",
    "ordersByUsersA.columns = ['visitorId', 'transactions']\n",
    "\n",
    "ordersByUsersB = (orders_new[orders_new['group'] == 'B'].groupby('visitorId', as_index=False)\n",
    "                  .agg({'transactionId': pd.Series.nunique}))\n",
    "\n",
    "ordersByUsersB.columns = ['visitorId', 'transactions']"
   ]
  },
  {
   "cell_type": "code",
   "execution_count": 43,
   "metadata": {},
   "outputs": [],
   "source": [
    "nullsA = pd.Series(0, index=np.arange(visitorsADaily['visitorsPerDateA'].sum() \n",
    "                                      - len(ordersByUsersA['transactions'])), name='transactions')\n",
    "\n",
    "nullsB = pd.Series(0, index=np.arange(visitorsBDaily['visitorsPerDateB'].sum() \n",
    "                                      - len(ordersByUsersB['transactions'])), name='transactions')\n",
    "\n",
    "sampleA = pd.concat([ordersByUsersA['transactions'], nullsA],axis=0)\n",
    "\n",
    "sampleB = pd.concat([ordersByUsersB['transactions'], nullsB],axis=0)"
   ]
  },
  {
   "cell_type": "markdown",
   "metadata": {},
   "source": [
    "1. Нулевая гипотеза: Различий в конверсии между группами A и B по «сырым» данным нет\n",
    "2. Альтернативная гипотеза: Различия в конверсии между группами A и B по «сырым» данным есть"
   ]
  },
  {
   "cell_type": "code",
   "execution_count": 44,
   "metadata": {},
   "outputs": [],
   "source": [
    "p_value_c = st.mannwhitneyu(sampleA, sampleB, alternative = 'two-sided')[1]\n",
    "\n",
    "growth_с = sampleB.mean() / sampleA.mean() - 1"
   ]
  },
  {
   "cell_type": "code",
   "execution_count": 45,
   "metadata": {},
   "outputs": [
    {
     "name": "stdout",
     "output_type": "stream",
     "text": [
      "Cтатистическая значимость различий в \u001b[1mконверсии\u001b[0m между группами по «сырым» данным: \u001b[1m\u001b[34m0.0110\u001b[0m\n",
      "\n",
      "Относительный прирост \u001b[1mконверсии\u001b[0m: \u001b[1m\u001b[34m16.0%\u001b[0m\n"
     ]
    }
   ],
   "source": [
    "print(f'Cтатистическая значимость различий в \\033[1mконверсии\\033[0m между группами по «сырым» данным: \\033[1m\\033[34m{p_value_c:.4f}\\033[0m')\n",
    "print()\n",
    "print(f'Относительный прирост \\033[1mконверсии\\033[0m: \\033[1m\\033[34m{growth_с:.1%}\\033[0m')"
   ]
  },
  {
   "cell_type": "markdown",
   "metadata": {},
   "source": [
    "*p-value меньше 0.05, это значит что различия в конверсии между группами по «сырым» данным статистически значимы, при приросте 16%*  \n",
    "*Отклоняем нулевую гипотезу в пользу альтернативной*"
   ]
  },
  {
   "cell_type": "markdown",
   "metadata": {},
   "source": [
    "### Статистическая значимость различий в среднем чеке заказа между группами по «сырым» данным"
   ]
  },
  {
   "cell_type": "markdown",
   "metadata": {},
   "source": [
    "1. Нулевая гипотеза: Различий в среднем чеке заказа между группами A и B по «сырым» данным нет\n",
    "2. Альтернативная гипотеза: Различия в среднем чеке заказа между группами A и B по «сырым» данным есть"
   ]
  },
  {
   "cell_type": "code",
   "execution_count": 46,
   "metadata": {},
   "outputs": [],
   "source": [
    "p_value_r = st.mannwhitneyu(orders_new[orders_new['group']=='A']['revenue'], orders_new[orders_new['group']=='B']['revenue']\n",
    "                            , alternative = 'two-sided')[1]\n",
    "\n",
    "growth_r = orders_new[orders_new['group']=='B']['revenue'].mean() / orders_new[orders_new['group']=='A']['revenue'].mean() - 1"
   ]
  },
  {
   "cell_type": "code",
   "execution_count": 47,
   "metadata": {},
   "outputs": [
    {
     "name": "stdout",
     "output_type": "stream",
     "text": [
      "Cтатистическая значимость различий в \u001b[1mсреднем чеке\u001b[0m заказа между группами по «сырым» данным: \u001b[1m\u001b[34m0.8295\u001b[0m\n",
      "\n",
      "Относительный прирост \u001b[1mсреднего чека\u001b[0m: \u001b[1m\u001b[34m28.7%\u001b[0m\n"
     ]
    }
   ],
   "source": [
    "print(f'Cтатистическая значимость различий в \\033[1mсреднем чеке\\033[0m заказа между группами по «сырым» данным: \\033[1m\\033[34m{p_value_r:.4f}\\033[0m')\n",
    "print()\n",
    "print(f'Относительный прирост \\033[1mсреднего чека\\033[0m: \\033[1m\\033[34m{growth_r:.1%}\\033[0m')"
   ]
  },
  {
   "cell_type": "markdown",
   "metadata": {},
   "source": [
    "*p-value больше 0.05, статистически значимых отличий в среднем чеке между группами по «сырым» данным нет, хотя относительный прирост 28.7%  \n",
    "Нулевую гипотезу отвергнуть не можем*"
   ]
  },
  {
   "cell_type": "markdown",
   "metadata": {},
   "source": [
    "### Статистическая значимость различий в конверсии между группами по «очищенным» данным"
   ]
  },
  {
   "cell_type": "markdown",
   "metadata": {},
   "source": [
    "Соберем пользователей, совершивших аномальные заказы по количеству и по стоимости в одну таблицу"
   ]
  },
  {
   "cell_type": "code",
   "execution_count": 48,
   "metadata": {},
   "outputs": [],
   "source": [
    "usersWithManyOrders = pd.concat([ordersByUsersA[ordersByUsersA['transactions'] > 1]['visitorId'],\n",
    "                                 ordersByUsersB[ordersByUsersB['transactions'] > 1]['visitorId']], axis=0)\n",
    "\n",
    "usersWithExpensiveOrders = orders_new[orders_new['revenue'] > 30000]['visitorId']\n",
    "\n",
    "abnormalUsers = (pd.concat([usersWithManyOrders, usersWithExpensiveOrders], axis=0).drop_duplicates()\n",
    "                 .sort_values())"
   ]
  },
  {
   "cell_type": "markdown",
   "metadata": {},
   "source": [
    "Отфильтруем пользователей в данных о количестве совершенных заказов"
   ]
  },
  {
   "cell_type": "code",
   "execution_count": 49,
   "metadata": {},
   "outputs": [],
   "source": [
    "sampleAFiltered = pd.concat([ordersByUsersA[np.logical_not(ordersByUsersA['visitorId'].isin(abnormalUsers))]['transactions']\n",
    "                     , nullsA], axis=0)\n",
    "\n",
    "sampleBFiltered = pd.concat([ordersByUsersB[np.logical_not(ordersByUsersB['visitorId'].isin(abnormalUsers))]['transactions']\n",
    "                     , nullsB], axis=0)"
   ]
  },
  {
   "cell_type": "markdown",
   "metadata": {},
   "source": [
    "1. Нулевая гипотеза: Различий в конверсии между группами A и B по «очищенным» данным нет\n",
    "2. Альтернативная гипотеза: Различия в конверсии между группами A и B по «очищенным» данным есть"
   ]
  },
  {
   "cell_type": "code",
   "execution_count": 50,
   "metadata": {},
   "outputs": [],
   "source": [
    "p_value_cf = st.mannwhitneyu(sampleAFiltered, sampleBFiltered, alternative = 'two-sided')[1]\n",
    "\n",
    "growth_сf = sampleBFiltered.mean() / sampleAFiltered.mean() - 1"
   ]
  },
  {
   "cell_type": "code",
   "execution_count": 51,
   "metadata": {},
   "outputs": [
    {
     "name": "stdout",
     "output_type": "stream",
     "text": [
      "Cтатистическая значимость различий в \u001b[1mконверсии\u001b[0m между группами по «очищенным» данным: \u001b[1m\u001b[34m0.0125\u001b[0m\n",
      "\n",
      "Относительный прирост \u001b[1mконверсии\u001b[0m: \u001b[1m\u001b[34m18.0%\u001b[0m\n"
     ]
    }
   ],
   "source": [
    "print(f'Cтатистическая значимость различий в \\033[1mконверсии\\033[0m между группами по «очищенным» данным: \\033[1m\\033[34m{p_value_cf:.4f}\\033[0m')\n",
    "print()\n",
    "print(f'Относительный прирост \\033[1mконверсии\\033[0m: \\033[1m\\033[34m{growth_сf:.1%}\\033[0m')"
   ]
  },
  {
   "cell_type": "markdown",
   "metadata": {},
   "source": [
    "*p-value стал еще меньше, это значит что различия в конверсии между группами действительно статистически значимы, и к тому же прирост конверсии вырос и составляет 18%  \n",
    "Отклоняем нулевую гипотезу и принимаем альтернативную*"
   ]
  },
  {
   "cell_type": "markdown",
   "metadata": {},
   "source": [
    "### Статистическая значимость различий в среднем чеке заказа между группами по «очищенным» данным"
   ]
  },
  {
   "cell_type": "markdown",
   "metadata": {},
   "source": [
    "1. Нулевая гипотеза: Различий в среднем чеке заказа между группами A и B по «очищенным» данным нет\n",
    "2. Альтернативная гипотеза: Различия в среднем чеке заказа между группами A и B по «очищенным» данным есть"
   ]
  },
  {
   "cell_type": "code",
   "execution_count": 52,
   "metadata": {},
   "outputs": [],
   "source": [
    "ordersFiltered = orders_new[np.logical_not(orders_new['visitorId'].isin(abnormalUsers))]"
   ]
  },
  {
   "cell_type": "code",
   "execution_count": 53,
   "metadata": {},
   "outputs": [],
   "source": [
    "p_value_rf = st.mannwhitneyu(ordersFiltered[ordersFiltered['group']=='A']['revenue']\n",
    "                             , ordersFiltered[ordersFiltered['group']=='B']['revenue']\n",
    "                             , alternative = 'two-sided')[1]\n",
    "\n",
    "growth_rf = (ordersFiltered[ordersFiltered['group']=='B']['revenue'].mean() \n",
    "            / ordersFiltered[ordersFiltered['group']=='A']['revenue'].mean() - 1)"
   ]
  },
  {
   "cell_type": "code",
   "execution_count": 54,
   "metadata": {
    "scrolled": true
   },
   "outputs": [
    {
     "name": "stdout",
     "output_type": "stream",
     "text": [
      "Cтатистическая значимость различий в \u001b[1mсреднем чеке\u001b[0m заказа между группами по «очищенным» данным: \u001b[1m\u001b[34m0.8290\u001b[0m\n",
      "\n",
      "Относительный прирост \u001b[1mсреднего чека\u001b[0m: \u001b[1m\u001b[34m-1.1%\u001b[0m\n"
     ]
    }
   ],
   "source": [
    "print(f'Cтатистическая значимость различий в \\033[1mсреднем чеке\\033[0m заказа между группами по «очищенным» данным: \\033[1m\\033[34m{p_value_rf:.4f}\\033[0m')\n",
    "print()\n",
    "print(f'Относительный прирост \\033[1mсреднего чека\\033[0m: \\033[1m\\033[34m{growth_rf:.1%}\\033[0m')"
   ]
  },
  {
   "cell_type": "markdown",
   "metadata": {},
   "source": [
    "*p-value практически не изменился и остался больше 0.05, значит статистически значимых отличий в среднем чеке между группами по «очищенным» данным нет, хотя теперь группа B и отстает по сумме среднего чека на 1.1%  \n",
    "Отклонить нулевую гипотезу мы не можем*"
   ]
  },
  {
   "cell_type": "markdown",
   "metadata": {},
   "source": [
    "## Вывод"
   ]
  },
  {
   "cell_type": "markdown",
   "metadata": {},
   "source": [
    "Мы загрузили данные, ознакомились с ними, проверили что все типы данных соответствуют значениям. В таблице с гипотезами привели названия столбцов к нижнему регистру.  \n",
    "Также мы выяснили, что некоторые пользователи попали сразу в обе группы теста, собрали их идентификаторы и создали новую таблицу с заказами не учитывая их.  \n",
    "Провели приоритизацию гипотез с помощью фреймворков ICE и RICE и выяснили, что в первую очередь нужно проверить гипотезу с добавлением формы подписки на все основные страницы сайта.  \n",
    "Рассчитали и построили графики кумулятивных среднего чека и конверсии, а также графики их относительного изменения.  \n",
    "С помощью точечных графиков и расчета перцентилей выявили аномалии в количествах и суммах совершаемых заказов.  \n",
    "Провели проверку гипотез о наличии различий между группами по среднему чеку и конверсии на \"сырых\" и \"очищенных\" данных с помощью U-критерия Манна-Уитни. Рассчитали относительный прирост данных показателей."
   ]
  },
  {
   "cell_type": "markdown",
   "metadata": {},
   "source": [
    "Избавившись от аномальных данных и проведя анализ A/B-теста можно принять решение остановить тест и зафиксировать победу группы B.  \n",
    "Цель по увеличению выручки достигнута.  \n",
    "Конверсия увеличилась на 18% и это значение является статистически значимым, при этом по среднему чеку статистически значимых изменений нет.  \n",
    "Посетители чаще стали совершать покупки, но предпочтения по суммам и количеству заказов остались на прежнем уровне."
   ]
  }
 ],
 "metadata": {
  "ExecuteTimeLog": [
   {
    "duration": 1136,
    "start_time": "2021-12-06T13:05:34.570Z"
   },
   {
    "duration": 19,
    "start_time": "2021-12-06T13:06:45.492Z"
   },
   {
    "duration": 11,
    "start_time": "2021-12-06T13:06:50.608Z"
   },
   {
    "duration": 269,
    "start_time": "2021-12-06T13:11:50.606Z"
   },
   {
    "duration": 4,
    "start_time": "2021-12-06T13:12:09.522Z"
   },
   {
    "duration": 8,
    "start_time": "2021-12-06T13:12:16.499Z"
   },
   {
    "duration": 6,
    "start_time": "2021-12-06T13:14:26.661Z"
   },
   {
    "duration": 11,
    "start_time": "2021-12-06T13:14:39.862Z"
   },
   {
    "duration": 5,
    "start_time": "2021-12-06T13:16:13.570Z"
   },
   {
    "duration": 10,
    "start_time": "2021-12-06T13:16:13.915Z"
   },
   {
    "duration": 6,
    "start_time": "2021-12-06T13:16:59.280Z"
   },
   {
    "duration": 10,
    "start_time": "2021-12-06T13:17:03.566Z"
   },
   {
    "duration": 6,
    "start_time": "2021-12-06T13:21:02.111Z"
   },
   {
    "duration": 10,
    "start_time": "2021-12-06T13:21:07.092Z"
   },
   {
    "duration": 5,
    "start_time": "2021-12-06T13:21:58.726Z"
   },
   {
    "duration": 10,
    "start_time": "2021-12-06T13:21:59.277Z"
   },
   {
    "duration": 3,
    "start_time": "2021-12-06T13:22:38.013Z"
   },
   {
    "duration": 9,
    "start_time": "2021-12-06T13:22:38.888Z"
   },
   {
    "duration": 10,
    "start_time": "2021-12-06T13:28:10.471Z"
   },
   {
    "duration": 1110,
    "start_time": "2021-12-06T13:28:17.699Z"
   },
   {
    "duration": 18,
    "start_time": "2021-12-06T13:28:18.811Z"
   },
   {
    "duration": 26,
    "start_time": "2021-12-06T13:28:18.831Z"
   },
   {
    "duration": 20,
    "start_time": "2021-12-06T13:28:18.858Z"
   },
   {
    "duration": 21,
    "start_time": "2021-12-06T13:28:18.879Z"
   },
   {
    "duration": 16,
    "start_time": "2021-12-06T13:28:18.902Z"
   },
   {
    "duration": 14,
    "start_time": "2021-12-06T13:28:18.919Z"
   },
   {
    "duration": 21,
    "start_time": "2021-12-06T13:28:18.935Z"
   },
   {
    "duration": 11,
    "start_time": "2021-12-06T13:28:18.957Z"
   },
   {
    "duration": 5,
    "start_time": "2021-12-06T13:28:54.394Z"
   },
   {
    "duration": 10,
    "start_time": "2021-12-06T13:28:54.983Z"
   },
   {
    "duration": 265,
    "start_time": "2021-12-06T13:30:49.268Z"
   },
   {
    "duration": 895,
    "start_time": "2021-12-06T13:31:08.185Z"
   },
   {
    "duration": 7,
    "start_time": "2021-12-06T13:31:38.118Z"
   },
   {
    "duration": 6,
    "start_time": "2021-12-06T13:35:48.530Z"
   },
   {
    "duration": 11,
    "start_time": "2021-12-06T13:35:49.416Z"
   },
   {
    "duration": 5,
    "start_time": "2021-12-06T13:36:18.187Z"
   },
   {
    "duration": 9,
    "start_time": "2021-12-06T13:36:21.580Z"
   },
   {
    "duration": 5,
    "start_time": "2021-12-06T13:40:55.656Z"
   },
   {
    "duration": 10,
    "start_time": "2021-12-06T13:40:56.071Z"
   },
   {
    "duration": 6,
    "start_time": "2021-12-06T13:41:05.934Z"
   },
   {
    "duration": 10,
    "start_time": "2021-12-06T13:41:06.466Z"
   },
   {
    "duration": 5,
    "start_time": "2021-12-06T13:41:06.903Z"
   },
   {
    "duration": 10,
    "start_time": "2021-12-06T13:41:07.569Z"
   },
   {
    "duration": 18,
    "start_time": "2021-12-06T13:41:17.549Z"
   },
   {
    "duration": 8,
    "start_time": "2021-12-06T13:41:18.181Z"
   },
   {
    "duration": 4,
    "start_time": "2021-12-06T13:41:18.502Z"
   },
   {
    "duration": 3,
    "start_time": "2021-12-06T13:41:18.886Z"
   },
   {
    "duration": 6,
    "start_time": "2021-12-06T13:41:19.208Z"
   },
   {
    "duration": 10,
    "start_time": "2021-12-06T13:41:19.534Z"
   },
   {
    "duration": 5,
    "start_time": "2021-12-06T13:41:20.325Z"
   },
   {
    "duration": 10,
    "start_time": "2021-12-06T13:41:20.873Z"
   },
   {
    "duration": 6,
    "start_time": "2021-12-06T13:42:19.762Z"
   },
   {
    "duration": 9,
    "start_time": "2021-12-06T13:42:21.172Z"
   },
   {
    "duration": 6,
    "start_time": "2021-12-06T13:42:27.762Z"
   },
   {
    "duration": 10,
    "start_time": "2021-12-06T13:42:28.249Z"
   },
   {
    "duration": 10,
    "start_time": "2021-12-06T13:42:38.121Z"
   },
   {
    "duration": 4,
    "start_time": "2021-12-06T13:45:28.000Z"
   },
   {
    "duration": 10,
    "start_time": "2021-12-06T13:45:28.766Z"
   },
   {
    "duration": 11,
    "start_time": "2021-12-06T13:49:44.806Z"
   },
   {
    "duration": 9,
    "start_time": "2021-12-06T13:50:11.645Z"
   },
   {
    "duration": 10,
    "start_time": "2021-12-06T14:07:43.860Z"
   },
   {
    "duration": 5,
    "start_time": "2021-12-06T14:28:02.099Z"
   },
   {
    "duration": 9,
    "start_time": "2021-12-06T14:28:03.036Z"
   },
   {
    "duration": 5,
    "start_time": "2021-12-06T14:28:05.151Z"
   },
   {
    "duration": 10,
    "start_time": "2021-12-06T14:28:05.837Z"
   },
   {
    "duration": 6,
    "start_time": "2021-12-06T14:36:22.408Z"
   },
   {
    "duration": 10,
    "start_time": "2021-12-06T14:36:54.853Z"
   },
   {
    "duration": 4,
    "start_time": "2021-12-06T14:39:12.456Z"
   },
   {
    "duration": 193,
    "start_time": "2021-12-06T14:39:13.779Z"
   },
   {
    "duration": 70,
    "start_time": "2021-12-06T14:39:26.296Z"
   },
   {
    "duration": 6,
    "start_time": "2021-12-06T14:39:44.876Z"
   },
   {
    "duration": 8,
    "start_time": "2021-12-06T14:40:03.704Z"
   },
   {
    "duration": 6,
    "start_time": "2021-12-06T14:40:28.080Z"
   },
   {
    "duration": 8,
    "start_time": "2021-12-06T14:40:42.183Z"
   },
   {
    "duration": 7,
    "start_time": "2021-12-06T14:41:18.169Z"
   },
   {
    "duration": 7,
    "start_time": "2021-12-06T14:41:34.495Z"
   },
   {
    "duration": 11,
    "start_time": "2021-12-06T14:41:55.893Z"
   },
   {
    "duration": 55,
    "start_time": "2021-12-06T15:02:16.514Z"
   },
   {
    "duration": 6598,
    "start_time": "2021-12-06T15:03:58.828Z"
   },
   {
    "duration": 60,
    "start_time": "2021-12-06T15:04:17.392Z"
   },
   {
    "duration": 6,
    "start_time": "2021-12-06T15:05:50.171Z"
   },
   {
    "duration": 6,
    "start_time": "2021-12-06T15:05:51.087Z"
   },
   {
    "duration": 53,
    "start_time": "2021-12-06T15:05:53.418Z"
   },
   {
    "duration": 54,
    "start_time": "2021-12-06T15:05:53.825Z"
   },
   {
    "duration": 248,
    "start_time": "2021-12-06T15:06:53.931Z"
   },
   {
    "duration": 13,
    "start_time": "2021-12-06T15:07:43.574Z"
   },
   {
    "duration": 14,
    "start_time": "2021-12-06T15:08:32.333Z"
   },
   {
    "duration": 60,
    "start_time": "2021-12-06T15:19:18.694Z"
   },
   {
    "duration": 63,
    "start_time": "2021-12-06T15:20:05.630Z"
   },
   {
    "duration": 282,
    "start_time": "2021-12-06T15:25:11.033Z"
   },
   {
    "duration": 179,
    "start_time": "2021-12-06T15:25:58.406Z"
   },
   {
    "duration": 199,
    "start_time": "2021-12-06T15:26:20.107Z"
   },
   {
    "duration": 358,
    "start_time": "2021-12-06T15:27:14.291Z"
   },
   {
    "duration": 343,
    "start_time": "2021-12-06T15:27:35.598Z"
   },
   {
    "duration": 370,
    "start_time": "2021-12-06T15:27:44.616Z"
   },
   {
    "duration": 545,
    "start_time": "2021-12-06T15:28:21.584Z"
   },
   {
    "duration": 444,
    "start_time": "2021-12-06T15:28:32.959Z"
   },
   {
    "duration": 396,
    "start_time": "2021-12-06T15:29:24.116Z"
   },
   {
    "duration": 386,
    "start_time": "2021-12-06T15:30:31.025Z"
   },
   {
    "duration": 392,
    "start_time": "2021-12-06T15:31:06.587Z"
   },
   {
    "duration": 4,
    "start_time": "2021-12-06T15:41:32.548Z"
   },
   {
    "duration": 401,
    "start_time": "2021-12-06T15:41:53.136Z"
   },
   {
    "duration": 376,
    "start_time": "2021-12-06T15:48:32.251Z"
   },
   {
    "duration": 364,
    "start_time": "2021-12-06T15:53:58.709Z"
   },
   {
    "duration": 355,
    "start_time": "2021-12-06T15:54:15.803Z"
   },
   {
    "duration": 512,
    "start_time": "2021-12-06T15:54:45.272Z"
   },
   {
    "duration": 492,
    "start_time": "2021-12-06T15:56:27.377Z"
   },
   {
    "duration": 340,
    "start_time": "2021-12-08T13:08:28.368Z"
   },
   {
    "duration": 1257,
    "start_time": "2021-12-08T13:08:41.047Z"
   },
   {
    "duration": 68,
    "start_time": "2021-12-08T13:08:42.306Z"
   },
   {
    "duration": 10,
    "start_time": "2021-12-08T13:08:42.377Z"
   },
   {
    "duration": 15,
    "start_time": "2021-12-08T13:08:42.389Z"
   },
   {
    "duration": 11,
    "start_time": "2021-12-08T13:08:42.406Z"
   },
   {
    "duration": 7,
    "start_time": "2021-12-08T13:08:42.420Z"
   },
   {
    "duration": 35,
    "start_time": "2021-12-08T13:08:42.429Z"
   },
   {
    "duration": 8,
    "start_time": "2021-12-08T13:08:42.468Z"
   },
   {
    "duration": 8,
    "start_time": "2021-12-08T13:08:42.478Z"
   },
   {
    "duration": 19,
    "start_time": "2021-12-08T13:08:42.488Z"
   },
   {
    "duration": 9,
    "start_time": "2021-12-08T13:08:42.509Z"
   },
   {
    "duration": 10,
    "start_time": "2021-12-08T13:08:42.520Z"
   },
   {
    "duration": 11,
    "start_time": "2021-12-08T13:08:42.532Z"
   },
   {
    "duration": 22,
    "start_time": "2021-12-08T13:08:42.545Z"
   },
   {
    "duration": 10,
    "start_time": "2021-12-08T13:08:42.569Z"
   },
   {
    "duration": 7,
    "start_time": "2021-12-08T13:08:42.581Z"
   },
   {
    "duration": 13,
    "start_time": "2021-12-08T13:08:42.590Z"
   },
   {
    "duration": 8,
    "start_time": "2021-12-08T13:08:42.605Z"
   },
   {
    "duration": 14,
    "start_time": "2021-12-08T13:08:42.615Z"
   },
   {
    "duration": 79,
    "start_time": "2021-12-08T13:08:42.631Z"
   },
   {
    "duration": 64,
    "start_time": "2021-12-08T13:08:42.712Z"
   },
   {
    "duration": 19,
    "start_time": "2021-12-08T13:08:42.778Z"
   },
   {
    "duration": 15,
    "start_time": "2021-12-08T13:08:42.800Z"
   },
   {
    "duration": 78,
    "start_time": "2021-12-08T13:08:42.817Z"
   },
   {
    "duration": 72,
    "start_time": "2021-12-08T13:08:42.896Z"
   },
   {
    "duration": 388,
    "start_time": "2021-12-08T13:08:42.970Z"
   },
   {
    "duration": 5,
    "start_time": "2021-12-08T13:08:43.364Z"
   },
   {
    "duration": 513,
    "start_time": "2021-12-08T13:08:43.372Z"
   },
   {
    "duration": 498,
    "start_time": "2021-12-08T13:08:43.887Z"
   },
   {
    "duration": 7,
    "start_time": "2021-12-08T13:08:44.388Z"
   },
   {
    "duration": 18,
    "start_time": "2021-12-08T13:08:44.397Z"
   },
   {
    "duration": 8,
    "start_time": "2021-12-08T13:09:15.545Z"
   },
   {
    "duration": 10,
    "start_time": "2021-12-08T13:09:28.415Z"
   },
   {
    "duration": 9,
    "start_time": "2021-12-08T13:09:55.011Z"
   },
   {
    "duration": 9,
    "start_time": "2021-12-08T13:11:15.995Z"
   },
   {
    "duration": 373,
    "start_time": "2021-12-08T13:12:32.231Z"
   },
   {
    "duration": 9,
    "start_time": "2021-12-08T13:15:30.918Z"
   },
   {
    "duration": 6,
    "start_time": "2021-12-08T13:15:31.621Z"
   },
   {
    "duration": 376,
    "start_time": "2021-12-08T13:15:32.369Z"
   },
   {
    "duration": 270,
    "start_time": "2021-12-08T13:16:40.916Z"
   },
   {
    "duration": 481,
    "start_time": "2021-12-08T13:16:52.478Z"
   },
   {
    "duration": 369,
    "start_time": "2021-12-08T13:17:35.271Z"
   },
   {
    "duration": 368,
    "start_time": "2021-12-08T13:17:57.867Z"
   },
   {
    "duration": 370,
    "start_time": "2021-12-08T13:18:20.473Z"
   },
   {
    "duration": 415,
    "start_time": "2021-12-08T13:18:29.041Z"
   },
   {
    "duration": 383,
    "start_time": "2021-12-08T13:19:51.033Z"
   },
   {
    "duration": 375,
    "start_time": "2021-12-08T13:20:10.565Z"
   },
   {
    "duration": 512,
    "start_time": "2021-12-08T13:24:20.537Z"
   },
   {
    "duration": 107,
    "start_time": "2021-12-08T13:34:34.223Z"
   },
   {
    "duration": 8,
    "start_time": "2021-12-08T13:34:44.111Z"
   },
   {
    "duration": 1224,
    "start_time": "2021-12-08T13:40:44.905Z"
   },
   {
    "duration": 67,
    "start_time": "2021-12-08T13:40:46.131Z"
   },
   {
    "duration": 7,
    "start_time": "2021-12-08T13:40:46.200Z"
   },
   {
    "duration": 12,
    "start_time": "2021-12-08T13:40:46.209Z"
   },
   {
    "duration": 12,
    "start_time": "2021-12-08T13:40:46.222Z"
   },
   {
    "duration": 9,
    "start_time": "2021-12-08T13:40:46.236Z"
   },
   {
    "duration": 10,
    "start_time": "2021-12-08T13:40:46.247Z"
   },
   {
    "duration": 14,
    "start_time": "2021-12-08T13:40:46.260Z"
   },
   {
    "duration": 11,
    "start_time": "2021-12-08T13:40:46.276Z"
   },
   {
    "duration": 15,
    "start_time": "2021-12-08T13:40:46.288Z"
   },
   {
    "duration": 15,
    "start_time": "2021-12-08T13:40:46.305Z"
   },
   {
    "duration": 15,
    "start_time": "2021-12-08T13:40:46.322Z"
   },
   {
    "duration": 14,
    "start_time": "2021-12-08T13:40:46.339Z"
   },
   {
    "duration": 17,
    "start_time": "2021-12-08T13:40:46.355Z"
   },
   {
    "duration": 22,
    "start_time": "2021-12-08T13:40:46.374Z"
   },
   {
    "duration": 16,
    "start_time": "2021-12-08T13:40:46.398Z"
   },
   {
    "duration": 20,
    "start_time": "2021-12-08T13:40:46.416Z"
   },
   {
    "duration": 9,
    "start_time": "2021-12-08T13:40:46.439Z"
   },
   {
    "duration": 14,
    "start_time": "2021-12-08T13:40:46.449Z"
   },
   {
    "duration": 60,
    "start_time": "2021-12-08T13:40:46.465Z"
   },
   {
    "duration": 67,
    "start_time": "2021-12-08T13:40:46.527Z"
   },
   {
    "duration": 25,
    "start_time": "2021-12-08T13:40:46.596Z"
   },
   {
    "duration": 23,
    "start_time": "2021-12-08T13:40:46.624Z"
   },
   {
    "duration": 64,
    "start_time": "2021-12-08T13:40:46.649Z"
   },
   {
    "duration": 74,
    "start_time": "2021-12-08T13:40:46.715Z"
   },
   {
    "duration": 401,
    "start_time": "2021-12-08T13:40:46.791Z"
   },
   {
    "duration": 4,
    "start_time": "2021-12-08T13:40:47.195Z"
   },
   {
    "duration": 398,
    "start_time": "2021-12-08T13:40:47.202Z"
   },
   {
    "duration": 449,
    "start_time": "2021-12-08T13:40:47.603Z"
   },
   {
    "duration": 17,
    "start_time": "2021-12-08T13:40:48.055Z"
   },
   {
    "duration": 30,
    "start_time": "2021-12-08T13:40:48.074Z"
   },
   {
    "duration": 365,
    "start_time": "2021-12-08T13:40:48.106Z"
   },
   {
    "duration": 472,
    "start_time": "2021-12-08T13:40:48.473Z"
   },
   {
    "duration": 121,
    "start_time": "2021-12-08T13:40:48.947Z"
   },
   {
    "duration": 299,
    "start_time": "2021-12-08T13:40:49.070Z"
   },
   {
    "duration": 464,
    "start_time": "2021-12-08T13:41:34.771Z"
   },
   {
    "duration": 91,
    "start_time": "2021-12-08T13:52:47.011Z"
   },
   {
    "duration": 91,
    "start_time": "2021-12-08T13:53:02.412Z"
   },
   {
    "duration": 5,
    "start_time": "2021-12-08T13:53:32.509Z"
   },
   {
    "duration": 4,
    "start_time": "2021-12-08T13:53:55.460Z"
   },
   {
    "duration": 5,
    "start_time": "2021-12-08T13:54:11.843Z"
   },
   {
    "duration": 5,
    "start_time": "2021-12-08T13:55:12.711Z"
   },
   {
    "duration": 115,
    "start_time": "2021-12-08T13:58:29.735Z"
   },
   {
    "duration": 5,
    "start_time": "2021-12-08T13:58:43.958Z"
   },
   {
    "duration": 5,
    "start_time": "2021-12-08T13:59:19.225Z"
   },
   {
    "duration": 6,
    "start_time": "2021-12-08T13:59:47.301Z"
   },
   {
    "duration": 5,
    "start_time": "2021-12-08T13:59:54.818Z"
   },
   {
    "duration": 5,
    "start_time": "2021-12-08T14:00:00.149Z"
   },
   {
    "duration": 4,
    "start_time": "2021-12-08T14:00:17.175Z"
   },
   {
    "duration": 5,
    "start_time": "2021-12-08T14:01:02.166Z"
   },
   {
    "duration": 6,
    "start_time": "2021-12-08T14:01:21.665Z"
   },
   {
    "duration": 5,
    "start_time": "2021-12-08T14:02:00.448Z"
   },
   {
    "duration": 6,
    "start_time": "2021-12-08T14:02:33.349Z"
   },
   {
    "duration": 6,
    "start_time": "2021-12-08T14:02:43.419Z"
   },
   {
    "duration": 5,
    "start_time": "2021-12-08T14:03:13.469Z"
   },
   {
    "duration": 5,
    "start_time": "2021-12-08T14:03:37.390Z"
   },
   {
    "duration": 5,
    "start_time": "2021-12-08T14:03:58.490Z"
   },
   {
    "duration": 5,
    "start_time": "2021-12-08T14:05:28.879Z"
   },
   {
    "duration": 5,
    "start_time": "2021-12-08T14:05:39.724Z"
   },
   {
    "duration": 5,
    "start_time": "2021-12-08T14:06:09.854Z"
   },
   {
    "duration": 6,
    "start_time": "2021-12-08T14:06:33.348Z"
   },
   {
    "duration": 6,
    "start_time": "2021-12-08T14:07:16.392Z"
   },
   {
    "duration": 5,
    "start_time": "2021-12-08T14:07:31.979Z"
   },
   {
    "duration": 4,
    "start_time": "2021-12-08T14:09:39.117Z"
   },
   {
    "duration": 7,
    "start_time": "2021-12-08T14:43:07.271Z"
   },
   {
    "duration": 336,
    "start_time": "2021-12-08T14:44:57.213Z"
   },
   {
    "duration": 353,
    "start_time": "2021-12-08T14:46:43.399Z"
   },
   {
    "duration": 349,
    "start_time": "2021-12-08T14:47:00.902Z"
   },
   {
    "duration": 412,
    "start_time": "2021-12-08T14:47:41.234Z"
   },
   {
    "duration": 340,
    "start_time": "2021-12-08T14:48:03.316Z"
   },
   {
    "duration": 6,
    "start_time": "2021-12-08T14:51:28.822Z"
   },
   {
    "duration": 342,
    "start_time": "2021-12-08T14:52:35.600Z"
   },
   {
    "duration": 251,
    "start_time": "2021-12-08T14:52:46.783Z"
   },
   {
    "duration": 85,
    "start_time": "2021-12-08T14:53:19.841Z"
   },
   {
    "duration": 265,
    "start_time": "2021-12-08T14:53:31.905Z"
   },
   {
    "duration": 6,
    "start_time": "2021-12-08T14:54:11.861Z"
   },
   {
    "duration": 6,
    "start_time": "2021-12-08T14:55:04.498Z"
   },
   {
    "duration": 84,
    "start_time": "2021-12-08T15:07:57.443Z"
   },
   {
    "duration": 272,
    "start_time": "2021-12-08T15:08:20.894Z"
   },
   {
    "duration": 345,
    "start_time": "2021-12-08T15:10:33.386Z"
   },
   {
    "duration": 138,
    "start_time": "2021-12-08T15:14:23.881Z"
   },
   {
    "duration": 7,
    "start_time": "2021-12-08T15:14:25.001Z"
   },
   {
    "duration": 7,
    "start_time": "2021-12-08T15:14:31.904Z"
   },
   {
    "duration": 8,
    "start_time": "2021-12-08T15:15:51.580Z"
   },
   {
    "duration": 5,
    "start_time": "2021-12-08T15:16:46.569Z"
   },
   {
    "duration": 8,
    "start_time": "2021-12-08T15:22:08.205Z"
   },
   {
    "duration": 6,
    "start_time": "2021-12-08T15:22:39.832Z"
   },
   {
    "duration": 4,
    "start_time": "2021-12-08T15:23:50.762Z"
   },
   {
    "duration": 3,
    "start_time": "2021-12-08T15:24:00.563Z"
   },
   {
    "duration": 3,
    "start_time": "2021-12-08T15:24:39.541Z"
   },
   {
    "duration": 4,
    "start_time": "2021-12-08T15:24:49.568Z"
   },
   {
    "duration": 6,
    "start_time": "2021-12-08T15:31:00.515Z"
   },
   {
    "duration": 4,
    "start_time": "2021-12-08T15:31:00.960Z"
   },
   {
    "duration": 8,
    "start_time": "2021-12-08T15:31:13.237Z"
   },
   {
    "duration": 9,
    "start_time": "2021-12-08T15:31:41.478Z"
   },
   {
    "duration": 4,
    "start_time": "2021-12-08T15:31:41.792Z"
   },
   {
    "duration": 3,
    "start_time": "2021-12-08T15:32:30.957Z"
   },
   {
    "duration": 4,
    "start_time": "2021-12-08T15:32:51.307Z"
   },
   {
    "duration": 253,
    "start_time": "2021-12-08T15:52:39.081Z"
   },
   {
    "duration": 7,
    "start_time": "2021-12-08T15:52:42.490Z"
   },
   {
    "duration": 4,
    "start_time": "2021-12-08T15:52:43.148Z"
   },
   {
    "duration": 4,
    "start_time": "2021-12-08T15:53:00.966Z"
   },
   {
    "duration": 6,
    "start_time": "2021-12-08T15:54:35.151Z"
   },
   {
    "duration": 5,
    "start_time": "2021-12-08T15:54:35.435Z"
   },
   {
    "duration": 242,
    "start_time": "2021-12-08T15:56:14.731Z"
   },
   {
    "duration": 11,
    "start_time": "2021-12-08T15:56:17.854Z"
   },
   {
    "duration": 4,
    "start_time": "2021-12-08T15:56:18.212Z"
   },
   {
    "duration": 8,
    "start_time": "2021-12-08T16:10:33.493Z"
   },
   {
    "duration": 6,
    "start_time": "2021-12-08T16:10:41.694Z"
   },
   {
    "duration": 8,
    "start_time": "2021-12-08T16:17:34.017Z"
   },
   {
    "duration": 249,
    "start_time": "2021-12-08T16:20:39.754Z"
   },
   {
    "duration": 7,
    "start_time": "2021-12-08T16:20:44.252Z"
   },
   {
    "duration": 4,
    "start_time": "2021-12-08T16:20:44.779Z"
   },
   {
    "duration": 7,
    "start_time": "2021-12-08T16:21:04.391Z"
   },
   {
    "duration": 4,
    "start_time": "2021-12-08T16:21:05.990Z"
   },
   {
    "duration": 249,
    "start_time": "2021-12-08T16:25:53.621Z"
   },
   {
    "duration": 259,
    "start_time": "2021-12-08T16:26:26.088Z"
   },
   {
    "duration": 5,
    "start_time": "2021-12-08T16:26:42.756Z"
   },
   {
    "duration": 14,
    "start_time": "2021-12-08T16:26:52.457Z"
   },
   {
    "duration": 15,
    "start_time": "2021-12-08T16:27:02.454Z"
   },
   {
    "duration": 5,
    "start_time": "2021-12-08T16:27:11.853Z"
   },
   {
    "duration": 14,
    "start_time": "2021-12-08T16:27:31.952Z"
   },
   {
    "duration": 246,
    "start_time": "2021-12-08T16:28:58.679Z"
   },
   {
    "duration": 9,
    "start_time": "2021-12-08T16:29:01.038Z"
   },
   {
    "duration": 5,
    "start_time": "2021-12-08T16:29:01.569Z"
   },
   {
    "duration": 292,
    "start_time": "2021-12-08T16:31:47.767Z"
   },
   {
    "duration": 13,
    "start_time": "2021-12-08T16:31:58.546Z"
   },
   {
    "duration": 11,
    "start_time": "2021-12-08T16:32:27.234Z"
   },
   {
    "duration": 4,
    "start_time": "2021-12-08T16:32:27.811Z"
   },
   {
    "duration": 9,
    "start_time": "2021-12-08T16:33:08.724Z"
   },
   {
    "duration": 4,
    "start_time": "2021-12-08T16:33:09.403Z"
   },
   {
    "duration": 18,
    "start_time": "2021-12-08T16:33:13.868Z"
   },
   {
    "duration": 1255,
    "start_time": "2021-12-08T17:00:46.429Z"
   },
   {
    "duration": 65,
    "start_time": "2021-12-08T17:00:47.686Z"
   },
   {
    "duration": 7,
    "start_time": "2021-12-08T17:00:47.754Z"
   },
   {
    "duration": 13,
    "start_time": "2021-12-08T17:00:47.763Z"
   },
   {
    "duration": 10,
    "start_time": "2021-12-08T17:00:47.778Z"
   },
   {
    "duration": 12,
    "start_time": "2021-12-08T17:00:47.789Z"
   },
   {
    "duration": 16,
    "start_time": "2021-12-08T17:00:47.803Z"
   },
   {
    "duration": 8,
    "start_time": "2021-12-08T17:00:47.823Z"
   },
   {
    "duration": 30,
    "start_time": "2021-12-08T17:00:47.834Z"
   },
   {
    "duration": 8,
    "start_time": "2021-12-08T17:00:47.866Z"
   },
   {
    "duration": 21,
    "start_time": "2021-12-08T17:00:47.875Z"
   },
   {
    "duration": 6,
    "start_time": "2021-12-08T17:00:47.899Z"
   },
   {
    "duration": 9,
    "start_time": "2021-12-08T17:00:47.906Z"
   },
   {
    "duration": 13,
    "start_time": "2021-12-08T17:00:47.917Z"
   },
   {
    "duration": 12,
    "start_time": "2021-12-08T17:00:47.932Z"
   },
   {
    "duration": 20,
    "start_time": "2021-12-08T17:00:47.946Z"
   },
   {
    "duration": 15,
    "start_time": "2021-12-08T17:00:47.968Z"
   },
   {
    "duration": 9,
    "start_time": "2021-12-08T17:00:47.985Z"
   },
   {
    "duration": 14,
    "start_time": "2021-12-08T17:00:47.996Z"
   },
   {
    "duration": 74,
    "start_time": "2021-12-08T17:00:48.012Z"
   },
   {
    "duration": 58,
    "start_time": "2021-12-08T17:00:48.087Z"
   },
   {
    "duration": 26,
    "start_time": "2021-12-08T17:00:48.147Z"
   },
   {
    "duration": 16,
    "start_time": "2021-12-08T17:00:48.177Z"
   },
   {
    "duration": 81,
    "start_time": "2021-12-08T17:00:48.196Z"
   },
   {
    "duration": 64,
    "start_time": "2021-12-08T17:00:48.280Z"
   },
   {
    "duration": 418,
    "start_time": "2021-12-08T17:00:48.345Z"
   },
   {
    "duration": 4,
    "start_time": "2021-12-08T17:00:48.765Z"
   },
   {
    "duration": 427,
    "start_time": "2021-12-08T17:00:48.771Z"
   },
   {
    "duration": 489,
    "start_time": "2021-12-08T17:00:49.200Z"
   },
   {
    "duration": 8,
    "start_time": "2021-12-08T17:00:49.691Z"
   },
   {
    "duration": 50,
    "start_time": "2021-12-08T17:00:49.701Z"
   },
   {
    "duration": 418,
    "start_time": "2021-12-08T17:00:49.754Z"
   },
   {
    "duration": 586,
    "start_time": "2021-12-08T17:00:50.174Z"
   },
   {
    "duration": 130,
    "start_time": "2021-12-08T17:00:50.763Z"
   },
   {
    "duration": 378,
    "start_time": "2021-12-08T17:00:50.895Z"
   },
   {
    "duration": 4,
    "start_time": "2021-12-08T17:00:51.275Z"
   },
   {
    "duration": 485,
    "start_time": "2021-12-08T17:00:51.281Z"
   },
   {
    "duration": 5,
    "start_time": "2021-12-08T17:00:51.769Z"
   },
   {
    "duration": 123,
    "start_time": "2021-12-08T17:00:51.776Z"
   },
   {
    "duration": 7,
    "start_time": "2021-12-08T17:00:51.901Z"
   },
   {
    "duration": 10,
    "start_time": "2021-12-08T17:00:51.910Z"
   },
   {
    "duration": 4,
    "start_time": "2021-12-08T17:00:51.921Z"
   },
   {
    "duration": 10,
    "start_time": "2021-12-08T17:00:51.927Z"
   },
   {
    "duration": 26,
    "start_time": "2021-12-08T17:00:51.939Z"
   },
   {
    "duration": 15,
    "start_time": "2021-12-08T17:00:51.967Z"
   },
   {
    "duration": 9,
    "start_time": "2021-12-08T17:00:51.984Z"
   },
   {
    "duration": 9,
    "start_time": "2021-12-08T17:00:51.995Z"
   },
   {
    "duration": 5,
    "start_time": "2021-12-08T17:00:52.006Z"
   },
   {
    "duration": 9,
    "start_time": "2021-12-08T17:00:52.013Z"
   },
   {
    "duration": 16,
    "start_time": "2021-12-08T17:00:52.023Z"
   },
   {
    "duration": 12,
    "start_time": "2021-12-08T17:00:52.041Z"
   },
   {
    "duration": 1256,
    "start_time": "2021-12-08T20:44:55.811Z"
   },
   {
    "duration": 64,
    "start_time": "2021-12-08T20:44:57.068Z"
   },
   {
    "duration": 7,
    "start_time": "2021-12-08T20:44:57.134Z"
   },
   {
    "duration": 10,
    "start_time": "2021-12-08T20:44:57.143Z"
   },
   {
    "duration": 10,
    "start_time": "2021-12-08T20:44:57.155Z"
   },
   {
    "duration": 6,
    "start_time": "2021-12-08T20:44:57.166Z"
   },
   {
    "duration": 7,
    "start_time": "2021-12-08T20:44:57.174Z"
   },
   {
    "duration": 8,
    "start_time": "2021-12-08T20:44:57.184Z"
   },
   {
    "duration": 7,
    "start_time": "2021-12-08T20:44:57.194Z"
   },
   {
    "duration": 10,
    "start_time": "2021-12-08T20:44:57.203Z"
   },
   {
    "duration": 7,
    "start_time": "2021-12-08T20:44:57.215Z"
   },
   {
    "duration": 5,
    "start_time": "2021-12-08T20:44:57.224Z"
   },
   {
    "duration": 5,
    "start_time": "2021-12-08T20:44:57.230Z"
   },
   {
    "duration": 8,
    "start_time": "2021-12-08T20:44:57.237Z"
   },
   {
    "duration": 8,
    "start_time": "2021-12-08T20:44:57.247Z"
   },
   {
    "duration": 5,
    "start_time": "2021-12-08T20:44:57.288Z"
   },
   {
    "duration": 10,
    "start_time": "2021-12-08T20:44:57.295Z"
   },
   {
    "duration": 7,
    "start_time": "2021-12-08T20:44:57.307Z"
   },
   {
    "duration": 7,
    "start_time": "2021-12-08T20:44:57.315Z"
   },
   {
    "duration": 80,
    "start_time": "2021-12-08T20:44:57.323Z"
   },
   {
    "duration": 55,
    "start_time": "2021-12-08T20:44:57.405Z"
   },
   {
    "duration": 35,
    "start_time": "2021-12-08T20:44:57.462Z"
   },
   {
    "duration": 25,
    "start_time": "2021-12-08T20:44:57.504Z"
   },
   {
    "duration": 84,
    "start_time": "2021-12-08T20:44:57.533Z"
   },
   {
    "duration": 55,
    "start_time": "2021-12-08T20:44:57.618Z"
   },
   {
    "duration": 361,
    "start_time": "2021-12-08T20:44:57.675Z"
   },
   {
    "duration": 3,
    "start_time": "2021-12-08T20:44:58.037Z"
   },
   {
    "duration": 345,
    "start_time": "2021-12-08T20:44:58.042Z"
   },
   {
    "duration": 442,
    "start_time": "2021-12-08T20:44:58.389Z"
   },
   {
    "duration": 8,
    "start_time": "2021-12-08T20:44:58.833Z"
   },
   {
    "duration": 5,
    "start_time": "2021-12-08T20:44:58.843Z"
   },
   {
    "duration": 341,
    "start_time": "2021-12-08T20:44:58.850Z"
   },
   {
    "duration": 503,
    "start_time": "2021-12-08T20:44:59.193Z"
   },
   {
    "duration": 135,
    "start_time": "2021-12-08T20:44:59.698Z"
   },
   {
    "duration": 341,
    "start_time": "2021-12-08T20:44:59.834Z"
   },
   {
    "duration": 10,
    "start_time": "2021-12-08T20:45:00.177Z"
   },
   {
    "duration": 419,
    "start_time": "2021-12-08T20:45:00.189Z"
   },
   {
    "duration": 4,
    "start_time": "2021-12-08T20:45:00.610Z"
   },
   {
    "duration": 124,
    "start_time": "2021-12-08T20:45:00.616Z"
   },
   {
    "duration": 6,
    "start_time": "2021-12-08T20:45:00.742Z"
   },
   {
    "duration": 11,
    "start_time": "2021-12-08T20:45:00.749Z"
   },
   {
    "duration": 4,
    "start_time": "2021-12-08T20:45:00.761Z"
   },
   {
    "duration": 25,
    "start_time": "2021-12-08T20:45:00.767Z"
   },
   {
    "duration": 3,
    "start_time": "2021-12-08T20:45:00.793Z"
   },
   {
    "duration": 13,
    "start_time": "2021-12-08T20:45:00.797Z"
   },
   {
    "duration": 9,
    "start_time": "2021-12-08T20:45:00.811Z"
   },
   {
    "duration": 16,
    "start_time": "2021-12-08T20:45:00.821Z"
   },
   {
    "duration": 3,
    "start_time": "2021-12-08T20:45:00.839Z"
   },
   {
    "duration": 7,
    "start_time": "2021-12-08T20:45:00.843Z"
   },
   {
    "duration": 14,
    "start_time": "2021-12-08T20:45:00.851Z"
   },
   {
    "duration": 4,
    "start_time": "2021-12-08T20:45:00.866Z"
   },
   {
    "duration": 1109,
    "start_time": "2021-12-09T01:10:48.590Z"
   },
   {
    "duration": 62,
    "start_time": "2021-12-09T01:10:49.701Z"
   },
   {
    "duration": 6,
    "start_time": "2021-12-09T01:10:49.765Z"
   },
   {
    "duration": 10,
    "start_time": "2021-12-09T01:10:49.773Z"
   },
   {
    "duration": 12,
    "start_time": "2021-12-09T01:10:49.784Z"
   },
   {
    "duration": 8,
    "start_time": "2021-12-09T01:10:49.797Z"
   },
   {
    "duration": 8,
    "start_time": "2021-12-09T01:10:49.807Z"
   },
   {
    "duration": 7,
    "start_time": "2021-12-09T01:10:49.818Z"
   },
   {
    "duration": 8,
    "start_time": "2021-12-09T01:10:49.827Z"
   },
   {
    "duration": 53,
    "start_time": "2021-12-09T01:10:49.836Z"
   },
   {
    "duration": 8,
    "start_time": "2021-12-09T01:10:49.890Z"
   },
   {
    "duration": 6,
    "start_time": "2021-12-09T01:10:49.899Z"
   },
   {
    "duration": 4,
    "start_time": "2021-12-09T01:10:49.907Z"
   },
   {
    "duration": 11,
    "start_time": "2021-12-09T01:10:49.913Z"
   },
   {
    "duration": 8,
    "start_time": "2021-12-09T01:10:49.926Z"
   },
   {
    "duration": 6,
    "start_time": "2021-12-09T01:10:49.935Z"
   },
   {
    "duration": 10,
    "start_time": "2021-12-09T01:10:49.942Z"
   },
   {
    "duration": 34,
    "start_time": "2021-12-09T01:10:49.954Z"
   },
   {
    "duration": 6,
    "start_time": "2021-12-09T01:10:49.990Z"
   },
   {
    "duration": 53,
    "start_time": "2021-12-09T01:10:49.998Z"
   },
   {
    "duration": 67,
    "start_time": "2021-12-09T01:10:50.053Z"
   },
   {
    "duration": 12,
    "start_time": "2021-12-09T01:10:50.122Z"
   },
   {
    "duration": 14,
    "start_time": "2021-12-09T01:10:50.138Z"
   },
   {
    "duration": 67,
    "start_time": "2021-12-09T01:10:50.154Z"
   },
   {
    "duration": 67,
    "start_time": "2021-12-09T01:10:50.223Z"
   },
   {
    "duration": 401,
    "start_time": "2021-12-09T01:10:50.292Z"
   },
   {
    "duration": 4,
    "start_time": "2021-12-09T01:10:50.694Z"
   },
   {
    "duration": 342,
    "start_time": "2021-12-09T01:10:50.699Z"
   },
   {
    "duration": 426,
    "start_time": "2021-12-09T01:10:51.043Z"
   },
   {
    "duration": 18,
    "start_time": "2021-12-09T01:10:51.470Z"
   },
   {
    "duration": 6,
    "start_time": "2021-12-09T01:10:51.489Z"
   },
   {
    "duration": 433,
    "start_time": "2021-12-09T01:10:51.497Z"
   },
   {
    "duration": 410,
    "start_time": "2021-12-09T01:10:51.932Z"
   },
   {
    "duration": 98,
    "start_time": "2021-12-09T01:10:52.344Z"
   },
   {
    "duration": 323,
    "start_time": "2021-12-09T01:10:52.444Z"
   },
   {
    "duration": 4,
    "start_time": "2021-12-09T01:10:52.769Z"
   },
   {
    "duration": 401,
    "start_time": "2021-12-09T01:10:52.787Z"
   },
   {
    "duration": 4,
    "start_time": "2021-12-09T01:10:53.190Z"
   },
   {
    "duration": 104,
    "start_time": "2021-12-09T01:10:53.196Z"
   },
   {
    "duration": 6,
    "start_time": "2021-12-09T01:10:53.301Z"
   },
   {
    "duration": 7,
    "start_time": "2021-12-09T01:10:53.308Z"
   },
   {
    "duration": 3,
    "start_time": "2021-12-09T01:10:53.317Z"
   },
   {
    "duration": 7,
    "start_time": "2021-12-09T01:10:53.322Z"
   },
   {
    "duration": 3,
    "start_time": "2021-12-09T01:10:53.331Z"
   },
   {
    "duration": 9,
    "start_time": "2021-12-09T01:10:53.336Z"
   },
   {
    "duration": 7,
    "start_time": "2021-12-09T01:10:53.346Z"
   },
   {
    "duration": 34,
    "start_time": "2021-12-09T01:10:53.355Z"
   },
   {
    "duration": 3,
    "start_time": "2021-12-09T01:10:53.391Z"
   },
   {
    "duration": 5,
    "start_time": "2021-12-09T01:10:53.396Z"
   },
   {
    "duration": 8,
    "start_time": "2021-12-09T01:10:53.403Z"
   },
   {
    "duration": 7,
    "start_time": "2021-12-09T01:10:53.412Z"
   },
   {
    "duration": 342,
    "start_time": "2021-12-09T01:15:21.720Z"
   },
   {
    "duration": 385,
    "start_time": "2021-12-09T01:17:19.665Z"
   },
   {
    "duration": 318,
    "start_time": "2021-12-09T13:37:25.300Z"
   },
   {
    "duration": 1220,
    "start_time": "2021-12-09T13:37:32.922Z"
   },
   {
    "duration": 64,
    "start_time": "2021-12-09T13:37:34.144Z"
   },
   {
    "duration": 9,
    "start_time": "2021-12-09T13:37:34.210Z"
   },
   {
    "duration": 10,
    "start_time": "2021-12-09T13:37:34.221Z"
   },
   {
    "duration": 10,
    "start_time": "2021-12-09T13:37:34.232Z"
   },
   {
    "duration": 5,
    "start_time": "2021-12-09T13:37:34.244Z"
   },
   {
    "duration": 8,
    "start_time": "2021-12-09T13:37:34.251Z"
   },
   {
    "duration": 10,
    "start_time": "2021-12-09T13:37:34.261Z"
   },
   {
    "duration": 7,
    "start_time": "2021-12-09T13:37:34.273Z"
   },
   {
    "duration": 11,
    "start_time": "2021-12-09T13:37:34.281Z"
   },
   {
    "duration": 7,
    "start_time": "2021-12-09T13:37:34.294Z"
   },
   {
    "duration": 7,
    "start_time": "2021-12-09T13:37:34.303Z"
   },
   {
    "duration": 43,
    "start_time": "2021-12-09T13:37:34.311Z"
   },
   {
    "duration": 5,
    "start_time": "2021-12-09T13:37:34.356Z"
   },
   {
    "duration": 8,
    "start_time": "2021-12-09T13:37:34.363Z"
   },
   {
    "duration": 11,
    "start_time": "2021-12-09T13:37:34.373Z"
   },
   {
    "duration": 5,
    "start_time": "2021-12-09T13:37:34.386Z"
   },
   {
    "duration": 10,
    "start_time": "2021-12-09T13:37:34.393Z"
   },
   {
    "duration": 6,
    "start_time": "2021-12-09T13:37:34.405Z"
   },
   {
    "duration": 34,
    "start_time": "2021-12-09T13:37:34.413Z"
   },
   {
    "duration": 58,
    "start_time": "2021-12-09T13:37:34.449Z"
   },
   {
    "duration": 73,
    "start_time": "2021-12-09T13:37:34.509Z"
   },
   {
    "duration": 12,
    "start_time": "2021-12-09T13:37:34.586Z"
   },
   {
    "duration": 14,
    "start_time": "2021-12-09T13:37:34.600Z"
   },
   {
    "duration": 82,
    "start_time": "2021-12-09T13:37:34.616Z"
   },
   {
    "duration": 72,
    "start_time": "2021-12-09T13:37:34.700Z"
   },
   {
    "duration": 441,
    "start_time": "2021-12-09T13:37:34.774Z"
   },
   {
    "duration": 4,
    "start_time": "2021-12-09T13:37:35.217Z"
   },
   {
    "duration": 397,
    "start_time": "2021-12-09T13:37:35.223Z"
   },
   {
    "duration": 501,
    "start_time": "2021-12-09T13:37:35.622Z"
   },
   {
    "duration": 8,
    "start_time": "2021-12-09T13:37:36.125Z"
   },
   {
    "duration": 11,
    "start_time": "2021-12-09T13:37:36.135Z"
   },
   {
    "duration": 408,
    "start_time": "2021-12-09T13:37:36.148Z"
   },
   {
    "duration": 458,
    "start_time": "2021-12-09T13:37:36.559Z"
   },
   {
    "duration": 134,
    "start_time": "2021-12-09T13:37:37.019Z"
   },
   {
    "duration": 389,
    "start_time": "2021-12-09T13:37:37.154Z"
   },
   {
    "duration": 6,
    "start_time": "2021-12-09T13:37:37.545Z"
   },
   {
    "duration": 513,
    "start_time": "2021-12-09T13:37:37.553Z"
   },
   {
    "duration": 6,
    "start_time": "2021-12-09T13:37:38.068Z"
   },
   {
    "duration": 137,
    "start_time": "2021-12-09T13:37:38.076Z"
   },
   {
    "duration": 7,
    "start_time": "2021-12-09T13:37:38.215Z"
   },
   {
    "duration": 21,
    "start_time": "2021-12-09T13:37:38.224Z"
   },
   {
    "duration": 5,
    "start_time": "2021-12-09T13:37:38.247Z"
   },
   {
    "duration": 29,
    "start_time": "2021-12-09T13:37:38.253Z"
   },
   {
    "duration": 4,
    "start_time": "2021-12-09T13:37:38.284Z"
   },
   {
    "duration": 13,
    "start_time": "2021-12-09T13:37:38.289Z"
   },
   {
    "duration": 8,
    "start_time": "2021-12-09T13:37:38.303Z"
   },
   {
    "duration": 7,
    "start_time": "2021-12-09T13:37:38.313Z"
   },
   {
    "duration": 3,
    "start_time": "2021-12-09T13:37:38.322Z"
   },
   {
    "duration": 4,
    "start_time": "2021-12-09T13:37:38.327Z"
   },
   {
    "duration": 8,
    "start_time": "2021-12-09T13:37:38.344Z"
   },
   {
    "duration": 8,
    "start_time": "2021-12-09T13:37:38.354Z"
   },
   {
    "duration": 12,
    "start_time": "2021-12-09T13:38:08.409Z"
   },
   {
    "duration": 8,
    "start_time": "2021-12-09T13:38:35.624Z"
   },
   {
    "duration": 373,
    "start_time": "2021-12-09T13:39:37.213Z"
   },
   {
    "duration": 7,
    "start_time": "2021-12-09T13:40:53.771Z"
   },
   {
    "duration": 7,
    "start_time": "2021-12-09T13:40:54.586Z"
   },
   {
    "duration": 5,
    "start_time": "2021-12-09T13:41:19.709Z"
   },
   {
    "duration": 267,
    "start_time": "2021-12-09T13:41:39.343Z"
   },
   {
    "duration": 88,
    "start_time": "2021-12-09T13:42:17.037Z"
   },
   {
    "duration": 281,
    "start_time": "2021-12-09T13:42:39.217Z"
   },
   {
    "duration": 265,
    "start_time": "2021-12-09T13:43:00.540Z"
   },
   {
    "duration": 6,
    "start_time": "2021-12-09T13:43:19.621Z"
   },
   {
    "duration": 4,
    "start_time": "2021-12-09T13:44:18.556Z"
   },
   {
    "duration": 4,
    "start_time": "2021-12-09T13:46:43.284Z"
   },
   {
    "duration": 277,
    "start_time": "2021-12-09T13:51:04.510Z"
   },
   {
    "duration": 294,
    "start_time": "2021-12-09T13:51:16.812Z"
   },
   {
    "duration": 4,
    "start_time": "2021-12-09T13:51:56.075Z"
   },
   {
    "duration": 14,
    "start_time": "2021-12-09T13:52:02.964Z"
   },
   {
    "duration": 6,
    "start_time": "2021-12-09T13:52:34.537Z"
   },
   {
    "duration": 6,
    "start_time": "2021-12-09T13:52:47.841Z"
   },
   {
    "duration": 4,
    "start_time": "2021-12-09T13:53:01.614Z"
   },
   {
    "duration": 15,
    "start_time": "2021-12-09T13:54:50.971Z"
   },
   {
    "duration": 14,
    "start_time": "2021-12-09T13:54:51.788Z"
   },
   {
    "duration": 61,
    "start_time": "2021-12-09T13:54:53.368Z"
   },
   {
    "duration": 56,
    "start_time": "2021-12-09T13:54:53.828Z"
   },
   {
    "duration": 408,
    "start_time": "2021-12-09T13:54:59.319Z"
   },
   {
    "duration": 420,
    "start_time": "2021-12-09T13:55:19.663Z"
   },
   {
    "duration": 409,
    "start_time": "2021-12-09T13:55:25.019Z"
   },
   {
    "duration": 4,
    "start_time": "2021-12-09T13:55:37.064Z"
   },
   {
    "duration": 357,
    "start_time": "2021-12-09T13:55:38.343Z"
   },
   {
    "duration": 450,
    "start_time": "2021-12-09T13:55:56.663Z"
   },
   {
    "duration": 11,
    "start_time": "2021-12-09T13:56:16.624Z"
   },
   {
    "duration": 3,
    "start_time": "2021-12-09T13:56:17.712Z"
   },
   {
    "duration": 355,
    "start_time": "2021-12-09T13:56:19.135Z"
   },
   {
    "duration": 460,
    "start_time": "2021-12-09T13:56:36.655Z"
   },
   {
    "duration": 162,
    "start_time": "2021-12-09T13:56:49.349Z"
   },
   {
    "duration": 339,
    "start_time": "2021-12-09T13:56:50.681Z"
   },
   {
    "duration": 5,
    "start_time": "2021-12-09T13:57:10.978Z"
   },
   {
    "duration": 334,
    "start_time": "2021-12-09T13:57:41.602Z"
   },
   {
    "duration": 5,
    "start_time": "2021-12-09T13:57:53.174Z"
   },
   {
    "duration": 5,
    "start_time": "2021-12-09T13:58:00.352Z"
   },
   {
    "duration": 98,
    "start_time": "2021-12-09T13:58:50.581Z"
   },
   {
    "duration": 8,
    "start_time": "2021-12-09T13:59:13.677Z"
   },
   {
    "duration": 8,
    "start_time": "2021-12-09T13:59:17.231Z"
   },
   {
    "duration": 5,
    "start_time": "2021-12-09T13:59:25.047Z"
   },
   {
    "duration": 9,
    "start_time": "2021-12-09T13:59:46.787Z"
   },
   {
    "duration": 3,
    "start_time": "2021-12-09T13:59:48.724Z"
   },
   {
    "duration": 8,
    "start_time": "2021-12-09T14:00:05.995Z"
   },
   {
    "duration": 8,
    "start_time": "2021-12-09T14:00:16.672Z"
   },
   {
    "duration": 6,
    "start_time": "2021-12-09T14:00:24.930Z"
   },
   {
    "duration": 7,
    "start_time": "2021-12-09T14:00:28.496Z"
   },
   {
    "duration": 3,
    "start_time": "2021-12-09T14:00:31.539Z"
   },
   {
    "duration": 4,
    "start_time": "2021-12-09T14:00:57.649Z"
   },
   {
    "duration": 77,
    "start_time": "2021-12-09T14:00:58.848Z"
   },
   {
    "duration": 5,
    "start_time": "2021-12-09T14:01:00.933Z"
   },
   {
    "duration": 14,
    "start_time": "2021-12-09T14:01:48.163Z"
   },
   {
    "duration": 7,
    "start_time": "2021-12-09T14:02:08.496Z"
   },
   {
    "duration": 569,
    "start_time": "2021-12-09T14:09:26.007Z"
   },
   {
    "duration": 20,
    "start_time": "2021-12-09T14:09:59.123Z"
   },
   {
    "duration": 8,
    "start_time": "2021-12-09T14:10:23.888Z"
   },
   {
    "duration": 10,
    "start_time": "2021-12-09T14:10:26.240Z"
   },
   {
    "duration": 275,
    "start_time": "2021-12-09T14:10:56.659Z"
   },
   {
    "duration": 8,
    "start_time": "2021-12-09T14:11:04.296Z"
   },
   {
    "duration": 20,
    "start_time": "2021-12-09T14:15:58.582Z"
   },
   {
    "duration": 19,
    "start_time": "2021-12-09T14:16:30.966Z"
   },
   {
    "duration": 17,
    "start_time": "2021-12-09T14:16:46.435Z"
   },
   {
    "duration": 19,
    "start_time": "2021-12-09T14:17:14.232Z"
   },
   {
    "duration": 11,
    "start_time": "2021-12-09T14:18:20.321Z"
   },
   {
    "duration": 1166,
    "start_time": "2021-12-09T14:18:40.914Z"
   },
   {
    "duration": 65,
    "start_time": "2021-12-09T14:18:42.081Z"
   },
   {
    "duration": 6,
    "start_time": "2021-12-09T14:18:42.148Z"
   },
   {
    "duration": 14,
    "start_time": "2021-12-09T14:18:42.156Z"
   },
   {
    "duration": 35,
    "start_time": "2021-12-09T14:18:42.171Z"
   },
   {
    "duration": 9,
    "start_time": "2021-12-09T14:18:42.208Z"
   },
   {
    "duration": 23,
    "start_time": "2021-12-09T14:18:42.218Z"
   },
   {
    "duration": 22,
    "start_time": "2021-12-09T14:18:42.244Z"
   },
   {
    "duration": 21,
    "start_time": "2021-12-09T14:18:42.268Z"
   },
   {
    "duration": 27,
    "start_time": "2021-12-09T14:18:42.290Z"
   },
   {
    "duration": 11,
    "start_time": "2021-12-09T14:18:42.319Z"
   },
   {
    "duration": 27,
    "start_time": "2021-12-09T14:18:42.332Z"
   },
   {
    "duration": 14,
    "start_time": "2021-12-09T14:18:42.361Z"
   },
   {
    "duration": 5,
    "start_time": "2021-12-09T14:18:42.377Z"
   },
   {
    "duration": 7,
    "start_time": "2021-12-09T14:18:42.384Z"
   },
   {
    "duration": 12,
    "start_time": "2021-12-09T14:18:42.393Z"
   },
   {
    "duration": 22,
    "start_time": "2021-12-09T14:18:42.406Z"
   },
   {
    "duration": 33,
    "start_time": "2021-12-09T14:18:42.430Z"
   },
   {
    "duration": 21,
    "start_time": "2021-12-09T14:18:42.465Z"
   },
   {
    "duration": 569,
    "start_time": "2021-12-09T14:18:42.488Z"
   },
   {
    "duration": 22,
    "start_time": "2021-12-09T14:18:43.059Z"
   },
   {
    "duration": 6,
    "start_time": "2021-12-09T14:18:43.083Z"
   },
   {
    "duration": 5,
    "start_time": "2021-12-09T14:18:43.093Z"
   },
   {
    "duration": 77,
    "start_time": "2021-12-09T14:18:43.100Z"
   },
   {
    "duration": 65,
    "start_time": "2021-12-09T14:18:43.179Z"
   },
   {
    "duration": 16,
    "start_time": "2021-12-09T14:18:43.246Z"
   },
   {
    "duration": 13,
    "start_time": "2021-12-09T14:18:43.263Z"
   },
   {
    "duration": 81,
    "start_time": "2021-12-09T14:18:43.277Z"
   },
   {
    "duration": 64,
    "start_time": "2021-12-09T14:18:43.360Z"
   },
   {
    "duration": 461,
    "start_time": "2021-12-09T14:18:43.444Z"
   },
   {
    "duration": 5,
    "start_time": "2021-12-09T14:18:43.907Z"
   },
   {
    "duration": 385,
    "start_time": "2021-12-09T14:18:43.913Z"
   },
   {
    "duration": 572,
    "start_time": "2021-12-09T14:18:44.300Z"
   },
   {
    "duration": 9,
    "start_time": "2021-12-09T14:18:44.873Z"
   },
   {
    "duration": 5,
    "start_time": "2021-12-09T14:18:44.884Z"
   },
   {
    "duration": 456,
    "start_time": "2021-12-09T14:18:44.891Z"
   },
   {
    "duration": 491,
    "start_time": "2021-12-09T14:18:45.348Z"
   },
   {
    "duration": 124,
    "start_time": "2021-12-09T14:18:45.845Z"
   },
   {
    "duration": 387,
    "start_time": "2021-12-09T14:18:45.971Z"
   },
   {
    "duration": 5,
    "start_time": "2021-12-09T14:18:46.360Z"
   },
   {
    "duration": 396,
    "start_time": "2021-12-09T14:18:46.366Z"
   },
   {
    "duration": 5,
    "start_time": "2021-12-09T14:18:46.764Z"
   },
   {
    "duration": 143,
    "start_time": "2021-12-09T14:18:46.771Z"
   },
   {
    "duration": 7,
    "start_time": "2021-12-09T14:18:46.916Z"
   },
   {
    "duration": 22,
    "start_time": "2021-12-09T14:18:46.925Z"
   },
   {
    "duration": 25,
    "start_time": "2021-12-09T14:18:46.949Z"
   },
   {
    "duration": 32,
    "start_time": "2021-12-09T14:18:46.976Z"
   },
   {
    "duration": 32,
    "start_time": "2021-12-09T14:18:47.010Z"
   },
   {
    "duration": 32,
    "start_time": "2021-12-09T14:18:47.044Z"
   },
   {
    "duration": 24,
    "start_time": "2021-12-09T14:18:47.078Z"
   },
   {
    "duration": 28,
    "start_time": "2021-12-09T14:18:47.104Z"
   },
   {
    "duration": 42,
    "start_time": "2021-12-09T14:18:47.134Z"
   },
   {
    "duration": 24,
    "start_time": "2021-12-09T14:18:47.178Z"
   },
   {
    "duration": 29,
    "start_time": "2021-12-09T14:18:47.204Z"
   },
   {
    "duration": 43,
    "start_time": "2021-12-09T14:18:47.235Z"
   },
   {
    "duration": 18,
    "start_time": "2021-12-09T14:19:23.281Z"
   },
   {
    "duration": 5,
    "start_time": "2021-12-09T14:19:46.628Z"
   },
   {
    "duration": 371,
    "start_time": "2021-12-09T14:20:37.874Z"
   },
   {
    "duration": 5,
    "start_time": "2021-12-09T14:20:48.481Z"
   },
   {
    "duration": 2262,
    "start_time": "2021-12-09T14:21:47.583Z"
   },
   {
    "duration": 5,
    "start_time": "2021-12-09T14:21:52.203Z"
   },
   {
    "duration": 7118,
    "start_time": "2021-12-09T14:22:53.491Z"
   },
   {
    "duration": 17,
    "start_time": "2021-12-09T14:23:34.785Z"
   },
   {
    "duration": 11,
    "start_time": "2021-12-09T14:23:51.044Z"
   },
   {
    "duration": 12,
    "start_time": "2021-12-09T14:24:14.461Z"
   },
   {
    "duration": 10,
    "start_time": "2021-12-09T14:24:37.995Z"
   },
   {
    "duration": 3894,
    "start_time": "2021-12-09T14:24:46.537Z"
   },
   {
    "duration": 3,
    "start_time": "2021-12-09T14:25:01.565Z"
   },
   {
    "duration": 10,
    "start_time": "2021-12-09T14:25:14.799Z"
   },
   {
    "duration": 3,
    "start_time": "2021-12-09T14:25:16.791Z"
   },
   {
    "duration": 89,
    "start_time": "2021-12-09T14:26:12.689Z"
   },
   {
    "duration": 17,
    "start_time": "2021-12-09T14:26:18.744Z"
   },
   {
    "duration": 101,
    "start_time": "2021-12-09T14:31:42.055Z"
   },
   {
    "duration": 20,
    "start_time": "2021-12-09T14:31:48.380Z"
   },
   {
    "duration": 15,
    "start_time": "2021-12-09T14:32:13.640Z"
   },
   {
    "duration": 15,
    "start_time": "2021-12-09T14:32:35.258Z"
   },
   {
    "duration": 395,
    "start_time": "2021-12-09T14:45:15.226Z"
   },
   {
    "duration": 400,
    "start_time": "2021-12-09T14:45:25.416Z"
   },
   {
    "duration": 400,
    "start_time": "2021-12-09T14:45:39.714Z"
   },
   {
    "duration": 382,
    "start_time": "2021-12-09T14:45:50.833Z"
   },
   {
    "duration": 406,
    "start_time": "2021-12-09T14:46:02.066Z"
   },
   {
    "duration": 391,
    "start_time": "2021-12-09T14:46:19.244Z"
   },
   {
    "duration": 475,
    "start_time": "2021-12-09T14:46:29.891Z"
   },
   {
    "duration": 380,
    "start_time": "2021-12-09T14:46:50.700Z"
   },
   {
    "duration": 467,
    "start_time": "2021-12-09T14:48:57.611Z"
   },
   {
    "duration": 98,
    "start_time": "2021-12-09T14:49:50.107Z"
   },
   {
    "duration": 476,
    "start_time": "2021-12-09T14:50:22.659Z"
   },
   {
    "duration": 449,
    "start_time": "2021-12-09T14:53:08.783Z"
   },
   {
    "duration": 447,
    "start_time": "2021-12-09T15:05:18.015Z"
   },
   {
    "duration": 380,
    "start_time": "2021-12-09T15:05:48.973Z"
   },
   {
    "duration": 439,
    "start_time": "2021-12-09T15:06:12.427Z"
   },
   {
    "duration": 408,
    "start_time": "2021-12-09T15:06:45.738Z"
   },
   {
    "duration": 1092,
    "start_time": "2021-12-09T15:31:38.590Z"
   },
   {
    "duration": 64,
    "start_time": "2021-12-09T15:31:39.684Z"
   },
   {
    "duration": 20,
    "start_time": "2021-12-09T15:31:39.750Z"
   },
   {
    "duration": 20,
    "start_time": "2021-12-09T15:31:39.772Z"
   },
   {
    "duration": 27,
    "start_time": "2021-12-09T15:31:39.794Z"
   },
   {
    "duration": 12,
    "start_time": "2021-12-09T15:31:39.823Z"
   },
   {
    "duration": 39,
    "start_time": "2021-12-09T15:31:39.837Z"
   },
   {
    "duration": 28,
    "start_time": "2021-12-09T15:31:39.878Z"
   },
   {
    "duration": 22,
    "start_time": "2021-12-09T15:31:39.908Z"
   },
   {
    "duration": 32,
    "start_time": "2021-12-09T15:31:39.932Z"
   },
   {
    "duration": 19,
    "start_time": "2021-12-09T15:31:39.966Z"
   },
   {
    "duration": 22,
    "start_time": "2021-12-09T15:31:39.987Z"
   },
   {
    "duration": 30,
    "start_time": "2021-12-09T15:31:40.011Z"
   },
   {
    "duration": 20,
    "start_time": "2021-12-09T15:31:40.043Z"
   },
   {
    "duration": 21,
    "start_time": "2021-12-09T15:31:40.065Z"
   },
   {
    "duration": 13,
    "start_time": "2021-12-09T15:31:40.088Z"
   },
   {
    "duration": 28,
    "start_time": "2021-12-09T15:31:40.103Z"
   },
   {
    "duration": 12,
    "start_time": "2021-12-09T15:31:40.133Z"
   },
   {
    "duration": 7,
    "start_time": "2021-12-09T15:31:40.147Z"
   },
   {
    "duration": 616,
    "start_time": "2021-12-09T15:31:40.155Z"
   },
   {
    "duration": 10,
    "start_time": "2021-12-09T15:31:40.773Z"
   },
   {
    "duration": 7,
    "start_time": "2021-12-09T15:31:40.785Z"
   },
   {
    "duration": 5,
    "start_time": "2021-12-09T15:31:40.796Z"
   },
   {
    "duration": 70,
    "start_time": "2021-12-09T15:31:40.803Z"
   },
   {
    "duration": 54,
    "start_time": "2021-12-09T15:31:40.875Z"
   },
   {
    "duration": 23,
    "start_time": "2021-12-09T15:31:40.931Z"
   },
   {
    "duration": 11,
    "start_time": "2021-12-09T15:31:40.956Z"
   },
   {
    "duration": 75,
    "start_time": "2021-12-09T15:31:40.969Z"
   },
   {
    "duration": 59,
    "start_time": "2021-12-09T15:31:41.046Z"
   },
   {
    "duration": 434,
    "start_time": "2021-12-09T15:31:41.106Z"
   },
   {
    "duration": 4,
    "start_time": "2021-12-09T15:31:41.542Z"
   },
   {
    "duration": 388,
    "start_time": "2021-12-09T15:31:41.547Z"
   },
   {
    "duration": 530,
    "start_time": "2021-12-09T15:31:41.937Z"
   },
   {
    "duration": 8,
    "start_time": "2021-12-09T15:31:42.469Z"
   },
   {
    "duration": 5,
    "start_time": "2021-12-09T15:31:42.479Z"
   },
   {
    "duration": 435,
    "start_time": "2021-12-09T15:31:42.485Z"
   },
   {
    "duration": 492,
    "start_time": "2021-12-09T15:31:42.922Z"
   },
   {
    "duration": 99,
    "start_time": "2021-12-09T15:31:43.415Z"
   },
   {
    "duration": 380,
    "start_time": "2021-12-09T15:31:43.515Z"
   },
   {
    "duration": 4,
    "start_time": "2021-12-09T15:31:43.897Z"
   },
   {
    "duration": 386,
    "start_time": "2021-12-09T15:31:43.902Z"
   },
   {
    "duration": 4,
    "start_time": "2021-12-09T15:31:44.290Z"
   },
   {
    "duration": 118,
    "start_time": "2021-12-09T15:31:44.296Z"
   },
   {
    "duration": 6,
    "start_time": "2021-12-09T15:31:44.416Z"
   },
   {
    "duration": 26,
    "start_time": "2021-12-09T15:31:44.424Z"
   },
   {
    "duration": 14,
    "start_time": "2021-12-09T15:31:44.452Z"
   },
   {
    "duration": 10,
    "start_time": "2021-12-09T15:31:44.468Z"
   },
   {
    "duration": 4,
    "start_time": "2021-12-09T15:31:44.480Z"
   },
   {
    "duration": 13,
    "start_time": "2021-12-09T15:31:44.486Z"
   },
   {
    "duration": 14,
    "start_time": "2021-12-09T15:31:44.501Z"
   },
   {
    "duration": 8,
    "start_time": "2021-12-09T15:31:44.517Z"
   },
   {
    "duration": 4,
    "start_time": "2021-12-09T15:31:44.527Z"
   },
   {
    "duration": 14,
    "start_time": "2021-12-09T15:31:44.533Z"
   },
   {
    "duration": 14,
    "start_time": "2021-12-09T15:31:44.550Z"
   },
   {
    "duration": 4,
    "start_time": "2021-12-09T15:31:44.566Z"
   },
   {
    "duration": 399,
    "start_time": "2021-12-09T15:35:31.348Z"
   },
   {
    "duration": 391,
    "start_time": "2021-12-09T15:35:48.656Z"
   },
   {
    "duration": 401,
    "start_time": "2021-12-09T15:37:04.668Z"
   },
   {
    "duration": 395,
    "start_time": "2021-12-09T15:37:13.696Z"
   },
   {
    "duration": 397,
    "start_time": "2021-12-09T15:37:30.124Z"
   },
   {
    "duration": 386,
    "start_time": "2021-12-09T15:37:47.548Z"
   },
   {
    "duration": 413,
    "start_time": "2021-12-09T15:38:11.342Z"
   },
   {
    "duration": 4,
    "start_time": "2021-12-09T15:43:41.714Z"
   },
   {
    "duration": 403,
    "start_time": "2021-12-09T15:43:43.781Z"
   },
   {
    "duration": 14,
    "start_time": "2021-12-09T15:43:50.751Z"
   },
   {
    "duration": 329,
    "start_time": "2021-12-09T15:44:37.213Z"
   },
   {
    "duration": 302,
    "start_time": "2021-12-09T15:44:58.510Z"
   },
   {
    "duration": 4,
    "start_time": "2021-12-09T15:45:05.580Z"
   },
   {
    "duration": 101,
    "start_time": "2021-12-09T15:45:05.587Z"
   },
   {
    "duration": 1092,
    "start_time": "2021-12-09T15:46:33.676Z"
   },
   {
    "duration": 65,
    "start_time": "2021-12-09T15:46:34.770Z"
   },
   {
    "duration": 20,
    "start_time": "2021-12-09T15:46:34.837Z"
   },
   {
    "duration": 25,
    "start_time": "2021-12-09T15:46:34.859Z"
   },
   {
    "duration": 29,
    "start_time": "2021-12-09T15:46:34.886Z"
   },
   {
    "duration": 6,
    "start_time": "2021-12-09T15:46:34.917Z"
   },
   {
    "duration": 32,
    "start_time": "2021-12-09T15:46:34.924Z"
   },
   {
    "duration": 16,
    "start_time": "2021-12-09T15:46:34.959Z"
   },
   {
    "duration": 20,
    "start_time": "2021-12-09T15:46:34.977Z"
   },
   {
    "duration": 20,
    "start_time": "2021-12-09T15:46:34.999Z"
   },
   {
    "duration": 29,
    "start_time": "2021-12-09T15:46:35.021Z"
   },
   {
    "duration": 16,
    "start_time": "2021-12-09T15:46:35.052Z"
   },
   {
    "duration": 22,
    "start_time": "2021-12-09T15:46:35.069Z"
   },
   {
    "duration": 23,
    "start_time": "2021-12-09T15:46:35.093Z"
   },
   {
    "duration": 19,
    "start_time": "2021-12-09T15:46:35.117Z"
   },
   {
    "duration": 6,
    "start_time": "2021-12-09T15:46:35.138Z"
   },
   {
    "duration": 19,
    "start_time": "2021-12-09T15:46:35.146Z"
   },
   {
    "duration": 9,
    "start_time": "2021-12-09T15:46:35.166Z"
   },
   {
    "duration": 6,
    "start_time": "2021-12-09T15:46:35.176Z"
   },
   {
    "duration": 529,
    "start_time": "2021-12-09T15:46:35.183Z"
   },
   {
    "duration": 5,
    "start_time": "2021-12-09T15:46:35.714Z"
   },
   {
    "duration": 10,
    "start_time": "2021-12-09T15:46:35.721Z"
   },
   {
    "duration": 58,
    "start_time": "2021-12-09T15:46:35.744Z"
   },
   {
    "duration": 66,
    "start_time": "2021-12-09T15:46:35.805Z"
   },
   {
    "duration": 16,
    "start_time": "2021-12-09T15:46:35.873Z"
   },
   {
    "duration": 14,
    "start_time": "2021-12-09T15:46:35.891Z"
   },
   {
    "duration": 76,
    "start_time": "2021-12-09T15:46:35.907Z"
   },
   {
    "duration": 72,
    "start_time": "2021-12-09T15:46:35.986Z"
   },
   {
    "duration": 436,
    "start_time": "2021-12-09T15:46:36.060Z"
   },
   {
    "duration": 5,
    "start_time": "2021-12-09T15:46:36.498Z"
   },
   {
    "duration": 413,
    "start_time": "2021-12-09T15:46:36.505Z"
   },
   {
    "duration": 535,
    "start_time": "2021-12-09T15:46:36.920Z"
   },
   {
    "duration": 8,
    "start_time": "2021-12-09T15:46:37.456Z"
   },
   {
    "duration": 36,
    "start_time": "2021-12-09T15:46:37.466Z"
   },
   {
    "duration": 448,
    "start_time": "2021-12-09T15:46:37.504Z"
   },
   {
    "duration": 460,
    "start_time": "2021-12-09T15:46:37.954Z"
   },
   {
    "duration": 99,
    "start_time": "2021-12-09T15:46:38.416Z"
   },
   {
    "duration": 411,
    "start_time": "2021-12-09T15:46:38.516Z"
   },
   {
    "duration": 4,
    "start_time": "2021-12-09T15:46:38.929Z"
   },
   {
    "duration": 391,
    "start_time": "2021-12-09T15:46:38.935Z"
   },
   {
    "duration": 9,
    "start_time": "2021-12-09T15:46:39.328Z"
   },
   {
    "duration": 157,
    "start_time": "2021-12-09T15:46:39.345Z"
   },
   {
    "duration": 8,
    "start_time": "2021-12-09T15:46:39.504Z"
   },
   {
    "duration": 12,
    "start_time": "2021-12-09T15:46:39.514Z"
   },
   {
    "duration": 3,
    "start_time": "2021-12-09T15:46:39.528Z"
   },
   {
    "duration": 9,
    "start_time": "2021-12-09T15:46:39.545Z"
   },
   {
    "duration": 5,
    "start_time": "2021-12-09T15:46:39.556Z"
   },
   {
    "duration": 9,
    "start_time": "2021-12-09T15:46:39.563Z"
   },
   {
    "duration": 11,
    "start_time": "2021-12-09T15:46:39.574Z"
   },
   {
    "duration": 6,
    "start_time": "2021-12-09T15:46:39.586Z"
   },
   {
    "duration": 4,
    "start_time": "2021-12-09T15:46:39.594Z"
   },
   {
    "duration": 5,
    "start_time": "2021-12-09T15:46:39.599Z"
   },
   {
    "duration": 41,
    "start_time": "2021-12-09T15:46:39.606Z"
   },
   {
    "duration": 8,
    "start_time": "2021-12-09T15:46:39.649Z"
   }
  ],
  "kernelspec": {
   "display_name": "Python 3 (ipykernel)",
   "language": "python",
   "name": "python3"
  },
  "language_info": {
   "codemirror_mode": {
    "name": "ipython",
    "version": 3
   },
   "file_extension": ".py",
   "mimetype": "text/x-python",
   "name": "python",
   "nbconvert_exporter": "python",
   "pygments_lexer": "ipython3",
   "version": "3.10.2"
  },
  "toc": {
   "base_numbering": 1,
   "nav_menu": {},
   "number_sections": true,
   "sideBar": true,
   "skip_h1_title": true,
   "title_cell": "Table of Contents",
   "title_sidebar": "Contents",
   "toc_cell": false,
   "toc_position": {},
   "toc_section_display": true,
   "toc_window_display": false
  }
 },
 "nbformat": 4,
 "nbformat_minor": 2
}
